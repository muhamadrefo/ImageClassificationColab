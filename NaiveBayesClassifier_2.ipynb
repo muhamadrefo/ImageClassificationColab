{
  "nbformat": 4,
  "nbformat_minor": 0,
  "metadata": {
    "colab": {
      "name": "NaiveBayesClassifier #2.ipynb",
      "provenance": [],
      "authorship_tag": "ABX9TyNLRHhBtbRvCQ2B6vyCIDQe",
      "include_colab_link": true
    },
    "kernelspec": {
      "name": "python3",
      "display_name": "Python 3"
    }
  },
  "cells": [
    {
      "cell_type": "markdown",
      "metadata": {
        "id": "view-in-github",
        "colab_type": "text"
      },
      "source": [
        "<a href=\"https://colab.research.google.com/github/muhamadrefo/ImageClassificationColab/blob/master/NaiveBayesClassifier_2.ipynb\" target=\"_parent\"><img src=\"https://colab.research.google.com/assets/colab-badge.svg\" alt=\"Open In Colab\"/></a>"
      ]
    },
    {
      "cell_type": "markdown",
      "metadata": {
        "id": "hUSzoRIphpUT",
        "colab_type": "text"
      },
      "source": [
        "# Prepare Environment"
      ]
    },
    {
      "cell_type": "code",
      "metadata": {
        "id": "Ll5cIcR1qCPz",
        "colab_type": "code",
        "colab": {
          "base_uri": "https://localhost:8080/",
          "height": 122
        },
        "outputId": "9bae98e7-944b-435d-f2f6-ccfeca5265a6"
      },
      "source": [
        "from google.colab import drive\n",
        "drive.mount('/content/drive')"
      ],
      "execution_count": 1,
      "outputs": [
        {
          "output_type": "stream",
          "text": [
            "Go to this URL in a browser: https://accounts.google.com/o/oauth2/auth?client_id=947318989803-6bn6qk8qdgf4n4g3pfee6491hc0brc4i.apps.googleusercontent.com&redirect_uri=urn%3aietf%3awg%3aoauth%3a2.0%3aoob&response_type=code&scope=email%20https%3a%2f%2fwww.googleapis.com%2fauth%2fdocs.test%20https%3a%2f%2fwww.googleapis.com%2fauth%2fdrive%20https%3a%2f%2fwww.googleapis.com%2fauth%2fdrive.photos.readonly%20https%3a%2f%2fwww.googleapis.com%2fauth%2fpeopleapi.readonly\n",
            "\n",
            "Enter your authorization code:\n",
            "··········\n",
            "Mounted at /content/drive\n"
          ],
          "name": "stdout"
        }
      ]
    },
    {
      "cell_type": "code",
      "metadata": {
        "id": "D9d2Z58gqR2A",
        "colab_type": "code",
        "colab": {}
      },
      "source": [
        "#Importing Packages\n",
        "\n",
        "import matplotlib.pyplot as plt\n",
        "import csv\n",
        "import numpy as np\n",
        "import pandas as pd\n",
        "#import seaborn as sns\n",
        "#from datetime import datetime\n",
        "#from matplotlib.colors import ListedColormap\n",
        "#from pandas.plotting import scatter_matrix\n",
        "#from sklearn.tree import DecisionTreeClassifier\n",
        "#from sklearn.tree import export_graphviz\n",
        "from sklearn import model_selection\n",
        "from sklearn.model_selection import train_test_split as tt\n",
        "from sklearn.metrics import classification_report\n",
        "from sklearn.metrics import confusion_matrix\n",
        "from sklearn.metrics import accuracy_score\n",
        "\n",
        "%matplotlib inline"
      ],
      "execution_count": 2,
      "outputs": []
    },
    {
      "cell_type": "code",
      "metadata": {
        "id": "vxXMGOmrqSRE",
        "colab_type": "code",
        "colab": {
          "base_uri": "https://localhost:8080/",
          "height": 34
        },
        "outputId": "754d6069-213e-43ea-d3b0-47ffc9e45a58"
      },
      "source": [
        "#Filtered Dataset\n",
        "%cd /content/drive/My Drive/TestingPlace/PlaceofDatabase/CNN/\n",
        "#Unfiltered Dataset\n",
        "#%cd /content/drive/My Drive/Batik/"
      ],
      "execution_count": 4,
      "outputs": [
        {
          "output_type": "stream",
          "text": [
            "/content/drive/My Drive/TestingPlace/PlaceofDatabase/CNN\n"
          ],
          "name": "stdout"
        }
      ]
    },
    {
      "cell_type": "markdown",
      "metadata": {
        "id": "5HoA9_8Shxmw",
        "colab_type": "text"
      },
      "source": [
        "#Reading dataset"
      ]
    },
    {
      "cell_type": "code",
      "metadata": {
        "id": "DtBkf3yHqSNu",
        "colab_type": "code",
        "colab": {
          "base_uri": "https://localhost:8080/",
          "height": 514
        },
        "outputId": "4e714c65-3851-4f42-8c78-355c59afbfc8"
      },
      "source": [
        "#col_names = [\"Path\", \"Dissimilarity\", \"Contrast\", \"Homogeneity\", \"Energy\", \"Correlation\", \"ASM\" , \"Label\"]\n",
        "#datatrain = pd.read_csv('DataTraining.csv', names=col_names)\n",
        "\n",
        "#data_train = pd.read_csv('DataTraining.csv') #DataTraining.csv nor DataValidation.csv\n",
        "data_train = pd.read_csv('DataValidation.csv')\n",
        "pd.set_option('display.max_columns', 100)\n",
        "data_train.head(15) #display first 15 data"
      ],
      "execution_count": 17,
      "outputs": [
        {
          "output_type": "execute_result",
          "data": {
            "text/html": [
              "<div>\n",
              "<style scoped>\n",
              "    .dataframe tbody tr th:only-of-type {\n",
              "        vertical-align: middle;\n",
              "    }\n",
              "\n",
              "    .dataframe tbody tr th {\n",
              "        vertical-align: top;\n",
              "    }\n",
              "\n",
              "    .dataframe thead th {\n",
              "        text-align: right;\n",
              "    }\n",
              "</style>\n",
              "<table border=\"1\" class=\"dataframe\">\n",
              "  <thead>\n",
              "    <tr style=\"text-align: right;\">\n",
              "      <th></th>\n",
              "      <th>Path</th>\n",
              "      <th>Dissimilarity</th>\n",
              "      <th>Contrast</th>\n",
              "      <th>Homogeneity</th>\n",
              "      <th>Energy</th>\n",
              "      <th>Correlation</th>\n",
              "      <th>ASM</th>\n",
              "      <th>Label</th>\n",
              "    </tr>\n",
              "  </thead>\n",
              "  <tbody>\n",
              "    <tr>\n",
              "      <th>0</th>\n",
              "      <td>dataset_Cap_vs_Tulis/test/cap/YCNSBT.38.jpg</td>\n",
              "      <td>0.636491</td>\n",
              "      <td>0.934898</td>\n",
              "      <td>0.711363</td>\n",
              "      <td>0.365774</td>\n",
              "      <td>0.466192</td>\n",
              "      <td>0.133791</td>\n",
              "      <td>cap</td>\n",
              "    </tr>\n",
              "    <tr>\n",
              "      <th>1</th>\n",
              "      <td>dataset_Cap_vs_Tulis/test/cap/YCNSBT.31.jpg</td>\n",
              "      <td>0.552010</td>\n",
              "      <td>0.777266</td>\n",
              "      <td>0.746220</td>\n",
              "      <td>0.384418</td>\n",
              "      <td>0.539110</td>\n",
              "      <td>0.147778</td>\n",
              "      <td>cap</td>\n",
              "    </tr>\n",
              "    <tr>\n",
              "      <th>2</th>\n",
              "      <td>dataset_Cap_vs_Tulis/test/cap/YCNSBT.30.jpg</td>\n",
              "      <td>0.609825</td>\n",
              "      <td>0.833881</td>\n",
              "      <td>0.717325</td>\n",
              "      <td>0.382543</td>\n",
              "      <td>0.404246</td>\n",
              "      <td>0.146339</td>\n",
              "      <td>cap</td>\n",
              "    </tr>\n",
              "    <tr>\n",
              "      <th>3</th>\n",
              "      <td>dataset_Cap_vs_Tulis/test/cap/YCNSBT.27.jpg</td>\n",
              "      <td>0.610886</td>\n",
              "      <td>0.839266</td>\n",
              "      <td>0.717332</td>\n",
              "      <td>0.381105</td>\n",
              "      <td>0.425919</td>\n",
              "      <td>0.145241</td>\n",
              "      <td>cap</td>\n",
              "    </tr>\n",
              "    <tr>\n",
              "      <th>4</th>\n",
              "      <td>dataset_Cap_vs_Tulis/test/cap/YCNSBT.22.jpg</td>\n",
              "      <td>0.592649</td>\n",
              "      <td>0.845011</td>\n",
              "      <td>0.728633</td>\n",
              "      <td>0.378711</td>\n",
              "      <td>0.450020</td>\n",
              "      <td>0.143422</td>\n",
              "      <td>cap</td>\n",
              "    </tr>\n",
              "    <tr>\n",
              "      <th>5</th>\n",
              "      <td>dataset_Cap_vs_Tulis/test/cap/YCNSBT.29.jpg</td>\n",
              "      <td>0.618234</td>\n",
              "      <td>0.916760</td>\n",
              "      <td>0.719966</td>\n",
              "      <td>0.364927</td>\n",
              "      <td>0.450856</td>\n",
              "      <td>0.133172</td>\n",
              "      <td>cap</td>\n",
              "    </tr>\n",
              "    <tr>\n",
              "      <th>6</th>\n",
              "      <td>dataset_Cap_vs_Tulis/test/cap/YCNSBT.20.jpg</td>\n",
              "      <td>0.512532</td>\n",
              "      <td>0.691744</td>\n",
              "      <td>0.761473</td>\n",
              "      <td>0.392889</td>\n",
              "      <td>0.573984</td>\n",
              "      <td>0.154362</td>\n",
              "      <td>cap</td>\n",
              "    </tr>\n",
              "    <tr>\n",
              "      <th>7</th>\n",
              "      <td>dataset_Cap_vs_Tulis/test/cap/YCNSBT.13.jpg</td>\n",
              "      <td>0.501982</td>\n",
              "      <td>0.753984</td>\n",
              "      <td>0.773787</td>\n",
              "      <td>0.484037</td>\n",
              "      <td>0.585050</td>\n",
              "      <td>0.234292</td>\n",
              "      <td>cap</td>\n",
              "    </tr>\n",
              "    <tr>\n",
              "      <th>8</th>\n",
              "      <td>dataset_Cap_vs_Tulis/test/cap/YCNSBT.16.jpg</td>\n",
              "      <td>0.518618</td>\n",
              "      <td>0.725977</td>\n",
              "      <td>0.761308</td>\n",
              "      <td>0.475221</td>\n",
              "      <td>0.589177</td>\n",
              "      <td>0.225835</td>\n",
              "      <td>cap</td>\n",
              "    </tr>\n",
              "    <tr>\n",
              "      <th>9</th>\n",
              "      <td>dataset_Cap_vs_Tulis/test/cap/YCNSBT.15.jpg</td>\n",
              "      <td>0.437220</td>\n",
              "      <td>0.586803</td>\n",
              "      <td>0.796251</td>\n",
              "      <td>0.536811</td>\n",
              "      <td>0.571077</td>\n",
              "      <td>0.288166</td>\n",
              "      <td>cap</td>\n",
              "    </tr>\n",
              "    <tr>\n",
              "      <th>10</th>\n",
              "      <td>dataset_Cap_vs_Tulis/test/cap/YCNSBT.10.jpg</td>\n",
              "      <td>0.467369</td>\n",
              "      <td>0.628563</td>\n",
              "      <td>0.782357</td>\n",
              "      <td>0.494227</td>\n",
              "      <td>0.613842</td>\n",
              "      <td>0.244261</td>\n",
              "      <td>cap</td>\n",
              "    </tr>\n",
              "    <tr>\n",
              "      <th>11</th>\n",
              "      <td>dataset_Cap_vs_Tulis/test/cap/YCNSBT.18.jpg</td>\n",
              "      <td>0.637732</td>\n",
              "      <td>0.904829</td>\n",
              "      <td>0.707624</td>\n",
              "      <td>0.380243</td>\n",
              "      <td>0.390075</td>\n",
              "      <td>0.144585</td>\n",
              "      <td>cap</td>\n",
              "    </tr>\n",
              "    <tr>\n",
              "      <th>12</th>\n",
              "      <td>dataset_Cap_vs_Tulis/test/cap/YCNSBT.17.jpg</td>\n",
              "      <td>0.523202</td>\n",
              "      <td>0.786015</td>\n",
              "      <td>0.764165</td>\n",
              "      <td>0.472486</td>\n",
              "      <td>0.541780</td>\n",
              "      <td>0.223243</td>\n",
              "      <td>cap</td>\n",
              "    </tr>\n",
              "    <tr>\n",
              "      <th>13</th>\n",
              "      <td>dataset_Cap_vs_Tulis/test/cap/YCNSC.15.jpg</td>\n",
              "      <td>1.069106</td>\n",
              "      <td>2.316344</td>\n",
              "      <td>0.585438</td>\n",
              "      <td>0.213968</td>\n",
              "      <td>0.628867</td>\n",
              "      <td>0.045782</td>\n",
              "      <td>cap</td>\n",
              "    </tr>\n",
              "    <tr>\n",
              "      <th>14</th>\n",
              "      <td>dataset_Cap_vs_Tulis/test/cap/YCNSC.16.jpg</td>\n",
              "      <td>1.161715</td>\n",
              "      <td>2.514294</td>\n",
              "      <td>0.549945</td>\n",
              "      <td>0.192834</td>\n",
              "      <td>0.596855</td>\n",
              "      <td>0.037185</td>\n",
              "      <td>cap</td>\n",
              "    </tr>\n",
              "  </tbody>\n",
              "</table>\n",
              "</div>"
            ],
            "text/plain": [
              "                                           Path  Dissimilarity  Contrast  \\\n",
              "0   dataset_Cap_vs_Tulis/test/cap/YCNSBT.38.jpg       0.636491  0.934898   \n",
              "1   dataset_Cap_vs_Tulis/test/cap/YCNSBT.31.jpg       0.552010  0.777266   \n",
              "2   dataset_Cap_vs_Tulis/test/cap/YCNSBT.30.jpg       0.609825  0.833881   \n",
              "3   dataset_Cap_vs_Tulis/test/cap/YCNSBT.27.jpg       0.610886  0.839266   \n",
              "4   dataset_Cap_vs_Tulis/test/cap/YCNSBT.22.jpg       0.592649  0.845011   \n",
              "5   dataset_Cap_vs_Tulis/test/cap/YCNSBT.29.jpg       0.618234  0.916760   \n",
              "6   dataset_Cap_vs_Tulis/test/cap/YCNSBT.20.jpg       0.512532  0.691744   \n",
              "7   dataset_Cap_vs_Tulis/test/cap/YCNSBT.13.jpg       0.501982  0.753984   \n",
              "8   dataset_Cap_vs_Tulis/test/cap/YCNSBT.16.jpg       0.518618  0.725977   \n",
              "9   dataset_Cap_vs_Tulis/test/cap/YCNSBT.15.jpg       0.437220  0.586803   \n",
              "10  dataset_Cap_vs_Tulis/test/cap/YCNSBT.10.jpg       0.467369  0.628563   \n",
              "11  dataset_Cap_vs_Tulis/test/cap/YCNSBT.18.jpg       0.637732  0.904829   \n",
              "12  dataset_Cap_vs_Tulis/test/cap/YCNSBT.17.jpg       0.523202  0.786015   \n",
              "13   dataset_Cap_vs_Tulis/test/cap/YCNSC.15.jpg       1.069106  2.316344   \n",
              "14   dataset_Cap_vs_Tulis/test/cap/YCNSC.16.jpg       1.161715  2.514294   \n",
              "\n",
              "    Homogeneity    Energy  Correlation       ASM Label  \n",
              "0      0.711363  0.365774     0.466192  0.133791   cap  \n",
              "1      0.746220  0.384418     0.539110  0.147778   cap  \n",
              "2      0.717325  0.382543     0.404246  0.146339   cap  \n",
              "3      0.717332  0.381105     0.425919  0.145241   cap  \n",
              "4      0.728633  0.378711     0.450020  0.143422   cap  \n",
              "5      0.719966  0.364927     0.450856  0.133172   cap  \n",
              "6      0.761473  0.392889     0.573984  0.154362   cap  \n",
              "7      0.773787  0.484037     0.585050  0.234292   cap  \n",
              "8      0.761308  0.475221     0.589177  0.225835   cap  \n",
              "9      0.796251  0.536811     0.571077  0.288166   cap  \n",
              "10     0.782357  0.494227     0.613842  0.244261   cap  \n",
              "11     0.707624  0.380243     0.390075  0.144585   cap  \n",
              "12     0.764165  0.472486     0.541780  0.223243   cap  \n",
              "13     0.585438  0.213968     0.628867  0.045782   cap  \n",
              "14     0.549945  0.192834     0.596855  0.037185   cap  "
            ]
          },
          "metadata": {
            "tags": []
          },
          "execution_count": 17
        }
      ]
    },
    {
      "cell_type": "code",
      "metadata": {
        "id": "zYlNmAsbeZxc",
        "colab_type": "code",
        "colab": {
          "base_uri": "https://localhost:8080/",
          "height": 68
        },
        "outputId": "d9e74ae4-5b0e-4701-a259-00cef209fd2b"
      },
      "source": [
        "# show columns\n",
        "data_train.columns "
      ],
      "execution_count": 18,
      "outputs": [
        {
          "output_type": "execute_result",
          "data": {
            "text/plain": [
              "Index(['Path', 'Dissimilarity', 'Contrast', 'Homogeneity', 'Energy',\n",
              "       'Correlation', 'ASM', 'Label'],\n",
              "      dtype='object')"
            ]
          },
          "metadata": {
            "tags": []
          },
          "execution_count": 18
        }
      ]
    },
    {
      "cell_type": "markdown",
      "metadata": {
        "id": "Sb72jKV-h6xu",
        "colab_type": "text"
      },
      "source": [
        "# Encoding the Categorial Data"
      ]
    },
    {
      "cell_type": "code",
      "metadata": {
        "id": "ZQ84fkSaexjT",
        "colab_type": "code",
        "colab": {
          "base_uri": "https://localhost:8080/",
          "height": 514
        },
        "outputId": "5b827b9f-e0be-4f3f-91f1-81859196ebd5"
      },
      "source": [
        "from sklearn.preprocessing import LabelEncoder\n",
        "le = LabelEncoder()\n",
        "df = data_train.apply(le.fit_transform)\n",
        "df.head(15)"
      ],
      "execution_count": 19,
      "outputs": [
        {
          "output_type": "execute_result",
          "data": {
            "text/html": [
              "<div>\n",
              "<style scoped>\n",
              "    .dataframe tbody tr th:only-of-type {\n",
              "        vertical-align: middle;\n",
              "    }\n",
              "\n",
              "    .dataframe tbody tr th {\n",
              "        vertical-align: top;\n",
              "    }\n",
              "\n",
              "    .dataframe thead th {\n",
              "        text-align: right;\n",
              "    }\n",
              "</style>\n",
              "<table border=\"1\" class=\"dataframe\">\n",
              "  <thead>\n",
              "    <tr style=\"text-align: right;\">\n",
              "      <th></th>\n",
              "      <th>Path</th>\n",
              "      <th>Dissimilarity</th>\n",
              "      <th>Contrast</th>\n",
              "      <th>Homogeneity</th>\n",
              "      <th>Energy</th>\n",
              "      <th>Correlation</th>\n",
              "      <th>ASM</th>\n",
              "      <th>Label</th>\n",
              "    </tr>\n",
              "  </thead>\n",
              "  <tbody>\n",
              "    <tr>\n",
              "      <th>0</th>\n",
              "      <td>12</td>\n",
              "      <td>96</td>\n",
              "      <td>93</td>\n",
              "      <td>29</td>\n",
              "      <td>35</td>\n",
              "      <td>21</td>\n",
              "      <td>35</td>\n",
              "      <td>0</td>\n",
              "    </tr>\n",
              "    <tr>\n",
              "      <th>1</th>\n",
              "      <td>11</td>\n",
              "      <td>77</td>\n",
              "      <td>68</td>\n",
              "      <td>47</td>\n",
              "      <td>54</td>\n",
              "      <td>25</td>\n",
              "      <td>54</td>\n",
              "      <td>0</td>\n",
              "    </tr>\n",
              "    <tr>\n",
              "      <th>2</th>\n",
              "      <td>10</td>\n",
              "      <td>90</td>\n",
              "      <td>79</td>\n",
              "      <td>31</td>\n",
              "      <td>50</td>\n",
              "      <td>10</td>\n",
              "      <td>50</td>\n",
              "      <td>0</td>\n",
              "    </tr>\n",
              "    <tr>\n",
              "      <th>3</th>\n",
              "      <td>8</td>\n",
              "      <td>91</td>\n",
              "      <td>80</td>\n",
              "      <td>32</td>\n",
              "      <td>49</td>\n",
              "      <td>16</td>\n",
              "      <td>49</td>\n",
              "      <td>0</td>\n",
              "    </tr>\n",
              "    <tr>\n",
              "      <th>4</th>\n",
              "      <td>7</td>\n",
              "      <td>87</td>\n",
              "      <td>81</td>\n",
              "      <td>36</td>\n",
              "      <td>47</td>\n",
              "      <td>18</td>\n",
              "      <td>47</td>\n",
              "      <td>0</td>\n",
              "    </tr>\n",
              "    <tr>\n",
              "      <th>5</th>\n",
              "      <td>9</td>\n",
              "      <td>95</td>\n",
              "      <td>89</td>\n",
              "      <td>33</td>\n",
              "      <td>34</td>\n",
              "      <td>19</td>\n",
              "      <td>34</td>\n",
              "      <td>0</td>\n",
              "    </tr>\n",
              "    <tr>\n",
              "      <th>6</th>\n",
              "      <td>6</td>\n",
              "      <td>64</td>\n",
              "      <td>56</td>\n",
              "      <td>58</td>\n",
              "      <td>55</td>\n",
              "      <td>33</td>\n",
              "      <td>55</td>\n",
              "      <td>0</td>\n",
              "    </tr>\n",
              "    <tr>\n",
              "      <th>7</th>\n",
              "      <td>1</td>\n",
              "      <td>61</td>\n",
              "      <td>63</td>\n",
              "      <td>67</td>\n",
              "      <td>84</td>\n",
              "      <td>37</td>\n",
              "      <td>84</td>\n",
              "      <td>0</td>\n",
              "    </tr>\n",
              "    <tr>\n",
              "      <th>8</th>\n",
              "      <td>3</td>\n",
              "      <td>67</td>\n",
              "      <td>59</td>\n",
              "      <td>57</td>\n",
              "      <td>83</td>\n",
              "      <td>39</td>\n",
              "      <td>83</td>\n",
              "      <td>0</td>\n",
              "    </tr>\n",
              "    <tr>\n",
              "      <th>9</th>\n",
              "      <td>2</td>\n",
              "      <td>47</td>\n",
              "      <td>44</td>\n",
              "      <td>82</td>\n",
              "      <td>102</td>\n",
              "      <td>30</td>\n",
              "      <td>102</td>\n",
              "      <td>0</td>\n",
              "    </tr>\n",
              "    <tr>\n",
              "      <th>10</th>\n",
              "      <td>0</td>\n",
              "      <td>50</td>\n",
              "      <td>49</td>\n",
              "      <td>73</td>\n",
              "      <td>87</td>\n",
              "      <td>52</td>\n",
              "      <td>87</td>\n",
              "      <td>0</td>\n",
              "    </tr>\n",
              "    <tr>\n",
              "      <th>11</th>\n",
              "      <td>5</td>\n",
              "      <td>97</td>\n",
              "      <td>87</td>\n",
              "      <td>28</td>\n",
              "      <td>48</td>\n",
              "      <td>5</td>\n",
              "      <td>48</td>\n",
              "      <td>0</td>\n",
              "    </tr>\n",
              "    <tr>\n",
              "      <th>12</th>\n",
              "      <td>4</td>\n",
              "      <td>70</td>\n",
              "      <td>70</td>\n",
              "      <td>60</td>\n",
              "      <td>80</td>\n",
              "      <td>26</td>\n",
              "      <td>80</td>\n",
              "      <td>0</td>\n",
              "    </tr>\n",
              "    <tr>\n",
              "      <th>13</th>\n",
              "      <td>16</td>\n",
              "      <td>118</td>\n",
              "      <td>120</td>\n",
              "      <td>9</td>\n",
              "      <td>9</td>\n",
              "      <td>55</td>\n",
              "      <td>9</td>\n",
              "      <td>0</td>\n",
              "    </tr>\n",
              "    <tr>\n",
              "      <th>14</th>\n",
              "      <td>17</td>\n",
              "      <td>126</td>\n",
              "      <td>127</td>\n",
              "      <td>3</td>\n",
              "      <td>5</td>\n",
              "      <td>42</td>\n",
              "      <td>5</td>\n",
              "      <td>0</td>\n",
              "    </tr>\n",
              "  </tbody>\n",
              "</table>\n",
              "</div>"
            ],
            "text/plain": [
              "    Path  Dissimilarity  Contrast  Homogeneity  Energy  Correlation  ASM  \\\n",
              "0     12             96        93           29      35           21   35   \n",
              "1     11             77        68           47      54           25   54   \n",
              "2     10             90        79           31      50           10   50   \n",
              "3      8             91        80           32      49           16   49   \n",
              "4      7             87        81           36      47           18   47   \n",
              "5      9             95        89           33      34           19   34   \n",
              "6      6             64        56           58      55           33   55   \n",
              "7      1             61        63           67      84           37   84   \n",
              "8      3             67        59           57      83           39   83   \n",
              "9      2             47        44           82     102           30  102   \n",
              "10     0             50        49           73      87           52   87   \n",
              "11     5             97        87           28      48            5   48   \n",
              "12     4             70        70           60      80           26   80   \n",
              "13    16            118       120            9       9           55    9   \n",
              "14    17            126       127            3       5           42    5   \n",
              "\n",
              "    Label  \n",
              "0       0  \n",
              "1       0  \n",
              "2       0  \n",
              "3       0  \n",
              "4       0  \n",
              "5       0  \n",
              "6       0  \n",
              "7       0  \n",
              "8       0  \n",
              "9       0  \n",
              "10      0  \n",
              "11      0  \n",
              "12      0  \n",
              "13      0  \n",
              "14      0  "
            ]
          },
          "metadata": {
            "tags": []
          },
          "execution_count": 19
        }
      ]
    },
    {
      "cell_type": "markdown",
      "metadata": {
        "id": "Ev9fT6tSiA7m",
        "colab_type": "text"
      },
      "source": [
        "# Splitting the Data into Training and Testing Data"
      ]
    },
    {
      "cell_type": "code",
      "metadata": {
        "id": "FmwnI6Bcgn7z",
        "colab_type": "code",
        "colab": {}
      },
      "source": [
        "X = df.iloc[:, 1:6].values\n",
        "Y = df.iloc[:, 7].values\n",
        "X_train, X_test, Y_train, Y_test = tt(X,Y, test_size=0.2, random_state=4)"
      ],
      "execution_count": 20,
      "outputs": []
    },
    {
      "cell_type": "code",
      "metadata": {
        "id": "1De8a0JNhTlQ",
        "colab_type": "code",
        "colab": {
          "base_uri": "https://localhost:8080/",
          "height": 34
        },
        "outputId": "5b81ef03-5c6a-4b2d-99c2-6aaa93fc62b5"
      },
      "source": [
        "X_train.shape"
      ],
      "execution_count": 21,
      "outputs": [
        {
          "output_type": "execute_result",
          "data": {
            "text/plain": [
              "(106, 5)"
            ]
          },
          "metadata": {
            "tags": []
          },
          "execution_count": 21
        }
      ]
    },
    {
      "cell_type": "code",
      "metadata": {
        "id": "etHAmYhYhWxD",
        "colab_type": "code",
        "colab": {
          "base_uri": "https://localhost:8080/",
          "height": 34
        },
        "outputId": "7bb01208-d1e3-40e4-b691-3106a029a90b"
      },
      "source": [
        "Y.shape"
      ],
      "execution_count": 22,
      "outputs": [
        {
          "output_type": "execute_result",
          "data": {
            "text/plain": [
              "(133,)"
            ]
          },
          "metadata": {
            "tags": []
          },
          "execution_count": 22
        }
      ]
    },
    {
      "cell_type": "markdown",
      "metadata": {
        "id": "REuWO-shwfok",
        "colab_type": "text"
      },
      "source": [
        "#Naive Bayes Model Start Here"
      ]
    },
    {
      "cell_type": "code",
      "metadata": {
        "id": "F3Il5seCm7uB",
        "colab_type": "code",
        "colab": {}
      },
      "source": [
        "from sklearn.naive_bayes import GaussianNB\n",
        "nb = GaussianNB()\n",
        "nb.fit(X_train,Y_train)\n",
        "y_pred = nb.predict(X_test)"
      ],
      "execution_count": 23,
      "outputs": []
    },
    {
      "cell_type": "code",
      "metadata": {
        "id": "hMPVuIiXm_-x",
        "colab_type": "code",
        "colab": {}
      },
      "source": [
        "from sklearn.metrics import classification_report , confusion_matrix , accuracy_score\n",
        "cm = confusion_matrix(Y_test,y_pred)"
      ],
      "execution_count": 24,
      "outputs": []
    },
    {
      "cell_type": "code",
      "metadata": {
        "id": "DdiOWuX0nDnb",
        "colab_type": "code",
        "colab": {
          "base_uri": "https://localhost:8080/",
          "height": 68
        },
        "outputId": "f9d72d08-f5fd-4737-b601-234d3f74e13b"
      },
      "source": [
        "print(\"Confusion Matrix: \\n\",cm)"
      ],
      "execution_count": 25,
      "outputs": [
        {
          "output_type": "stream",
          "text": [
            "Confusion Matrix: \n",
            " [[ 9 12]\n",
            " [ 0  6]]\n"
          ],
          "name": "stdout"
        }
      ]
    },
    {
      "cell_type": "code",
      "metadata": {
        "id": "aqAg7TvCnHln",
        "colab_type": "code",
        "colab": {
          "base_uri": "https://localhost:8080/",
          "height": 187
        },
        "outputId": "31f39611-aa35-4d8f-a7d9-e99a3652aee6"
      },
      "source": [
        "print(\"Classification Report: \\n\", classification_report(Y_test, y_pred))"
      ],
      "execution_count": 26,
      "outputs": [
        {
          "output_type": "stream",
          "text": [
            "Classification Report: \n",
            "               precision    recall  f1-score   support\n",
            "\n",
            "           0       1.00      0.43      0.60        21\n",
            "           1       0.33      1.00      0.50         6\n",
            "\n",
            "    accuracy                           0.56        27\n",
            "   macro avg       0.67      0.71      0.55        27\n",
            "weighted avg       0.85      0.56      0.58        27\n",
            "\n"
          ],
          "name": "stdout"
        }
      ]
    },
    {
      "cell_type": "code",
      "metadata": {
        "id": "4V2vyDNanNUc",
        "colab_type": "code",
        "colab": {
          "base_uri": "https://localhost:8080/",
          "height": 34
        },
        "outputId": "0db01cfb-0006-4e18-8503-5648a22c973b"
      },
      "source": [
        "print(\"Accuracy Score: \", accuracy_score(Y_test, y_pred))"
      ],
      "execution_count": 27,
      "outputs": [
        {
          "output_type": "stream",
          "text": [
            "Accuracy Score:  0.5555555555555556\n"
          ],
          "name": "stdout"
        }
      ]
    },
    {
      "cell_type": "markdown",
      "metadata": {
        "id": "7UwAwe36fCUK",
        "colab_type": "text"
      },
      "source": [
        "# Analytic"
      ]
    },
    {
      "cell_type": "markdown",
      "metadata": {
        "id": "yZCakNDpfJlc",
        "colab_type": "text"
      },
      "source": [
        "using dataset unfiltered\n",
        "Accuracy Score Training = 0.74\n",
        "Accuracy Score Validation = 1.0\n",
        "\n",
        "using dataset filtered\n",
        "Accuracy Score Training = 0.77\n",
        "Accuracy Score Validation = 0.55"
      ]
    }
  ]
}