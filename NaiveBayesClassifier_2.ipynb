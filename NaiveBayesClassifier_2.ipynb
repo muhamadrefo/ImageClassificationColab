{
  "nbformat": 4,
  "nbformat_minor": 0,
  "metadata": {
    "colab": {
      "name": "NaiveBayesClassifier #2.ipynb",
      "provenance": [],
      "authorship_tag": "ABX9TyP9b63CIJ6/szqbIfUONSDa",
      "include_colab_link": true
    },
    "kernelspec": {
      "name": "python3",
      "display_name": "Python 3"
    }
  },
  "cells": [
    {
      "cell_type": "markdown",
      "metadata": {
        "id": "view-in-github",
        "colab_type": "text"
      },
      "source": [
        "<a href=\"https://colab.research.google.com/github/muhamadrefo/ImageClassificationColab/blob/master/NaiveBayesClassifier_2.ipynb\" target=\"_parent\"><img src=\"https://colab.research.google.com/assets/colab-badge.svg\" alt=\"Open In Colab\"/></a>"
      ]
    },
    {
      "cell_type": "markdown",
      "metadata": {
        "id": "hUSzoRIphpUT",
        "colab_type": "text"
      },
      "source": [
        "# Prepare Environment"
      ]
    },
    {
      "cell_type": "code",
      "metadata": {
        "id": "Ll5cIcR1qCPz",
        "colab_type": "code",
        "colab": {
          "base_uri": "https://localhost:8080/",
          "height": 34
        },
        "outputId": "460f16fe-ae41-497e-812e-dbfd29626f03"
      },
      "source": [
        "from google.colab import drive\n",
        "drive.mount('/content/drive')"
      ],
      "execution_count": 1,
      "outputs": [
        {
          "output_type": "stream",
          "text": [
            "Drive already mounted at /content/drive; to attempt to forcibly remount, call drive.mount(\"/content/drive\", force_remount=True).\n"
          ],
          "name": "stdout"
        }
      ]
    },
    {
      "cell_type": "code",
      "metadata": {
        "id": "D9d2Z58gqR2A",
        "colab_type": "code",
        "colab": {
          "base_uri": "https://localhost:8080/",
          "height": 71
        },
        "outputId": "e164a1d7-d064-45e3-f1d5-18bca92eb181"
      },
      "source": [
        "#Importing Packages\n",
        "\n",
        "import matplotlib.pyplot as plt\n",
        "import csv\n",
        "import numpy as np\n",
        "import pandas as pd\n",
        "import seaborn as sns\n",
        "from datetime import datetime\n",
        "from matplotlib.colors import ListedColormap\n",
        "from pandas.plotting import scatter_matrix\n",
        "from sklearn.tree import DecisionTreeClassifier\n",
        "from sklearn.tree import export_graphviz\n",
        "from sklearn import model_selection\n",
        "from sklearn.metrics import classification_report\n",
        "from sklearn.metrics import confusion_matrix\n",
        "from sklearn.metrics import accuracy_score\n",
        "\n",
        "%matplotlib inline"
      ],
      "execution_count": 2,
      "outputs": [
        {
          "output_type": "stream",
          "text": [
            "/usr/local/lib/python3.6/dist-packages/statsmodels/tools/_testing.py:19: FutureWarning: pandas.util.testing is deprecated. Use the functions in the public API at pandas.testing instead.\n",
            "  import pandas.util.testing as tm\n"
          ],
          "name": "stderr"
        }
      ]
    },
    {
      "cell_type": "code",
      "metadata": {
        "id": "vxXMGOmrqSRE",
        "colab_type": "code",
        "colab": {
          "base_uri": "https://localhost:8080/",
          "height": 34
        },
        "outputId": "23648b58-ad78-4998-e46a-b062c52e73e7"
      },
      "source": [
        "%cd /content/drive/My Drive/Batik/"
      ],
      "execution_count": 3,
      "outputs": [
        {
          "output_type": "stream",
          "text": [
            "/content/drive/My Drive/Batik\n"
          ],
          "name": "stdout"
        }
      ]
    },
    {
      "cell_type": "markdown",
      "metadata": {
        "id": "5HoA9_8Shxmw",
        "colab_type": "text"
      },
      "source": [
        "#Reading dataset"
      ]
    },
    {
      "cell_type": "code",
      "metadata": {
        "id": "DtBkf3yHqSNu",
        "colab_type": "code",
        "colab": {
          "base_uri": "https://localhost:8080/",
          "height": 514
        },
        "outputId": "b11c76bd-b20f-4e33-83c5-113545e426ff"
      },
      "source": [
        "#col_names = [\"Path\", \"Dissimilarity\", \"Contrast\", \"Homogeneity\", \"Energy\", \"Correlation\", \"ASM\" , \"Label\"]\n",
        "#datatrain = pd.read_csv('DataTraining.csv', names=col_names)\n",
        "#data_train = pd.read_csv('DataTraining.csv') #DataTraining.csv nor DataValidation.csv\n",
        "data_train = pd.read_csv('DataValidation.csv')\n",
        "pd.set_option('display.max_columns', 100)\n",
        "data_train.head(15) #display first 15 data"
      ],
      "execution_count": 26,
      "outputs": [
        {
          "output_type": "execute_result",
          "data": {
            "text/html": [
              "<div>\n",
              "<style scoped>\n",
              "    .dataframe tbody tr th:only-of-type {\n",
              "        vertical-align: middle;\n",
              "    }\n",
              "\n",
              "    .dataframe tbody tr th {\n",
              "        vertical-align: top;\n",
              "    }\n",
              "\n",
              "    .dataframe thead th {\n",
              "        text-align: right;\n",
              "    }\n",
              "</style>\n",
              "<table border=\"1\" class=\"dataframe\">\n",
              "  <thead>\n",
              "    <tr style=\"text-align: right;\">\n",
              "      <th></th>\n",
              "      <th>Path</th>\n",
              "      <th>Dissimilarity</th>\n",
              "      <th>Contrast</th>\n",
              "      <th>Homogeneity</th>\n",
              "      <th>Energy</th>\n",
              "      <th>Correlation</th>\n",
              "      <th>ASM</th>\n",
              "      <th>Label</th>\n",
              "    </tr>\n",
              "  </thead>\n",
              "  <tbody>\n",
              "    <tr>\n",
              "      <th>0</th>\n",
              "      <td>CNN/DataValid/Tulis/Tulis  (34).jpg</td>\n",
              "      <td>0.671184</td>\n",
              "      <td>1.150084</td>\n",
              "      <td>0.711659</td>\n",
              "      <td>0.331302</td>\n",
              "      <td>0.726917</td>\n",
              "      <td>0.109761</td>\n",
              "      <td>Tulis</td>\n",
              "    </tr>\n",
              "    <tr>\n",
              "      <th>1</th>\n",
              "      <td>CNN/DataValid/Tulis/Tulis  (33).jpg</td>\n",
              "      <td>0.638953</td>\n",
              "      <td>1.014994</td>\n",
              "      <td>0.717791</td>\n",
              "      <td>0.309219</td>\n",
              "      <td>0.816454</td>\n",
              "      <td>0.095616</td>\n",
              "      <td>Tulis</td>\n",
              "    </tr>\n",
              "    <tr>\n",
              "      <th>2</th>\n",
              "      <td>CNN/DataValid/Tulis/Tulis  (12).jpg</td>\n",
              "      <td>0.322329</td>\n",
              "      <td>0.438000</td>\n",
              "      <td>0.850374</td>\n",
              "      <td>0.617532</td>\n",
              "      <td>0.590479</td>\n",
              "      <td>0.381346</td>\n",
              "      <td>Tulis</td>\n",
              "    </tr>\n",
              "    <tr>\n",
              "      <th>3</th>\n",
              "      <td>CNN/DataValid/Tulis/Tulis  (4).jpg</td>\n",
              "      <td>0.394859</td>\n",
              "      <td>0.547646</td>\n",
              "      <td>0.817798</td>\n",
              "      <td>0.573175</td>\n",
              "      <td>0.557173</td>\n",
              "      <td>0.328530</td>\n",
              "      <td>Tulis</td>\n",
              "    </tr>\n",
              "    <tr>\n",
              "      <th>4</th>\n",
              "      <td>CNN/DataValid/Tulis/Tulis  (9).jpg</td>\n",
              "      <td>0.482443</td>\n",
              "      <td>0.787296</td>\n",
              "      <td>0.788360</td>\n",
              "      <td>0.500893</td>\n",
              "      <td>0.621752</td>\n",
              "      <td>0.250894</td>\n",
              "      <td>Tulis</td>\n",
              "    </tr>\n",
              "    <tr>\n",
              "      <th>5</th>\n",
              "      <td>CNN/DataValid/Tulis/Tulis  (10).jpg</td>\n",
              "      <td>0.368013</td>\n",
              "      <td>0.520199</td>\n",
              "      <td>0.831124</td>\n",
              "      <td>0.571786</td>\n",
              "      <td>0.623596</td>\n",
              "      <td>0.326939</td>\n",
              "      <td>Tulis</td>\n",
              "    </tr>\n",
              "    <tr>\n",
              "      <th>6</th>\n",
              "      <td>CNN/DataValid/Tulis/Tulis  (8).jpg</td>\n",
              "      <td>0.446268</td>\n",
              "      <td>0.727298</td>\n",
              "      <td>0.804201</td>\n",
              "      <td>0.514562</td>\n",
              "      <td>0.660955</td>\n",
              "      <td>0.264774</td>\n",
              "      <td>Tulis</td>\n",
              "    </tr>\n",
              "    <tr>\n",
              "      <th>7</th>\n",
              "      <td>CNN/DataValid/Tulis/Tulis  (27).jpg</td>\n",
              "      <td>0.510790</td>\n",
              "      <td>0.705577</td>\n",
              "      <td>0.763781</td>\n",
              "      <td>0.393011</td>\n",
              "      <td>0.666016</td>\n",
              "      <td>0.154458</td>\n",
              "      <td>Tulis</td>\n",
              "    </tr>\n",
              "    <tr>\n",
              "      <th>8</th>\n",
              "      <td>CNN/DataValid/Tulis/Tulis  (28).jpg</td>\n",
              "      <td>0.668061</td>\n",
              "      <td>1.211943</td>\n",
              "      <td>0.719309</td>\n",
              "      <td>0.352585</td>\n",
              "      <td>0.696101</td>\n",
              "      <td>0.124316</td>\n",
              "      <td>Tulis</td>\n",
              "    </tr>\n",
              "    <tr>\n",
              "      <th>9</th>\n",
              "      <td>CNN/DataValid/Tulis/Tulis  (5).jpg</td>\n",
              "      <td>0.406710</td>\n",
              "      <td>0.561459</td>\n",
              "      <td>0.812044</td>\n",
              "      <td>0.546859</td>\n",
              "      <td>0.563623</td>\n",
              "      <td>0.299055</td>\n",
              "      <td>Tulis</td>\n",
              "    </tr>\n",
              "    <tr>\n",
              "      <th>10</th>\n",
              "      <td>CNN/DataValid/Tulis/Tulis  (6).jpg</td>\n",
              "      <td>0.455257</td>\n",
              "      <td>0.719711</td>\n",
              "      <td>0.798350</td>\n",
              "      <td>0.535587</td>\n",
              "      <td>0.604139</td>\n",
              "      <td>0.286853</td>\n",
              "      <td>Tulis</td>\n",
              "    </tr>\n",
              "    <tr>\n",
              "      <th>11</th>\n",
              "      <td>CNN/DataValid/Tulis/Tulis  (24).jpg</td>\n",
              "      <td>0.337944</td>\n",
              "      <td>0.402406</td>\n",
              "      <td>0.837417</td>\n",
              "      <td>0.531149</td>\n",
              "      <td>0.647177</td>\n",
              "      <td>0.282119</td>\n",
              "      <td>Tulis</td>\n",
              "    </tr>\n",
              "    <tr>\n",
              "      <th>12</th>\n",
              "      <td>CNN/DataValid/Tulis/Tulis  (35).jpg</td>\n",
              "      <td>0.637952</td>\n",
              "      <td>1.130826</td>\n",
              "      <td>0.729495</td>\n",
              "      <td>0.363560</td>\n",
              "      <td>0.738924</td>\n",
              "      <td>0.132176</td>\n",
              "      <td>Tulis</td>\n",
              "    </tr>\n",
              "    <tr>\n",
              "      <th>13</th>\n",
              "      <td>CNN/DataValid/Tulis/Tulis  (7).jpg</td>\n",
              "      <td>0.468770</td>\n",
              "      <td>0.729580</td>\n",
              "      <td>0.791287</td>\n",
              "      <td>0.508583</td>\n",
              "      <td>0.616555</td>\n",
              "      <td>0.258657</td>\n",
              "      <td>Tulis</td>\n",
              "    </tr>\n",
              "    <tr>\n",
              "      <th>14</th>\n",
              "      <td>CNN/DataValid/Tulis/Tulis  (94).jpg</td>\n",
              "      <td>0.247037</td>\n",
              "      <td>0.262172</td>\n",
              "      <td>0.877995</td>\n",
              "      <td>0.472416</td>\n",
              "      <td>0.801964</td>\n",
              "      <td>0.223177</td>\n",
              "      <td>Tulis</td>\n",
              "    </tr>\n",
              "  </tbody>\n",
              "</table>\n",
              "</div>"
            ],
            "text/plain": [
              "                                   Path  Dissimilarity  Contrast  Homogeneity  \\\n",
              "0   CNN/DataValid/Tulis/Tulis  (34).jpg       0.671184  1.150084     0.711659   \n",
              "1   CNN/DataValid/Tulis/Tulis  (33).jpg       0.638953  1.014994     0.717791   \n",
              "2   CNN/DataValid/Tulis/Tulis  (12).jpg       0.322329  0.438000     0.850374   \n",
              "3    CNN/DataValid/Tulis/Tulis  (4).jpg       0.394859  0.547646     0.817798   \n",
              "4    CNN/DataValid/Tulis/Tulis  (9).jpg       0.482443  0.787296     0.788360   \n",
              "5   CNN/DataValid/Tulis/Tulis  (10).jpg       0.368013  0.520199     0.831124   \n",
              "6    CNN/DataValid/Tulis/Tulis  (8).jpg       0.446268  0.727298     0.804201   \n",
              "7   CNN/DataValid/Tulis/Tulis  (27).jpg       0.510790  0.705577     0.763781   \n",
              "8   CNN/DataValid/Tulis/Tulis  (28).jpg       0.668061  1.211943     0.719309   \n",
              "9    CNN/DataValid/Tulis/Tulis  (5).jpg       0.406710  0.561459     0.812044   \n",
              "10   CNN/DataValid/Tulis/Tulis  (6).jpg       0.455257  0.719711     0.798350   \n",
              "11  CNN/DataValid/Tulis/Tulis  (24).jpg       0.337944  0.402406     0.837417   \n",
              "12  CNN/DataValid/Tulis/Tulis  (35).jpg       0.637952  1.130826     0.729495   \n",
              "13   CNN/DataValid/Tulis/Tulis  (7).jpg       0.468770  0.729580     0.791287   \n",
              "14  CNN/DataValid/Tulis/Tulis  (94).jpg       0.247037  0.262172     0.877995   \n",
              "\n",
              "      Energy  Correlation       ASM  Label  \n",
              "0   0.331302     0.726917  0.109761  Tulis  \n",
              "1   0.309219     0.816454  0.095616  Tulis  \n",
              "2   0.617532     0.590479  0.381346  Tulis  \n",
              "3   0.573175     0.557173  0.328530  Tulis  \n",
              "4   0.500893     0.621752  0.250894  Tulis  \n",
              "5   0.571786     0.623596  0.326939  Tulis  \n",
              "6   0.514562     0.660955  0.264774  Tulis  \n",
              "7   0.393011     0.666016  0.154458  Tulis  \n",
              "8   0.352585     0.696101  0.124316  Tulis  \n",
              "9   0.546859     0.563623  0.299055  Tulis  \n",
              "10  0.535587     0.604139  0.286853  Tulis  \n",
              "11  0.531149     0.647177  0.282119  Tulis  \n",
              "12  0.363560     0.738924  0.132176  Tulis  \n",
              "13  0.508583     0.616555  0.258657  Tulis  \n",
              "14  0.472416     0.801964  0.223177  Tulis  "
            ]
          },
          "metadata": {
            "tags": []
          },
          "execution_count": 26
        }
      ]
    },
    {
      "cell_type": "code",
      "metadata": {
        "id": "zYlNmAsbeZxc",
        "colab_type": "code",
        "colab": {
          "base_uri": "https://localhost:8080/",
          "height": 68
        },
        "outputId": "c26e4a6a-273b-4a03-a0ef-dd280930892d"
      },
      "source": [
        "# show columns\n",
        "data_train.columns "
      ],
      "execution_count": 27,
      "outputs": [
        {
          "output_type": "execute_result",
          "data": {
            "text/plain": [
              "Index(['Path', 'Dissimilarity', 'Contrast', 'Homogeneity', 'Energy',\n",
              "       'Correlation', 'ASM', 'Label'],\n",
              "      dtype='object')"
            ]
          },
          "metadata": {
            "tags": []
          },
          "execution_count": 27
        }
      ]
    },
    {
      "cell_type": "markdown",
      "metadata": {
        "id": "Sb72jKV-h6xu",
        "colab_type": "text"
      },
      "source": [
        "# Encoding the Categorial Data"
      ]
    },
    {
      "cell_type": "code",
      "metadata": {
        "id": "ZQ84fkSaexjT",
        "colab_type": "code",
        "colab": {
          "base_uri": "https://localhost:8080/",
          "height": 514
        },
        "outputId": "95007373-6382-4b3a-d9f2-7d4a542e61fd"
      },
      "source": [
        "from sklearn.preprocessing import LabelEncoder\n",
        "le = LabelEncoder()\n",
        "df = data_train.apply(le.fit_transform)\n",
        "df.head(15)"
      ],
      "execution_count": 28,
      "outputs": [
        {
          "output_type": "execute_result",
          "data": {
            "text/html": [
              "<div>\n",
              "<style scoped>\n",
              "    .dataframe tbody tr th:only-of-type {\n",
              "        vertical-align: middle;\n",
              "    }\n",
              "\n",
              "    .dataframe tbody tr th {\n",
              "        vertical-align: top;\n",
              "    }\n",
              "\n",
              "    .dataframe thead th {\n",
              "        text-align: right;\n",
              "    }\n",
              "</style>\n",
              "<table border=\"1\" class=\"dataframe\">\n",
              "  <thead>\n",
              "    <tr style=\"text-align: right;\">\n",
              "      <th></th>\n",
              "      <th>Path</th>\n",
              "      <th>Dissimilarity</th>\n",
              "      <th>Contrast</th>\n",
              "      <th>Homogeneity</th>\n",
              "      <th>Energy</th>\n",
              "      <th>Correlation</th>\n",
              "      <th>ASM</th>\n",
              "      <th>Label</th>\n",
              "    </tr>\n",
              "  </thead>\n",
              "  <tbody>\n",
              "    <tr>\n",
              "      <th>0</th>\n",
              "      <td>33</td>\n",
              "      <td>94</td>\n",
              "      <td>92</td>\n",
              "      <td>9</td>\n",
              "      <td>18</td>\n",
              "      <td>52</td>\n",
              "      <td>18</td>\n",
              "      <td>0</td>\n",
              "    </tr>\n",
              "    <tr>\n",
              "      <th>1</th>\n",
              "      <td>32</td>\n",
              "      <td>92</td>\n",
              "      <td>89</td>\n",
              "      <td>11</td>\n",
              "      <td>12</td>\n",
              "      <td>84</td>\n",
              "      <td>12</td>\n",
              "      <td>0</td>\n",
              "    </tr>\n",
              "    <tr>\n",
              "      <th>2</th>\n",
              "      <td>17</td>\n",
              "      <td>10</td>\n",
              "      <td>18</td>\n",
              "      <td>94</td>\n",
              "      <td>104</td>\n",
              "      <td>15</td>\n",
              "      <td>104</td>\n",
              "      <td>0</td>\n",
              "    </tr>\n",
              "    <tr>\n",
              "      <th>3</th>\n",
              "      <td>39</td>\n",
              "      <td>22</td>\n",
              "      <td>29</td>\n",
              "      <td>82</td>\n",
              "      <td>103</td>\n",
              "      <td>10</td>\n",
              "      <td>103</td>\n",
              "      <td>0</td>\n",
              "    </tr>\n",
              "    <tr>\n",
              "      <th>4</th>\n",
              "      <td>94</td>\n",
              "      <td>56</td>\n",
              "      <td>71</td>\n",
              "      <td>58</td>\n",
              "      <td>87</td>\n",
              "      <td>27</td>\n",
              "      <td>87</td>\n",
              "      <td>0</td>\n",
              "    </tr>\n",
              "    <tr>\n",
              "      <th>5</th>\n",
              "      <td>1</td>\n",
              "      <td>20</td>\n",
              "      <td>22</td>\n",
              "      <td>85</td>\n",
              "      <td>102</td>\n",
              "      <td>30</td>\n",
              "      <td>102</td>\n",
              "      <td>0</td>\n",
              "    </tr>\n",
              "    <tr>\n",
              "      <th>6</th>\n",
              "      <td>83</td>\n",
              "      <td>38</td>\n",
              "      <td>57</td>\n",
              "      <td>70</td>\n",
              "      <td>93</td>\n",
              "      <td>40</td>\n",
              "      <td>93</td>\n",
              "      <td>0</td>\n",
              "    </tr>\n",
              "    <tr>\n",
              "      <th>7</th>\n",
              "      <td>29</td>\n",
              "      <td>66</td>\n",
              "      <td>52</td>\n",
              "      <td>36</td>\n",
              "      <td>40</td>\n",
              "      <td>42</td>\n",
              "      <td>40</td>\n",
              "      <td>0</td>\n",
              "    </tr>\n",
              "    <tr>\n",
              "      <th>8</th>\n",
              "      <td>30</td>\n",
              "      <td>93</td>\n",
              "      <td>94</td>\n",
              "      <td>12</td>\n",
              "      <td>24</td>\n",
              "      <td>48</td>\n",
              "      <td>24</td>\n",
              "      <td>0</td>\n",
              "    </tr>\n",
              "    <tr>\n",
              "      <th>9</th>\n",
              "      <td>50</td>\n",
              "      <td>24</td>\n",
              "      <td>36</td>\n",
              "      <td>75</td>\n",
              "      <td>100</td>\n",
              "      <td>11</td>\n",
              "      <td>100</td>\n",
              "      <td>0</td>\n",
              "    </tr>\n",
              "    <tr>\n",
              "      <th>10</th>\n",
              "      <td>61</td>\n",
              "      <td>45</td>\n",
              "      <td>55</td>\n",
              "      <td>64</td>\n",
              "      <td>98</td>\n",
              "      <td>19</td>\n",
              "      <td>98</td>\n",
              "      <td>0</td>\n",
              "    </tr>\n",
              "    <tr>\n",
              "      <th>11</th>\n",
              "      <td>28</td>\n",
              "      <td>17</td>\n",
              "      <td>17</td>\n",
              "      <td>88</td>\n",
              "      <td>96</td>\n",
              "      <td>38</td>\n",
              "      <td>96</td>\n",
              "      <td>0</td>\n",
              "    </tr>\n",
              "    <tr>\n",
              "      <th>12</th>\n",
              "      <td>34</td>\n",
              "      <td>91</td>\n",
              "      <td>91</td>\n",
              "      <td>14</td>\n",
              "      <td>28</td>\n",
              "      <td>53</td>\n",
              "      <td>28</td>\n",
              "      <td>0</td>\n",
              "    </tr>\n",
              "    <tr>\n",
              "      <th>13</th>\n",
              "      <td>72</td>\n",
              "      <td>52</td>\n",
              "      <td>58</td>\n",
              "      <td>61</td>\n",
              "      <td>91</td>\n",
              "      <td>25</td>\n",
              "      <td>91</td>\n",
              "      <td>0</td>\n",
              "    </tr>\n",
              "    <tr>\n",
              "      <th>14</th>\n",
              "      <td>99</td>\n",
              "      <td>5</td>\n",
              "      <td>5</td>\n",
              "      <td>99</td>\n",
              "      <td>76</td>\n",
              "      <td>77</td>\n",
              "      <td>76</td>\n",
              "      <td>0</td>\n",
              "    </tr>\n",
              "  </tbody>\n",
              "</table>\n",
              "</div>"
            ],
            "text/plain": [
              "    Path  Dissimilarity  Contrast  Homogeneity  Energy  Correlation  ASM  \\\n",
              "0     33             94        92            9      18           52   18   \n",
              "1     32             92        89           11      12           84   12   \n",
              "2     17             10        18           94     104           15  104   \n",
              "3     39             22        29           82     103           10  103   \n",
              "4     94             56        71           58      87           27   87   \n",
              "5      1             20        22           85     102           30  102   \n",
              "6     83             38        57           70      93           40   93   \n",
              "7     29             66        52           36      40           42   40   \n",
              "8     30             93        94           12      24           48   24   \n",
              "9     50             24        36           75     100           11  100   \n",
              "10    61             45        55           64      98           19   98   \n",
              "11    28             17        17           88      96           38   96   \n",
              "12    34             91        91           14      28           53   28   \n",
              "13    72             52        58           61      91           25   91   \n",
              "14    99              5         5           99      76           77   76   \n",
              "\n",
              "    Label  \n",
              "0       0  \n",
              "1       0  \n",
              "2       0  \n",
              "3       0  \n",
              "4       0  \n",
              "5       0  \n",
              "6       0  \n",
              "7       0  \n",
              "8       0  \n",
              "9       0  \n",
              "10      0  \n",
              "11      0  \n",
              "12      0  \n",
              "13      0  \n",
              "14      0  "
            ]
          },
          "metadata": {
            "tags": []
          },
          "execution_count": 28
        }
      ]
    },
    {
      "cell_type": "markdown",
      "metadata": {
        "id": "Ev9fT6tSiA7m",
        "colab_type": "text"
      },
      "source": [
        "# Splitting the Data into Training and Testing Data"
      ]
    },
    {
      "cell_type": "code",
      "metadata": {
        "id": "FmwnI6Bcgn7z",
        "colab_type": "code",
        "colab": {}
      },
      "source": [
        "from sklearn.model_selection import train_test_split as tt\n",
        "X = df.iloc[:, 1:6].values\n",
        "Y = df.iloc[:, 7].values\n",
        "X_train, X_test, Y_train, Y_test = tt(X,Y, test_size=0.2, random_state=4)"
      ],
      "execution_count": 29,
      "outputs": []
    },
    {
      "cell_type": "code",
      "metadata": {
        "id": "1De8a0JNhTlQ",
        "colab_type": "code",
        "colab": {
          "base_uri": "https://localhost:8080/",
          "height": 34
        },
        "outputId": "619fe27c-4b92-456b-ac74-b66ddbd87580"
      },
      "source": [
        "X_train.shape"
      ],
      "execution_count": 30,
      "outputs": [
        {
          "output_type": "execute_result",
          "data": {
            "text/plain": [
              "(84, 5)"
            ]
          },
          "metadata": {
            "tags": []
          },
          "execution_count": 30
        }
      ]
    },
    {
      "cell_type": "code",
      "metadata": {
        "id": "etHAmYhYhWxD",
        "colab_type": "code",
        "colab": {
          "base_uri": "https://localhost:8080/",
          "height": 34
        },
        "outputId": "38aa9cc7-74fe-4452-a46b-17b556c30207"
      },
      "source": [
        "Y.shape"
      ],
      "execution_count": 31,
      "outputs": [
        {
          "output_type": "execute_result",
          "data": {
            "text/plain": [
              "(105,)"
            ]
          },
          "metadata": {
            "tags": []
          },
          "execution_count": 31
        }
      ]
    },
    {
      "cell_type": "markdown",
      "metadata": {
        "id": "REuWO-shwfok",
        "colab_type": "text"
      },
      "source": [
        "#Naive Bayes Model Start Here"
      ]
    },
    {
      "cell_type": "code",
      "metadata": {
        "id": "F3Il5seCm7uB",
        "colab_type": "code",
        "colab": {}
      },
      "source": [
        "from sklearn.naive_bayes import GaussianNB\n",
        "nb = GaussianNB()\n",
        "nb.fit(X_train,Y_train)\n",
        "y_pred = nb.predict(X_test)"
      ],
      "execution_count": 32,
      "outputs": []
    },
    {
      "cell_type": "code",
      "metadata": {
        "id": "hMPVuIiXm_-x",
        "colab_type": "code",
        "colab": {}
      },
      "source": [
        "from sklearn.metrics import classification_report , confusion_matrix , accuracy_score\n",
        "cm = confusion_matrix(Y_test,y_pred)"
      ],
      "execution_count": 33,
      "outputs": []
    },
    {
      "cell_type": "code",
      "metadata": {
        "id": "DdiOWuX0nDnb",
        "colab_type": "code",
        "colab": {
          "base_uri": "https://localhost:8080/",
          "height": 51
        },
        "outputId": "43f539cb-d368-4504-c00f-7f95e870ed4a"
      },
      "source": [
        "print(\"Confusion Matrix: \\n\",cm)"
      ],
      "execution_count": 34,
      "outputs": [
        {
          "output_type": "stream",
          "text": [
            "Confusion Matrix: \n",
            " [[21]]\n"
          ],
          "name": "stdout"
        }
      ]
    },
    {
      "cell_type": "code",
      "metadata": {
        "id": "aqAg7TvCnHln",
        "colab_type": "code",
        "colab": {
          "base_uri": "https://localhost:8080/",
          "height": 170
        },
        "outputId": "480f6f80-69e7-4f5b-91b2-34db6f0a1706"
      },
      "source": [
        "print(\"Classification Report: \\n\", classification_report(Y_test, y_pred))"
      ],
      "execution_count": 35,
      "outputs": [
        {
          "output_type": "stream",
          "text": [
            "Classification Report: \n",
            "               precision    recall  f1-score   support\n",
            "\n",
            "           0       1.00      1.00      1.00        21\n",
            "\n",
            "    accuracy                           1.00        21\n",
            "   macro avg       1.00      1.00      1.00        21\n",
            "weighted avg       1.00      1.00      1.00        21\n",
            "\n"
          ],
          "name": "stdout"
        }
      ]
    },
    {
      "cell_type": "code",
      "metadata": {
        "id": "4V2vyDNanNUc",
        "colab_type": "code",
        "colab": {
          "base_uri": "https://localhost:8080/",
          "height": 34
        },
        "outputId": "baaeef0f-2403-4ba7-fb45-84a4f17f195d"
      },
      "source": [
        "print(\"Accuracy Score: \", accuracy_score(Y_test, y_pred))"
      ],
      "execution_count": 36,
      "outputs": [
        {
          "output_type": "stream",
          "text": [
            "Accuracy Score:  1.0\n"
          ],
          "name": "stdout"
        }
      ]
    }
  ]
}