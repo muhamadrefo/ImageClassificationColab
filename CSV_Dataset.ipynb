{
  "nbformat": 4,
  "nbformat_minor": 0,
  "metadata": {
    "colab": {
      "name": "CSV Dataset.ipynb",
      "provenance": [],
      "authorship_tag": "ABX9TyPu05dtDrEIB1JY+Xm17AgY",
      "include_colab_link": true
    },
    "kernelspec": {
      "name": "python3",
      "display_name": "Python 3"
    }
  },
  "cells": [
    {
      "cell_type": "markdown",
      "metadata": {
        "id": "view-in-github",
        "colab_type": "text"
      },
      "source": [
        "<a href=\"https://colab.research.google.com/github/muhamadrefo/ImageClassificationColab/blob/master/CSV_Dataset.ipynb\" target=\"_parent\"><img src=\"https://colab.research.google.com/assets/colab-badge.svg\" alt=\"Open In Colab\"/></a>"
      ]
    },
    {
      "cell_type": "markdown",
      "metadata": {
        "id": "MeiI8DjJT7Bg",
        "colab_type": "text"
      },
      "source": [
        "# Prepare Environment "
      ]
    },
    {
      "cell_type": "code",
      "metadata": {
        "id": "f9-TM4zDTy1W",
        "colab_type": "code",
        "colab": {}
      },
      "source": [
        "from google.colab import drive\n",
        "drive.mount('/content/drive')"
      ],
      "execution_count": null,
      "outputs": []
    },
    {
      "cell_type": "code",
      "metadata": {
        "id": "Q_s_0Xb7T6nT",
        "colab_type": "code",
        "colab": {}
      },
      "source": [
        "#Importing Packages\n",
        "\n",
        "import numpy as np\n",
        "import matplotlib.pyplot as plt\n",
        "import time\n",
        "import glob\n",
        "import math\n",
        "import cv2\n",
        "import os\n",
        "import pandas as pd\n",
        "\n",
        "from PIL import Image\n",
        "from PIL import ImageDraw\n",
        "from datetime import datetime\n",
        "from skimage.transform import resize\n",
        "from skimage.feature import greycomatrix, greycoprops\n",
        "#from sklearn.decomposition import PCA"
      ],
      "execution_count": 2,
      "outputs": []
    },
    {
      "cell_type": "code",
      "metadata": {
        "id": "TqZLpJROT6kJ",
        "colab_type": "code",
        "colab": {}
      },
      "source": [
        "map_8bit_to_3bit = [i // 32 for i in range(256)]"
      ],
      "execution_count": 3,
      "outputs": []
    },
    {
      "cell_type": "markdown",
      "metadata": {
        "id": "TWkMDwoAnYz1",
        "colab_type": "text"
      },
      "source": [
        "# Define Function Preprocessing"
      ]
    },
    {
      "cell_type": "code",
      "metadata": {
        "id": "qM5-VhKepZiK",
        "colab_type": "code",
        "colab": {}
      },
      "source": [
        "def read_file(myDir):\n",
        "  file_name = []\n",
        "  label = []\n",
        "  namePath = []\n",
        "\n",
        "  for path, subdirs, files in os.walk(myDir):\n",
        "    for name in files:\n",
        "      namePath.append(os.path.join(path, name))\n",
        "      label.append(path.split('/')[-1])\n",
        "\n",
        "  return namePath, label\n",
        "\n",
        "\n",
        "def load_img(img_path):\n",
        "  img = Image.open(img_path).convert('L')\n",
        "  resultImg = img.resize((224, 224))\n",
        "  return resultImg\n",
        "\n",
        "\n",
        "def show_img(img):\n",
        "  plt.imshow(img, cmap='gray')\n",
        "\n",
        "def getLabels(path):\n",
        "  label = os.listdir(path)\n",
        "  return label\n"
      ],
      "execution_count": 4,
      "outputs": []
    },
    {
      "cell_type": "code",
      "metadata": {
        "id": "IZkuHoT3nbnL",
        "colab_type": "code",
        "colab": {}
      },
      "source": [
        "#Preprocessing start from here\n",
        "\n",
        "def getColoringIMG(img):\n",
        "  ColoringIMG = list(img.getdata())\n",
        "  return ColoringIMG\n",
        "\n",
        "\n",
        "def mapTo3bit(ColoringIMG):\n",
        "  i = 0\n",
        "\n",
        "  for colorIMG in ColoringIMG:\n",
        "    ColoringIMG[i] = map_8bit_to_3bit[colorIMG]\n",
        "    i += 1\n",
        "\n",
        "  return ColoringIMG\n",
        "\n",
        "\n",
        "def transToMatriks(ColoringIMG):\n",
        "  matriksIMG = []\n",
        "  i = 0\n",
        "\n",
        "  dimensionIMG = int(math.sqrt(len(ColoringIMG)))\n",
        "\n",
        "  for row in range(dimensionIMG):\n",
        "    newRow = []\n",
        "    for col in range(dimensionIMG):\n",
        "      newRow.append(ColoringIMG[i])\n",
        "      i += 1\n",
        "    matriksIMG.append(newRow)\n",
        "\n",
        "  return matriksIMG\n",
        "\n",
        "def ExtractIMG(img):\n",
        "  IMGColor = getColoringIMG(img)\n",
        "  _3BitColor = mapTo3bit(IMGColor)\n",
        "  matriksIMG = transToMatriks(_3BitColor)\n",
        "\n",
        "  GLCMresult = []\n",
        "  glcm = greycomatrix(matriksIMG, distances=[1],angles=[0],levels=256,symmetric=False,normed=False)\n",
        "  komponen = ['dissimilarity', 'contrast', 'homogeneity', 'energy', 'correlation', 'ASM']\n",
        "\n",
        "  for i in komponen:\n",
        "    GLCMresult.append(greycoprops(glcm, i)[0][0])\n",
        "\n",
        "  return GLCMresult"
      ],
      "execution_count": 5,
      "outputs": []
    },
    {
      "cell_type": "markdown",
      "metadata": {
        "id": "mrkmRyFRV_iN",
        "colab_type": "text"
      },
      "source": [
        "# Train here to get dataset.csv"
      ]
    },
    {
      "cell_type": "code",
      "metadata": {
        "id": "8Y8pjyDMT6dv",
        "colab_type": "code",
        "colab": {
          "base_uri": "https://localhost:8080/",
          "height": 34
        },
        "outputId": "4751dc08-891d-427b-db9f-2431daf8bbbe"
      },
      "source": [
        "%cd /content/drive/My Drive/Batik/"
      ],
      "execution_count": 6,
      "outputs": [
        {
          "output_type": "stream",
          "text": [
            "/content/drive/My Drive/Batik\n"
          ],
          "name": "stdout"
        }
      ]
    },
    {
      "cell_type": "code",
      "metadata": {
        "id": "0XdCd9pTT6ak",
        "colab_type": "code",
        "colab": {}
      },
      "source": [
        "#path_train = '/content/drive/My Drive/TestingPlace/PlaceofDatabase/train'\n",
        "'''\n",
        "Using 'CNN/DataTrain/' on dataroot will give you result as dataset train\n",
        "Using 'CNN/DataValid/' on dataroot will give you result as dataset validation\n",
        "'''\n",
        "datasetRoot = 'CNN/DataValid/'"
      ],
      "execution_count": 7,
      "outputs": []
    },
    {
      "cell_type": "code",
      "metadata": {
        "id": "KRSqirCST6XL",
        "colab_type": "code",
        "colab": {
          "base_uri": "https://localhost:8080/",
          "height": 34
        },
        "outputId": "25bff1e4-d6df-470b-e585-b834f4c7955e"
      },
      "source": [
        "startTimeModule = datetime.now()\n",
        "\n",
        "path_trainIMG = []\n",
        "label_trainIMG = []\n",
        "dissimilarity = []\n",
        "contrast = []\n",
        "homogeneity = []\n",
        "energy = []\n",
        "correlation = []\n",
        "ASM = []\n",
        "\n",
        "labels = getLabels(datasetRoot)\n",
        "\n",
        "for label in labels:\n",
        "  names_Path = glob.glob(datasetRoot + label + '/' + '*.jpg')\n",
        "  for namePath in names_Path:\n",
        "    path_trainIMG.append(namePath)\n",
        "    label_trainIMG.append(label)\n",
        "    trainImg = load_img(namePath)\n",
        "    featureOfImg = ExtractIMG(trainImg)\n",
        "    dissimilarity.append(featureOfImg[0])\n",
        "    contrast.append(featureOfImg[1])\n",
        "    homogeneity.append(featureOfImg[2])\n",
        "    energy.append(featureOfImg[3])\n",
        "    correlation.append(featureOfImg[4])\n",
        "    ASM.append(featureOfImg[5])\n",
        "\n",
        "columns = [\"Path\", \"Dissimilarity\", \"Contrast\", \"Homogeneity\", \"Energy\", \"Correlation\", \"ASM\" , \"Label\"]\n",
        "#['Label','Path', 'Homogeneity', 'Dissimilarity', 'Contrast', \n",
        "#           'Energy', 'Correlation', 'ASM']\n",
        "variables = {\n",
        "    'Path':path_trainIMG,\n",
        "    'Contrast':contrast,\n",
        "    'Dissimilarity':dissimilarity,\n",
        "    'Homogeneity':homogeneity,\n",
        "    'Energy':energy,\n",
        "    'Correlation':correlation,\n",
        "    'ASM':ASM,\n",
        "    'Label':label_trainIMG,\n",
        "             }\n",
        "\n",
        "data_train = pd.DataFrame(variables, columns = columns)\n",
        "data_train.to_csv(\"DataValidation.csv\", index=False) #Changes DataTraining.csv to DataValidation.csv or vice versa\n",
        "print('Total time for processing :', (datetime.now() - startTimeModule))"
      ],
      "execution_count": 8,
      "outputs": [
        {
          "output_type": "stream",
          "text": [
            "Total time for processing : 0:01:02.105926\n"
          ],
          "name": "stdout"
        }
      ]
    }
  ]
}