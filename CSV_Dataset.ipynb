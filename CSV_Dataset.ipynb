{
  "nbformat": 4,
  "nbformat_minor": 0,
  "metadata": {
    "colab": {
      "name": "CSV Dataset.ipynb",
      "provenance": [],
      "authorship_tag": "ABX9TyMq8yiTKmxtF5BI5nxy+483",
      "include_colab_link": true
    },
    "kernelspec": {
      "name": "python3",
      "display_name": "Python 3"
    }
  },
  "cells": [
    {
      "cell_type": "markdown",
      "metadata": {
        "id": "view-in-github",
        "colab_type": "text"
      },
      "source": [
        "<a href=\"https://colab.research.google.com/github/muhamadrefo/ImageClassificationColab/blob/master/CSV_Dataset.ipynb\" target=\"_parent\"><img src=\"https://colab.research.google.com/assets/colab-badge.svg\" alt=\"Open In Colab\"/></a>"
      ]
    },
    {
      "cell_type": "markdown",
      "metadata": {
        "id": "MeiI8DjJT7Bg",
        "colab_type": "text"
      },
      "source": [
        "# Prepare Environment "
      ]
    },
    {
      "cell_type": "code",
      "metadata": {
        "id": "f9-TM4zDTy1W",
        "colab_type": "code",
        "colab": {
          "base_uri": "https://localhost:8080/",
          "height": 122
        },
        "outputId": "3994d3ec-c5da-4d97-e1f1-0829dd4ecef5"
      },
      "source": [
        "from google.colab import drive\n",
        "drive.mount('/content/drive')"
      ],
      "execution_count": 1,
      "outputs": [
        {
          "output_type": "stream",
          "text": [
            "Go to this URL in a browser: https://accounts.google.com/o/oauth2/auth?client_id=947318989803-6bn6qk8qdgf4n4g3pfee6491hc0brc4i.apps.googleusercontent.com&redirect_uri=urn%3aietf%3awg%3aoauth%3a2.0%3aoob&response_type=code&scope=email%20https%3a%2f%2fwww.googleapis.com%2fauth%2fdocs.test%20https%3a%2f%2fwww.googleapis.com%2fauth%2fdrive%20https%3a%2f%2fwww.googleapis.com%2fauth%2fdrive.photos.readonly%20https%3a%2f%2fwww.googleapis.com%2fauth%2fpeopleapi.readonly\n",
            "\n",
            "Enter your authorization code:\n",
            "··········\n",
            "Mounted at /content/drive\n"
          ],
          "name": "stdout"
        }
      ]
    },
    {
      "cell_type": "code",
      "metadata": {
        "id": "Q_s_0Xb7T6nT",
        "colab_type": "code",
        "colab": {}
      },
      "source": [
        "import numpy as np\n",
        "import matplotlib.pyplot as plt\n",
        "import time\n",
        "import glob\n",
        "import math\n",
        "import cv2\n",
        "import os\n",
        "import pandas as pd\n",
        "\n",
        "from PIL import Image\n",
        "from PIL import ImageDraw\n",
        "from datetime import datetime\n",
        "from skimage.transform import resize\n",
        "from skimage.feature import greycomatrix, greycoprops\n",
        "#from sklearn.decomposition import PCA"
      ],
      "execution_count": 2,
      "outputs": []
    },
    {
      "cell_type": "code",
      "metadata": {
        "id": "TqZLpJROT6kJ",
        "colab_type": "code",
        "colab": {}
      },
      "source": [
        "map_8bit_to_3bit = [i // 32 for i in range(256)]"
      ],
      "execution_count": 3,
      "outputs": []
    },
    {
      "cell_type": "markdown",
      "metadata": {
        "id": "TWkMDwoAnYz1",
        "colab_type": "text"
      },
      "source": [
        "# Define Function Preprocessing"
      ]
    },
    {
      "cell_type": "code",
      "metadata": {
        "id": "qM5-VhKepZiK",
        "colab_type": "code",
        "colab": {}
      },
      "source": [
        "def read_file(myDir):\n",
        "  file_name = []\n",
        "  label = []\n",
        "  namePath = []\n",
        "\n",
        "  for path, subdirs, files in os.walk(myDir):\n",
        "    for name in files:\n",
        "      namePath.append(os.path.join(path, name))\n",
        "      label.append(path.split('/')[-1])\n",
        "\n",
        "  return namePath, label\n",
        "\n",
        "\n",
        "def load_img(img_path):\n",
        "  img = Image.open(img_path).convert('L')\n",
        "  resultImg = img.resize((224, 224))\n",
        "  return resultImg\n",
        "\n",
        "\n",
        "def show_img(img):\n",
        "  plt.imshow(img, cmap='gray')\n",
        "\n",
        "def getLabels(path):\n",
        "  label = os.listdir(path)\n",
        "  return label\n"
      ],
      "execution_count": 4,
      "outputs": []
    },
    {
      "cell_type": "code",
      "metadata": {
        "id": "IZkuHoT3nbnL",
        "colab_type": "code",
        "colab": {}
      },
      "source": [
        "def getColoringIMG(img):\n",
        "  ColoringIMG = list(img.getdata())\n",
        "  return ColoringIMG\n",
        "\n",
        "\n",
        "def mapTo3bit(ColoringIMG):\n",
        "  i = 0\n",
        "\n",
        "  for colorIMG in ColoringIMG:\n",
        "    ColoringIMG[i] = map_8bit_to_3bit[colorIMG]\n",
        "    i += 1\n",
        "\n",
        "  return ColoringIMG\n",
        "\n",
        "\n",
        "def transToMatriks(ColoringIMG):\n",
        "  matriksIMG = []\n",
        "  i = 0\n",
        "\n",
        "  dimensionIMG = int(math.sqrt(len(ColoringIMG)))\n",
        "\n",
        "  for row in range(dimensionIMG):\n",
        "    newRow = []\n",
        "    for col in range(dimensionIMG):\n",
        "      newRow.append(ColoringIMG[i])\n",
        "      i += 1\n",
        "    matriksIMG.append(newRow)\n",
        "\n",
        "  return matriksIMG\n",
        "\n",
        "def ExtractIMG(img):\n",
        "  IMGColor = getColoringIMG(img)\n",
        "  _3BitColor = mapTo3bit(IMGColor)\n",
        "  matriksIMG = transToMatriks(_3BitColor)\n",
        "\n",
        "  GLCMresult = []\n",
        "  glcm = greycomatrix(matriksIMG, distances=[1],angles=[0],levels=256,symmetric=False,normed=False)\n",
        "  komponen = ['dissimilarity', 'contrast', 'homogeneity', 'energy', 'correlation', 'ASM']\n",
        "\n",
        "  for i in komponen:\n",
        "    GLCMresult.append(greycoprops(glcm, i)[0][0])\n",
        "\n",
        "  return GLCMresult"
      ],
      "execution_count": 5,
      "outputs": []
    },
    {
      "cell_type": "markdown",
      "metadata": {
        "id": "mrkmRyFRV_iN",
        "colab_type": "text"
      },
      "source": [
        "# Train here to get dataset.csv"
      ]
    },
    {
      "cell_type": "code",
      "metadata": {
        "id": "8Y8pjyDMT6dv",
        "colab_type": "code",
        "colab": {
          "base_uri": "https://localhost:8080/",
          "height": 34
        },
        "outputId": "f06f01a1-396d-41f5-a4d2-777110fe77d8"
      },
      "source": [
        "%cd /content/drive/My Drive/Batik/"
      ],
      "execution_count": 17,
      "outputs": [
        {
          "output_type": "stream",
          "text": [
            "/content/drive/My Drive/Batik\n"
          ],
          "name": "stdout"
        }
      ]
    },
    {
      "cell_type": "code",
      "metadata": {
        "id": "0XdCd9pTT6ak",
        "colab_type": "code",
        "colab": {}
      },
      "source": [
        "#path_train = '/content/drive/My Drive/TestingPlace/PlaceofDatabase/train'\n",
        "datasetRoot = 'CNN/DataTrain/'"
      ],
      "execution_count": 20,
      "outputs": []
    },
    {
      "cell_type": "code",
      "metadata": {
        "id": "KRSqirCST6XL",
        "colab_type": "code",
        "colab": {
          "base_uri": "https://localhost:8080/",
          "height": 34
        },
        "outputId": "39fcb539-570d-4ae9-e981-23f3f5e3d924"
      },
      "source": [
        "startTimeModule = datetime.now()\n",
        "\n",
        "path_trainIMG = []\n",
        "label_trainIMG = []\n",
        "dissimilarity = []\n",
        "contrast = []\n",
        "homogeneity = []\n",
        "energy = []\n",
        "correlation = []\n",
        "ASM = []\n",
        "\n",
        "labels = getLabels(datasetRoot)\n",
        "\n",
        "for label in labels:\n",
        "  names_Path = glob.glob(datasetRoot + label + '/' + '*.jpg')\n",
        "  for namePath in names_Path:\n",
        "    path_trainIMG.append(namePath)\n",
        "    label_trainIMG.append(label)\n",
        "    trainImg = load_img(namePath)\n",
        "    featureOfImg = ExtractIMG(trainImg)\n",
        "    dissimilarity.append(featureOfImg[0])\n",
        "    contrast.append(featureOfImg[1])\n",
        "    homogeneity.append(featureOfImg[2])\n",
        "    energy.append(featureOfImg[3])\n",
        "    correlation.append(featureOfImg[4])\n",
        "    ASM.append(featureOfImg[5])\n",
        "\n",
        "columns = ['Label','Path', 'Homogeneity', 'Dissimilarity', 'Contrast', \n",
        "           'Energy', 'Correlation', 'ASM']\n",
        "variables = {\n",
        "    'Path':path_trainIMG,\n",
        "    'Homogeneity':homogeneity,\n",
        "    'Label':label_trainIMG,\n",
        "    'Dissimilarity':dissimilarity,\n",
        "    'Contrast':contrast,\n",
        "    'Energy':energy,\n",
        "    'Correlation':correlation,\n",
        "    'ASM':ASM\n",
        "             }\n",
        "\n",
        "df_train = pd.DataFrame(variables, columns = columns)\n",
        "df_train.to_csv(\"DataTraining.csv\", index=False)\n",
        "print('Total time for processing :', (datetime.now() - startTimeModule))"
      ],
      "execution_count": 21,
      "outputs": [
        {
          "output_type": "stream",
          "text": [
            "Total time for processing : 0:03:54.989979\n"
          ],
          "name": "stdout"
        }
      ]
    }
  ]
}