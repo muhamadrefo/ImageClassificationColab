{
  "nbformat": 4,
  "nbformat_minor": 0,
  "metadata": {
    "colab": {
      "name": "NaiveBayesClassifier #3.ipynb",
      "provenance": [],
      "collapsed_sections": [],
      "authorship_tag": "ABX9TyPUW8R+/VrAw5moOmbJcP6L",
      "include_colab_link": true
    },
    "kernelspec": {
      "name": "python3",
      "display_name": "Python 3"
    }
  },
  "cells": [
    {
      "cell_type": "markdown",
      "metadata": {
        "id": "view-in-github",
        "colab_type": "text"
      },
      "source": [
        "<a href=\"https://colab.research.google.com/github/muhamadrefo/ImageClassificationColab/blob/master/NaiveBayesClassifier_3.ipynb\" target=\"_parent\"><img src=\"https://colab.research.google.com/assets/colab-badge.svg\" alt=\"Open In Colab\"/></a>"
      ]
    },
    {
      "cell_type": "markdown",
      "metadata": {
        "id": "hUSzoRIphpUT",
        "colab_type": "text"
      },
      "source": [
        "# Prepare Environment"
      ]
    },
    {
      "cell_type": "code",
      "metadata": {
        "id": "Ll5cIcR1qCPz",
        "colab_type": "code",
        "colab": {}
      },
      "source": [
        "from google.colab import drive\n",
        "drive.mount('/content/drive')"
      ],
      "execution_count": null,
      "outputs": []
    },
    {
      "cell_type": "code",
      "metadata": {
        "id": "D9d2Z58gqR2A",
        "colab_type": "code",
        "colab": {}
      },
      "source": [
        "#Importing Packages\n",
        "\n",
        "import matplotlib.pyplot as plt\n",
        "import csv\n",
        "import numpy as np\n",
        "import pandas as pd\n",
        "from sklearn import model_selection\n",
        "from sklearn.model_selection import train_test_split as tt\n",
        "from sklearn.metrics import classification_report\n",
        "from sklearn.metrics import confusion_matrix\n",
        "from sklearn.metrics import accuracy_score\n",
        "\n",
        "%matplotlib inline"
      ],
      "execution_count": 4,
      "outputs": []
    },
    {
      "cell_type": "code",
      "metadata": {
        "id": "vxXMGOmrqSRE",
        "colab_type": "code",
        "colab": {
          "base_uri": "https://localhost:8080/",
          "height": 34
        },
        "outputId": "c3047c9d-0254-454a-8afb-735625728cff"
      },
      "source": [
        "#Filtered Dataset\n",
        "%cd /content/drive/My Drive/TestingPlace/PlaceofDatabase/CNN/\n",
        "#Unfiltered Dataset\n",
        "#%cd /content/drive/My Drive/Batik/"
      ],
      "execution_count": 5,
      "outputs": [
        {
          "output_type": "stream",
          "text": [
            "/content/drive/My Drive/TestingPlace/PlaceofDatabase/CNN\n"
          ],
          "name": "stdout"
        }
      ]
    },
    {
      "cell_type": "markdown",
      "metadata": {
        "id": "5HoA9_8Shxmw",
        "colab_type": "text"
      },
      "source": [
        "#Reading dataset"
      ]
    },
    {
      "cell_type": "code",
      "metadata": {
        "id": "DtBkf3yHqSNu",
        "colab_type": "code",
        "colab": {
          "base_uri": "https://localhost:8080/",
          "height": 514
        },
        "outputId": "a209f1f2-0ed0-4823-b0a5-4e0fa53148aa"
      },
      "source": [
        "#col_names = [\"Path\", \"Dissimilarity\", \"Contrast\", \"Homogeneity\", \"Energy\", \"Correlation\", \"ASM\" , \"Label\"]\n",
        "#datatrain = pd.read_csv('DataTraining.csv', names=col_names)\n",
        "\n",
        "data_train = pd.read_csv('DataTraining.csv') #DataTraining.csv nor DataValidation.csv\n",
        "#data_train = pd.read_csv('DataValidation.csv')\n",
        "pd.set_option('display.max_columns', 100)\n",
        "data_train.head(15) #display first 15 data"
      ],
      "execution_count": 23,
      "outputs": [
        {
          "output_type": "execute_result",
          "data": {
            "text/html": [
              "<div>\n",
              "<style scoped>\n",
              "    .dataframe tbody tr th:only-of-type {\n",
              "        vertical-align: middle;\n",
              "    }\n",
              "\n",
              "    .dataframe tbody tr th {\n",
              "        vertical-align: top;\n",
              "    }\n",
              "\n",
              "    .dataframe thead th {\n",
              "        text-align: right;\n",
              "    }\n",
              "</style>\n",
              "<table border=\"1\" class=\"dataframe\">\n",
              "  <thead>\n",
              "    <tr style=\"text-align: right;\">\n",
              "      <th></th>\n",
              "      <th>Path</th>\n",
              "      <th>Dissimilarity</th>\n",
              "      <th>Contrast</th>\n",
              "      <th>Homogeneity</th>\n",
              "      <th>Energy</th>\n",
              "      <th>Correlation</th>\n",
              "      <th>ASM</th>\n",
              "      <th>Label</th>\n",
              "    </tr>\n",
              "  </thead>\n",
              "  <tbody>\n",
              "    <tr>\n",
              "      <th>0</th>\n",
              "      <td>dataset_Cap_vs_Tulis/train/cap/YCNSBT.39.jpg</td>\n",
              "      <td>0.627122</td>\n",
              "      <td>0.905349</td>\n",
              "      <td>0.714101</td>\n",
              "      <td>0.363739</td>\n",
              "      <td>0.449124</td>\n",
              "      <td>0.132306</td>\n",
              "      <td>cap</td>\n",
              "    </tr>\n",
              "    <tr>\n",
              "      <th>1</th>\n",
              "      <td>dataset_Cap_vs_Tulis/train/cap/YCNSBT.35.jpg</td>\n",
              "      <td>0.537396</td>\n",
              "      <td>0.718049</td>\n",
              "      <td>0.749297</td>\n",
              "      <td>0.381303</td>\n",
              "      <td>0.548324</td>\n",
              "      <td>0.145392</td>\n",
              "      <td>cap</td>\n",
              "    </tr>\n",
              "    <tr>\n",
              "      <th>2</th>\n",
              "      <td>dataset_Cap_vs_Tulis/train/cap/YCNSBT.36.jpg</td>\n",
              "      <td>0.594090</td>\n",
              "      <td>0.842489</td>\n",
              "      <td>0.727348</td>\n",
              "      <td>0.379189</td>\n",
              "      <td>0.437346</td>\n",
              "      <td>0.143784</td>\n",
              "      <td>cap</td>\n",
              "    </tr>\n",
              "    <tr>\n",
              "      <th>3</th>\n",
              "      <td>dataset_Cap_vs_Tulis/train/cap/YCNSBT.37.jpg</td>\n",
              "      <td>0.609385</td>\n",
              "      <td>0.836083</td>\n",
              "      <td>0.717911</td>\n",
              "      <td>0.383743</td>\n",
              "      <td>0.414907</td>\n",
              "      <td>0.147259</td>\n",
              "      <td>cap</td>\n",
              "    </tr>\n",
              "    <tr>\n",
              "      <th>4</th>\n",
              "      <td>dataset_Cap_vs_Tulis/train/cap/YCNSBT.34.jpg</td>\n",
              "      <td>0.601197</td>\n",
              "      <td>0.844070</td>\n",
              "      <td>0.723463</td>\n",
              "      <td>0.364463</td>\n",
              "      <td>0.548681</td>\n",
              "      <td>0.132833</td>\n",
              "      <td>cap</td>\n",
              "    </tr>\n",
              "    <tr>\n",
              "      <th>5</th>\n",
              "      <td>dataset_Cap_vs_Tulis/train/cap/YCNSBT.32.jpg</td>\n",
              "      <td>0.656130</td>\n",
              "      <td>0.969711</td>\n",
              "      <td>0.703073</td>\n",
              "      <td>0.363779</td>\n",
              "      <td>0.436385</td>\n",
              "      <td>0.132335</td>\n",
              "      <td>cap</td>\n",
              "    </tr>\n",
              "    <tr>\n",
              "      <th>6</th>\n",
              "      <td>dataset_Cap_vs_Tulis/train/cap/YCNSBT.33.jpg</td>\n",
              "      <td>0.557755</td>\n",
              "      <td>0.748859</td>\n",
              "      <td>0.739961</td>\n",
              "      <td>0.391705</td>\n",
              "      <td>0.455864</td>\n",
              "      <td>0.153433</td>\n",
              "      <td>cap</td>\n",
              "    </tr>\n",
              "    <tr>\n",
              "      <th>7</th>\n",
              "      <td>dataset_Cap_vs_Tulis/train/cap/YCNSBT.24.jpg</td>\n",
              "      <td>0.657111</td>\n",
              "      <td>0.960802</td>\n",
              "      <td>0.701605</td>\n",
              "      <td>0.373753</td>\n",
              "      <td>0.384801</td>\n",
              "      <td>0.139691</td>\n",
              "      <td>cap</td>\n",
              "    </tr>\n",
              "    <tr>\n",
              "      <th>8</th>\n",
              "      <td>dataset_Cap_vs_Tulis/train/cap/YCNSBT.25.jpg</td>\n",
              "      <td>0.597874</td>\n",
              "      <td>0.836263</td>\n",
              "      <td>0.724778</td>\n",
              "      <td>0.370439</td>\n",
              "      <td>0.472178</td>\n",
              "      <td>0.137225</td>\n",
              "      <td>cap</td>\n",
              "    </tr>\n",
              "    <tr>\n",
              "      <th>9</th>\n",
              "      <td>dataset_Cap_vs_Tulis/train/cap/YCNSBT.28.jpg</td>\n",
              "      <td>0.548847</td>\n",
              "      <td>0.727018</td>\n",
              "      <td>0.743285</td>\n",
              "      <td>0.385256</td>\n",
              "      <td>0.536179</td>\n",
              "      <td>0.148422</td>\n",
              "      <td>cap</td>\n",
              "    </tr>\n",
              "    <tr>\n",
              "      <th>10</th>\n",
              "      <td>dataset_Cap_vs_Tulis/train/cap/YCNSBT.26.jpg</td>\n",
              "      <td>0.550969</td>\n",
              "      <td>0.743234</td>\n",
              "      <td>0.743635</td>\n",
              "      <td>0.380415</td>\n",
              "      <td>0.534508</td>\n",
              "      <td>0.144715</td>\n",
              "      <td>cap</td>\n",
              "    </tr>\n",
              "    <tr>\n",
              "      <th>11</th>\n",
              "      <td>dataset_Cap_vs_Tulis/train/cap/YCNSBT.3.jpg</td>\n",
              "      <td>0.498058</td>\n",
              "      <td>0.698731</td>\n",
              "      <td>0.770924</td>\n",
              "      <td>0.496100</td>\n",
              "      <td>0.661364</td>\n",
              "      <td>0.246115</td>\n",
              "      <td>cap</td>\n",
              "    </tr>\n",
              "    <tr>\n",
              "      <th>12</th>\n",
              "      <td>dataset_Cap_vs_Tulis/train/cap/YCNSBT.23.jpg</td>\n",
              "      <td>0.598795</td>\n",
              "      <td>0.844671</td>\n",
              "      <td>0.724906</td>\n",
              "      <td>0.374617</td>\n",
              "      <td>0.446828</td>\n",
              "      <td>0.140338</td>\n",
              "      <td>cap</td>\n",
              "    </tr>\n",
              "    <tr>\n",
              "      <th>13</th>\n",
              "      <td>dataset_Cap_vs_Tulis/train/cap/YCNSBT.21.jpg</td>\n",
              "      <td>0.614890</td>\n",
              "      <td>0.864450</td>\n",
              "      <td>0.717309</td>\n",
              "      <td>0.375527</td>\n",
              "      <td>0.434121</td>\n",
              "      <td>0.141021</td>\n",
              "      <td>cap</td>\n",
              "    </tr>\n",
              "    <tr>\n",
              "      <th>14</th>\n",
              "      <td>dataset_Cap_vs_Tulis/train/cap/YCNSBT.2.jpg</td>\n",
              "      <td>0.510130</td>\n",
              "      <td>0.721092</td>\n",
              "      <td>0.765693</td>\n",
              "      <td>0.517909</td>\n",
              "      <td>0.387049</td>\n",
              "      <td>0.268230</td>\n",
              "      <td>cap</td>\n",
              "    </tr>\n",
              "  </tbody>\n",
              "</table>\n",
              "</div>"
            ],
            "text/plain": [
              "                                            Path  Dissimilarity  Contrast  \\\n",
              "0   dataset_Cap_vs_Tulis/train/cap/YCNSBT.39.jpg       0.627122  0.905349   \n",
              "1   dataset_Cap_vs_Tulis/train/cap/YCNSBT.35.jpg       0.537396  0.718049   \n",
              "2   dataset_Cap_vs_Tulis/train/cap/YCNSBT.36.jpg       0.594090  0.842489   \n",
              "3   dataset_Cap_vs_Tulis/train/cap/YCNSBT.37.jpg       0.609385  0.836083   \n",
              "4   dataset_Cap_vs_Tulis/train/cap/YCNSBT.34.jpg       0.601197  0.844070   \n",
              "5   dataset_Cap_vs_Tulis/train/cap/YCNSBT.32.jpg       0.656130  0.969711   \n",
              "6   dataset_Cap_vs_Tulis/train/cap/YCNSBT.33.jpg       0.557755  0.748859   \n",
              "7   dataset_Cap_vs_Tulis/train/cap/YCNSBT.24.jpg       0.657111  0.960802   \n",
              "8   dataset_Cap_vs_Tulis/train/cap/YCNSBT.25.jpg       0.597874  0.836263   \n",
              "9   dataset_Cap_vs_Tulis/train/cap/YCNSBT.28.jpg       0.548847  0.727018   \n",
              "10  dataset_Cap_vs_Tulis/train/cap/YCNSBT.26.jpg       0.550969  0.743234   \n",
              "11   dataset_Cap_vs_Tulis/train/cap/YCNSBT.3.jpg       0.498058  0.698731   \n",
              "12  dataset_Cap_vs_Tulis/train/cap/YCNSBT.23.jpg       0.598795  0.844671   \n",
              "13  dataset_Cap_vs_Tulis/train/cap/YCNSBT.21.jpg       0.614890  0.864450   \n",
              "14   dataset_Cap_vs_Tulis/train/cap/YCNSBT.2.jpg       0.510130  0.721092   \n",
              "\n",
              "    Homogeneity    Energy  Correlation       ASM Label  \n",
              "0      0.714101  0.363739     0.449124  0.132306   cap  \n",
              "1      0.749297  0.381303     0.548324  0.145392   cap  \n",
              "2      0.727348  0.379189     0.437346  0.143784   cap  \n",
              "3      0.717911  0.383743     0.414907  0.147259   cap  \n",
              "4      0.723463  0.364463     0.548681  0.132833   cap  \n",
              "5      0.703073  0.363779     0.436385  0.132335   cap  \n",
              "6      0.739961  0.391705     0.455864  0.153433   cap  \n",
              "7      0.701605  0.373753     0.384801  0.139691   cap  \n",
              "8      0.724778  0.370439     0.472178  0.137225   cap  \n",
              "9      0.743285  0.385256     0.536179  0.148422   cap  \n",
              "10     0.743635  0.380415     0.534508  0.144715   cap  \n",
              "11     0.770924  0.496100     0.661364  0.246115   cap  \n",
              "12     0.724906  0.374617     0.446828  0.140338   cap  \n",
              "13     0.717309  0.375527     0.434121  0.141021   cap  \n",
              "14     0.765693  0.517909     0.387049  0.268230   cap  "
            ]
          },
          "metadata": {
            "tags": []
          },
          "execution_count": 23
        }
      ]
    },
    {
      "cell_type": "code",
      "metadata": {
        "id": "zYlNmAsbeZxc",
        "colab_type": "code",
        "colab": {
          "base_uri": "https://localhost:8080/",
          "height": 68
        },
        "outputId": "49e91907-fd56-4367-9b5b-4fd0361e85ad"
      },
      "source": [
        "# show columns\n",
        "data_train.columns "
      ],
      "execution_count": 24,
      "outputs": [
        {
          "output_type": "execute_result",
          "data": {
            "text/plain": [
              "Index(['Path', 'Dissimilarity', 'Contrast', 'Homogeneity', 'Energy',\n",
              "       'Correlation', 'ASM', 'Label'],\n",
              "      dtype='object')"
            ]
          },
          "metadata": {
            "tags": []
          },
          "execution_count": 24
        }
      ]
    },
    {
      "cell_type": "code",
      "metadata": {
        "id": "1AAc-0lAMWzQ",
        "colab_type": "code",
        "colab": {
          "base_uri": "https://localhost:8080/",
          "height": 419
        },
        "outputId": "274dcdf9-6bf5-439b-e154-3369a18b3f75"
      },
      "source": [
        "data_train"
      ],
      "execution_count": 25,
      "outputs": [
        {
          "output_type": "execute_result",
          "data": {
            "text/html": [
              "<div>\n",
              "<style scoped>\n",
              "    .dataframe tbody tr th:only-of-type {\n",
              "        vertical-align: middle;\n",
              "    }\n",
              "\n",
              "    .dataframe tbody tr th {\n",
              "        vertical-align: top;\n",
              "    }\n",
              "\n",
              "    .dataframe thead th {\n",
              "        text-align: right;\n",
              "    }\n",
              "</style>\n",
              "<table border=\"1\" class=\"dataframe\">\n",
              "  <thead>\n",
              "    <tr style=\"text-align: right;\">\n",
              "      <th></th>\n",
              "      <th>Path</th>\n",
              "      <th>Dissimilarity</th>\n",
              "      <th>Contrast</th>\n",
              "      <th>Homogeneity</th>\n",
              "      <th>Energy</th>\n",
              "      <th>Correlation</th>\n",
              "      <th>ASM</th>\n",
              "      <th>Label</th>\n",
              "    </tr>\n",
              "  </thead>\n",
              "  <tbody>\n",
              "    <tr>\n",
              "      <th>0</th>\n",
              "      <td>dataset_Cap_vs_Tulis/train/cap/YCNSBT.39.jpg</td>\n",
              "      <td>0.627122</td>\n",
              "      <td>0.905349</td>\n",
              "      <td>0.714101</td>\n",
              "      <td>0.363739</td>\n",
              "      <td>0.449124</td>\n",
              "      <td>0.132306</td>\n",
              "      <td>cap</td>\n",
              "    </tr>\n",
              "    <tr>\n",
              "      <th>1</th>\n",
              "      <td>dataset_Cap_vs_Tulis/train/cap/YCNSBT.35.jpg</td>\n",
              "      <td>0.537396</td>\n",
              "      <td>0.718049</td>\n",
              "      <td>0.749297</td>\n",
              "      <td>0.381303</td>\n",
              "      <td>0.548324</td>\n",
              "      <td>0.145392</td>\n",
              "      <td>cap</td>\n",
              "    </tr>\n",
              "    <tr>\n",
              "      <th>2</th>\n",
              "      <td>dataset_Cap_vs_Tulis/train/cap/YCNSBT.36.jpg</td>\n",
              "      <td>0.594090</td>\n",
              "      <td>0.842489</td>\n",
              "      <td>0.727348</td>\n",
              "      <td>0.379189</td>\n",
              "      <td>0.437346</td>\n",
              "      <td>0.143784</td>\n",
              "      <td>cap</td>\n",
              "    </tr>\n",
              "    <tr>\n",
              "      <th>3</th>\n",
              "      <td>dataset_Cap_vs_Tulis/train/cap/YCNSBT.37.jpg</td>\n",
              "      <td>0.609385</td>\n",
              "      <td>0.836083</td>\n",
              "      <td>0.717911</td>\n",
              "      <td>0.383743</td>\n",
              "      <td>0.414907</td>\n",
              "      <td>0.147259</td>\n",
              "      <td>cap</td>\n",
              "    </tr>\n",
              "    <tr>\n",
              "      <th>4</th>\n",
              "      <td>dataset_Cap_vs_Tulis/train/cap/YCNSBT.34.jpg</td>\n",
              "      <td>0.601197</td>\n",
              "      <td>0.844070</td>\n",
              "      <td>0.723463</td>\n",
              "      <td>0.364463</td>\n",
              "      <td>0.548681</td>\n",
              "      <td>0.132833</td>\n",
              "      <td>cap</td>\n",
              "    </tr>\n",
              "    <tr>\n",
              "      <th>...</th>\n",
              "      <td>...</td>\n",
              "      <td>...</td>\n",
              "      <td>...</td>\n",
              "      <td>...</td>\n",
              "      <td>...</td>\n",
              "      <td>...</td>\n",
              "      <td>...</td>\n",
              "      <td>...</td>\n",
              "    </tr>\n",
              "    <tr>\n",
              "      <th>420</th>\n",
              "      <td>dataset_Cap_vs_Tulis/train/tulis/YTNSWT.10.jpg</td>\n",
              "      <td>0.420203</td>\n",
              "      <td>0.572349</td>\n",
              "      <td>0.805099</td>\n",
              "      <td>0.529145</td>\n",
              "      <td>0.406434</td>\n",
              "      <td>0.279995</td>\n",
              "      <td>tulis</td>\n",
              "    </tr>\n",
              "    <tr>\n",
              "      <th>421</th>\n",
              "      <td>dataset_Cap_vs_Tulis/train/tulis/YTNSWT.11.jpg</td>\n",
              "      <td>0.557255</td>\n",
              "      <td>0.886971</td>\n",
              "      <td>0.754050</td>\n",
              "      <td>0.461027</td>\n",
              "      <td>0.469459</td>\n",
              "      <td>0.212546</td>\n",
              "      <td>tulis</td>\n",
              "    </tr>\n",
              "    <tr>\n",
              "      <th>422</th>\n",
              "      <td>dataset_Cap_vs_Tulis/train/tulis/YTNSWT.12.jpg</td>\n",
              "      <td>0.484585</td>\n",
              "      <td>0.694867</td>\n",
              "      <td>0.778702</td>\n",
              "      <td>0.504275</td>\n",
              "      <td>0.377737</td>\n",
              "      <td>0.254294</td>\n",
              "      <td>tulis</td>\n",
              "    </tr>\n",
              "    <tr>\n",
              "      <th>423</th>\n",
              "      <td>dataset_Cap_vs_Tulis/train/tulis/YTNSWT.13.jpg</td>\n",
              "      <td>0.428832</td>\n",
              "      <td>0.573971</td>\n",
              "      <td>0.800067</td>\n",
              "      <td>0.515419</td>\n",
              "      <td>0.442994</td>\n",
              "      <td>0.265657</td>\n",
              "      <td>tulis</td>\n",
              "    </tr>\n",
              "    <tr>\n",
              "      <th>424</th>\n",
              "      <td>dataset_Cap_vs_Tulis/train/tulis/YTNSWT.1.jpg</td>\n",
              "      <td>0.399123</td>\n",
              "      <td>0.533933</td>\n",
              "      <td>0.813917</td>\n",
              "      <td>0.540175</td>\n",
              "      <td>0.475306</td>\n",
              "      <td>0.291789</td>\n",
              "      <td>tulis</td>\n",
              "    </tr>\n",
              "  </tbody>\n",
              "</table>\n",
              "<p>425 rows × 8 columns</p>\n",
              "</div>"
            ],
            "text/plain": [
              "                                               Path  Dissimilarity  Contrast  \\\n",
              "0      dataset_Cap_vs_Tulis/train/cap/YCNSBT.39.jpg       0.627122  0.905349   \n",
              "1      dataset_Cap_vs_Tulis/train/cap/YCNSBT.35.jpg       0.537396  0.718049   \n",
              "2      dataset_Cap_vs_Tulis/train/cap/YCNSBT.36.jpg       0.594090  0.842489   \n",
              "3      dataset_Cap_vs_Tulis/train/cap/YCNSBT.37.jpg       0.609385  0.836083   \n",
              "4      dataset_Cap_vs_Tulis/train/cap/YCNSBT.34.jpg       0.601197  0.844070   \n",
              "..                                              ...            ...       ...   \n",
              "420  dataset_Cap_vs_Tulis/train/tulis/YTNSWT.10.jpg       0.420203  0.572349   \n",
              "421  dataset_Cap_vs_Tulis/train/tulis/YTNSWT.11.jpg       0.557255  0.886971   \n",
              "422  dataset_Cap_vs_Tulis/train/tulis/YTNSWT.12.jpg       0.484585  0.694867   \n",
              "423  dataset_Cap_vs_Tulis/train/tulis/YTNSWT.13.jpg       0.428832  0.573971   \n",
              "424   dataset_Cap_vs_Tulis/train/tulis/YTNSWT.1.jpg       0.399123  0.533933   \n",
              "\n",
              "     Homogeneity    Energy  Correlation       ASM  Label  \n",
              "0       0.714101  0.363739     0.449124  0.132306    cap  \n",
              "1       0.749297  0.381303     0.548324  0.145392    cap  \n",
              "2       0.727348  0.379189     0.437346  0.143784    cap  \n",
              "3       0.717911  0.383743     0.414907  0.147259    cap  \n",
              "4       0.723463  0.364463     0.548681  0.132833    cap  \n",
              "..           ...       ...          ...       ...    ...  \n",
              "420     0.805099  0.529145     0.406434  0.279995  tulis  \n",
              "421     0.754050  0.461027     0.469459  0.212546  tulis  \n",
              "422     0.778702  0.504275     0.377737  0.254294  tulis  \n",
              "423     0.800067  0.515419     0.442994  0.265657  tulis  \n",
              "424     0.813917  0.540175     0.475306  0.291789  tulis  \n",
              "\n",
              "[425 rows x 8 columns]"
            ]
          },
          "metadata": {
            "tags": []
          },
          "execution_count": 25
        }
      ]
    },
    {
      "cell_type": "markdown",
      "metadata": {
        "id": "Sb72jKV-h6xu",
        "colab_type": "text"
      },
      "source": [
        "# Encoding the Categorial Data"
      ]
    },
    {
      "cell_type": "code",
      "metadata": {
        "id": "ZQ84fkSaexjT",
        "colab_type": "code",
        "colab": {
          "base_uri": "https://localhost:8080/",
          "height": 514
        },
        "outputId": "d1c0a384-80bb-4ced-bee7-738043f9a563"
      },
      "source": [
        "from sklearn.preprocessing import LabelEncoder\n",
        "le = LabelEncoder()\n",
        "df = data_train.apply(le.fit_transform)\n",
        "df.head(15)"
      ],
      "execution_count": 26,
      "outputs": [
        {
          "output_type": "execute_result",
          "data": {
            "text/html": [
              "<div>\n",
              "<style scoped>\n",
              "    .dataframe tbody tr th:only-of-type {\n",
              "        vertical-align: middle;\n",
              "    }\n",
              "\n",
              "    .dataframe tbody tr th {\n",
              "        vertical-align: top;\n",
              "    }\n",
              "\n",
              "    .dataframe thead th {\n",
              "        text-align: right;\n",
              "    }\n",
              "</style>\n",
              "<table border=\"1\" class=\"dataframe\">\n",
              "  <thead>\n",
              "    <tr style=\"text-align: right;\">\n",
              "      <th></th>\n",
              "      <th>Path</th>\n",
              "      <th>Dissimilarity</th>\n",
              "      <th>Contrast</th>\n",
              "      <th>Homogeneity</th>\n",
              "      <th>Energy</th>\n",
              "      <th>Correlation</th>\n",
              "      <th>ASM</th>\n",
              "      <th>Label</th>\n",
              "    </tr>\n",
              "  </thead>\n",
              "  <tbody>\n",
              "    <tr>\n",
              "      <th>0</th>\n",
              "      <td>20</td>\n",
              "      <td>299</td>\n",
              "      <td>273</td>\n",
              "      <td>104</td>\n",
              "      <td>118</td>\n",
              "      <td>65</td>\n",
              "      <td>118</td>\n",
              "      <td>0</td>\n",
              "    </tr>\n",
              "    <tr>\n",
              "      <th>1</th>\n",
              "      <td>17</td>\n",
              "      <td>243</td>\n",
              "      <td>195</td>\n",
              "      <td>154</td>\n",
              "      <td>153</td>\n",
              "      <td>97</td>\n",
              "      <td>153</td>\n",
              "      <td>0</td>\n",
              "    </tr>\n",
              "    <tr>\n",
              "      <th>2</th>\n",
              "      <td>18</td>\n",
              "      <td>277</td>\n",
              "      <td>247</td>\n",
              "      <td>123</td>\n",
              "      <td>149</td>\n",
              "      <td>60</td>\n",
              "      <td>149</td>\n",
              "      <td>0</td>\n",
              "    </tr>\n",
              "    <tr>\n",
              "      <th>3</th>\n",
              "      <td>19</td>\n",
              "      <td>288</td>\n",
              "      <td>244</td>\n",
              "      <td>107</td>\n",
              "      <td>159</td>\n",
              "      <td>50</td>\n",
              "      <td>159</td>\n",
              "      <td>0</td>\n",
              "    </tr>\n",
              "    <tr>\n",
              "      <th>4</th>\n",
              "      <td>16</td>\n",
              "      <td>285</td>\n",
              "      <td>250</td>\n",
              "      <td>114</td>\n",
              "      <td>120</td>\n",
              "      <td>98</td>\n",
              "      <td>120</td>\n",
              "      <td>0</td>\n",
              "    </tr>\n",
              "    <tr>\n",
              "      <th>5</th>\n",
              "      <td>14</td>\n",
              "      <td>309</td>\n",
              "      <td>294</td>\n",
              "      <td>97</td>\n",
              "      <td>119</td>\n",
              "      <td>59</td>\n",
              "      <td>119</td>\n",
              "      <td>0</td>\n",
              "    </tr>\n",
              "    <tr>\n",
              "      <th>6</th>\n",
              "      <td>15</td>\n",
              "      <td>256</td>\n",
              "      <td>217</td>\n",
              "      <td>137</td>\n",
              "      <td>175</td>\n",
              "      <td>67</td>\n",
              "      <td>175</td>\n",
              "      <td>0</td>\n",
              "    </tr>\n",
              "    <tr>\n",
              "      <th>7</th>\n",
              "      <td>9</td>\n",
              "      <td>310</td>\n",
              "      <td>293</td>\n",
              "      <td>91</td>\n",
              "      <td>134</td>\n",
              "      <td>35</td>\n",
              "      <td>134</td>\n",
              "      <td>0</td>\n",
              "    </tr>\n",
              "    <tr>\n",
              "      <th>8</th>\n",
              "      <td>10</td>\n",
              "      <td>279</td>\n",
              "      <td>245</td>\n",
              "      <td>118</td>\n",
              "      <td>127</td>\n",
              "      <td>73</td>\n",
              "      <td>127</td>\n",
              "      <td>0</td>\n",
              "    </tr>\n",
              "    <tr>\n",
              "      <th>9</th>\n",
              "      <td>12</td>\n",
              "      <td>249</td>\n",
              "      <td>201</td>\n",
              "      <td>144</td>\n",
              "      <td>163</td>\n",
              "      <td>94</td>\n",
              "      <td>163</td>\n",
              "      <td>0</td>\n",
              "    </tr>\n",
              "    <tr>\n",
              "      <th>10</th>\n",
              "      <td>11</td>\n",
              "      <td>252</td>\n",
              "      <td>216</td>\n",
              "      <td>145</td>\n",
              "      <td>151</td>\n",
              "      <td>93</td>\n",
              "      <td>151</td>\n",
              "      <td>0</td>\n",
              "    </tr>\n",
              "    <tr>\n",
              "      <th>11</th>\n",
              "      <td>13</td>\n",
              "      <td>211</td>\n",
              "      <td>189</td>\n",
              "      <td>194</td>\n",
              "      <td>285</td>\n",
              "      <td>201</td>\n",
              "      <td>285</td>\n",
              "      <td>0</td>\n",
              "    </tr>\n",
              "    <tr>\n",
              "      <th>12</th>\n",
              "      <td>8</td>\n",
              "      <td>280</td>\n",
              "      <td>252</td>\n",
              "      <td>120</td>\n",
              "      <td>138</td>\n",
              "      <td>64</td>\n",
              "      <td>138</td>\n",
              "      <td>0</td>\n",
              "    </tr>\n",
              "    <tr>\n",
              "      <th>13</th>\n",
              "      <td>7</td>\n",
              "      <td>293</td>\n",
              "      <td>259</td>\n",
              "      <td>106</td>\n",
              "      <td>141</td>\n",
              "      <td>57</td>\n",
              "      <td>141</td>\n",
              "      <td>0</td>\n",
              "    </tr>\n",
              "    <tr>\n",
              "      <th>14</th>\n",
              "      <td>6</td>\n",
              "      <td>220</td>\n",
              "      <td>199</td>\n",
              "      <td>182</td>\n",
              "      <td>317</td>\n",
              "      <td>38</td>\n",
              "      <td>317</td>\n",
              "      <td>0</td>\n",
              "    </tr>\n",
              "  </tbody>\n",
              "</table>\n",
              "</div>"
            ],
            "text/plain": [
              "    Path  Dissimilarity  Contrast  Homogeneity  Energy  Correlation  ASM  \\\n",
              "0     20            299       273          104     118           65  118   \n",
              "1     17            243       195          154     153           97  153   \n",
              "2     18            277       247          123     149           60  149   \n",
              "3     19            288       244          107     159           50  159   \n",
              "4     16            285       250          114     120           98  120   \n",
              "5     14            309       294           97     119           59  119   \n",
              "6     15            256       217          137     175           67  175   \n",
              "7      9            310       293           91     134           35  134   \n",
              "8     10            279       245          118     127           73  127   \n",
              "9     12            249       201          144     163           94  163   \n",
              "10    11            252       216          145     151           93  151   \n",
              "11    13            211       189          194     285          201  285   \n",
              "12     8            280       252          120     138           64  138   \n",
              "13     7            293       259          106     141           57  141   \n",
              "14     6            220       199          182     317           38  317   \n",
              "\n",
              "    Label  \n",
              "0       0  \n",
              "1       0  \n",
              "2       0  \n",
              "3       0  \n",
              "4       0  \n",
              "5       0  \n",
              "6       0  \n",
              "7       0  \n",
              "8       0  \n",
              "9       0  \n",
              "10      0  \n",
              "11      0  \n",
              "12      0  \n",
              "13      0  \n",
              "14      0  "
            ]
          },
          "metadata": {
            "tags": []
          },
          "execution_count": 26
        }
      ]
    },
    {
      "cell_type": "markdown",
      "metadata": {
        "id": "Ev9fT6tSiA7m",
        "colab_type": "text"
      },
      "source": [
        "# Splitting the Data into Training and Testing Data"
      ]
    },
    {
      "cell_type": "code",
      "metadata": {
        "id": "FmwnI6Bcgn7z",
        "colab_type": "code",
        "colab": {}
      },
      "source": [
        "X = df.iloc[:, 0:7].values # per array (Path, Diss, Contr, Homog, Energ, Correl, ASM), when start with 0, 'path' included, if start from 1, mean 'path' not included \n",
        "Y = df.iloc[:, 7].values # array (Label 'cap' or 'tulis')\n",
        "X_train, X_test, Y_train, Y_test = tt(X,Y, test_size=0.2, random_state=4)"
      ],
      "execution_count": 77,
      "outputs": []
    },
    {
      "cell_type": "code",
      "metadata": {
        "id": "1De8a0JNhTlQ",
        "colab_type": "code",
        "colab": {
          "base_uri": "https://localhost:8080/",
          "height": 34
        },
        "outputId": "7f9d8f57-ef53-4cd5-f1b7-48dd0aff4a12"
      },
      "source": [
        "X_train.shape"
      ],
      "execution_count": 78,
      "outputs": [
        {
          "output_type": "execute_result",
          "data": {
            "text/plain": [
              "(340, 7)"
            ]
          },
          "metadata": {
            "tags": []
          },
          "execution_count": 78
        }
      ]
    },
    {
      "cell_type": "code",
      "metadata": {
        "id": "etHAmYhYhWxD",
        "colab_type": "code",
        "colab": {
          "base_uri": "https://localhost:8080/",
          "height": 34
        },
        "outputId": "26ce54b4-91a4-4e78-c234-7216b1375f2a"
      },
      "source": [
        "Y.shape"
      ],
      "execution_count": 79,
      "outputs": [
        {
          "output_type": "execute_result",
          "data": {
            "text/plain": [
              "(425,)"
            ]
          },
          "metadata": {
            "tags": []
          },
          "execution_count": 79
        }
      ]
    },
    {
      "cell_type": "code",
      "metadata": {
        "id": "0OgpZRQaM6Qp",
        "colab_type": "code",
        "colab": {
          "base_uri": "https://localhost:8080/",
          "height": 34
        },
        "outputId": "257f28be-0c8e-4d35-e93d-3081e66910dd"
      },
      "source": [
        "X_test.shape"
      ],
      "execution_count": 80,
      "outputs": [
        {
          "output_type": "execute_result",
          "data": {
            "text/plain": [
              "(85, 7)"
            ]
          },
          "metadata": {
            "tags": []
          },
          "execution_count": 80
        }
      ]
    },
    {
      "cell_type": "code",
      "metadata": {
        "id": "zOum364uM9Bd",
        "colab_type": "code",
        "colab": {
          "base_uri": "https://localhost:8080/",
          "height": 34
        },
        "outputId": "1bed29ff-3eed-4ade-a368-b8889030722e"
      },
      "source": [
        "X.shape"
      ],
      "execution_count": 81,
      "outputs": [
        {
          "output_type": "execute_result",
          "data": {
            "text/plain": [
              "(425, 7)"
            ]
          },
          "metadata": {
            "tags": []
          },
          "execution_count": 81
        }
      ]
    },
    {
      "cell_type": "markdown",
      "metadata": {
        "id": "REuWO-shwfok",
        "colab_type": "text"
      },
      "source": [
        "#Naive Bayes Model Start Here"
      ]
    },
    {
      "cell_type": "code",
      "metadata": {
        "id": "F3Il5seCm7uB",
        "colab_type": "code",
        "colab": {}
      },
      "source": [
        "from sklearn.naive_bayes import GaussianNB\n",
        "nb = GaussianNB()\n",
        "nb.fit(X_train,Y_train)\n",
        "y_pred = nb.predict(X_test)"
      ],
      "execution_count": 82,
      "outputs": []
    },
    {
      "cell_type": "code",
      "metadata": {
        "id": "hMPVuIiXm_-x",
        "colab_type": "code",
        "colab": {}
      },
      "source": [
        "from sklearn.metrics import classification_report , confusion_matrix , accuracy_score\n",
        "cm = confusion_matrix(Y_test,y_pred)"
      ],
      "execution_count": 83,
      "outputs": []
    },
    {
      "cell_type": "code",
      "metadata": {
        "id": "DdiOWuX0nDnb",
        "colab_type": "code",
        "colab": {
          "base_uri": "https://localhost:8080/",
          "height": 68
        },
        "outputId": "a86d1b6c-ae4f-496a-eef3-24d03d2680c4"
      },
      "source": [
        "print(\"Confusion Matrix: \\n\",cm)"
      ],
      "execution_count": 84,
      "outputs": [
        {
          "output_type": "stream",
          "text": [
            "Confusion Matrix: \n",
            " [[48  1]\n",
            " [ 0 36]]\n"
          ],
          "name": "stdout"
        }
      ]
    },
    {
      "cell_type": "code",
      "metadata": {
        "id": "aqAg7TvCnHln",
        "colab_type": "code",
        "colab": {
          "base_uri": "https://localhost:8080/",
          "height": 187
        },
        "outputId": "d595c1cf-3418-4658-9a91-22ab27bb57b2"
      },
      "source": [
        "print(\"Classification Report: \\n\", classification_report(Y_test, y_pred))"
      ],
      "execution_count": 85,
      "outputs": [
        {
          "output_type": "stream",
          "text": [
            "Classification Report: \n",
            "               precision    recall  f1-score   support\n",
            "\n",
            "           0       1.00      0.98      0.99        49\n",
            "           1       0.97      1.00      0.99        36\n",
            "\n",
            "    accuracy                           0.99        85\n",
            "   macro avg       0.99      0.99      0.99        85\n",
            "weighted avg       0.99      0.99      0.99        85\n",
            "\n"
          ],
          "name": "stdout"
        }
      ]
    },
    {
      "cell_type": "code",
      "metadata": {
        "id": "4V2vyDNanNUc",
        "colab_type": "code",
        "colab": {
          "base_uri": "https://localhost:8080/",
          "height": 34
        },
        "outputId": "ed70a37b-fb48-4b09-c78d-e5b298d62a1b"
      },
      "source": [
        "print(\"Accuracy Score: \", accuracy_score(Y_test, y_pred))"
      ],
      "execution_count": 86,
      "outputs": [
        {
          "output_type": "stream",
          "text": [
            "Accuracy Score:  0.9882352941176471\n"
          ],
          "name": "stdout"
        }
      ]
    },
    {
      "cell_type": "markdown",
      "metadata": {
        "id": "7UwAwe36fCUK",
        "colab_type": "text"
      },
      "source": [
        "# Analytic"
      ]
    },
    {
      "cell_type": "markdown",
      "metadata": {
        "id": "yZCakNDpfJlc",
        "colab_type": "text"
      },
      "source": [
        "using dataset unfiltered\n",
        "Accuracy Score Training = 0.74\n",
        "Accuracy Score Validation = 1.0\n",
        "\n",
        "using dataset filtered\n",
        "Accuracy Score Training = 0.77\n",
        "Accuracy Score Validation = 0.55"
      ]
    }
  ]
}