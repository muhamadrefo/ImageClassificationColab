{
  "nbformat": 4,
  "nbformat_minor": 0,
  "metadata": {
    "colab": {
      "name": "NaiveBayesClassifier #3.ipynb",
      "provenance": [],
      "collapsed_sections": [],
      "authorship_tag": "ABX9TyOUeqLQ+p9kG90C4bfycXgP",
      "include_colab_link": true
    },
    "kernelspec": {
      "name": "python3",
      "display_name": "Python 3"
    }
  },
  "cells": [
    {
      "cell_type": "markdown",
      "metadata": {
        "id": "view-in-github",
        "colab_type": "text"
      },
      "source": [
        "<a href=\"https://colab.research.google.com/github/muhamadrefo/ImageClassificationColab/blob/master/NaiveBayesClassifier_3.ipynb\" target=\"_parent\"><img src=\"https://colab.research.google.com/assets/colab-badge.svg\" alt=\"Open In Colab\"/></a>"
      ]
    },
    {
      "cell_type": "markdown",
      "metadata": {
        "id": "hUSzoRIphpUT",
        "colab_type": "text"
      },
      "source": [
        "# Prepare Environment"
      ]
    },
    {
      "cell_type": "code",
      "metadata": {
        "id": "Ll5cIcR1qCPz",
        "colab_type": "code",
        "colab": {}
      },
      "source": [
        "from google.colab import drive\n",
        "drive.mount('/content/drive')"
      ],
      "execution_count": null,
      "outputs": []
    },
    {
      "cell_type": "code",
      "metadata": {
        "id": "D9d2Z58gqR2A",
        "colab_type": "code",
        "colab": {}
      },
      "source": [
        "#Importing Packages\n",
        "\n",
        "import matplotlib.pyplot as plt\n",
        "import csv\n",
        "import numpy as np\n",
        "import pandas as pd\n",
        "from sklearn import model_selection\n",
        "from sklearn.model_selection import train_test_split as tt\n",
        "from sklearn.metrics import classification_report\n",
        "from sklearn.metrics import confusion_matrix\n",
        "from sklearn.metrics import accuracy_score\n",
        "\n",
        "%matplotlib inline"
      ],
      "execution_count": 4,
      "outputs": []
    },
    {
      "cell_type": "code",
      "metadata": {
        "id": "vxXMGOmrqSRE",
        "colab_type": "code",
        "colab": {
          "base_uri": "https://localhost:8080/",
          "height": 34
        },
        "outputId": "0357b2e1-d9b8-4ad9-ad08-5cd00e910071"
      },
      "source": [
        "#Filtered Dataset\n",
        "#%cd /content/drive/My Drive/TestingPlace/PlaceofDatabase/CNN/\n",
        "#Unfiltered Dataset\n",
        "%cd /content/drive/My Drive/Batik/"
      ],
      "execution_count": 101,
      "outputs": [
        {
          "output_type": "stream",
          "text": [
            "/content/drive/My Drive/Batik\n"
          ],
          "name": "stdout"
        }
      ]
    },
    {
      "cell_type": "markdown",
      "metadata": {
        "id": "5HoA9_8Shxmw",
        "colab_type": "text"
      },
      "source": [
        "#Reading dataset"
      ]
    },
    {
      "cell_type": "code",
      "metadata": {
        "id": "DtBkf3yHqSNu",
        "colab_type": "code",
        "colab": {
          "base_uri": "https://localhost:8080/",
          "height": 514
        },
        "outputId": "bffd592f-24f0-4709-aabb-6cdede6681b8"
      },
      "source": [
        "#col_names = [\"Path\", \"Dissimilarity\", \"Contrast\", \"Homogeneity\", \"Energy\", \"Correlation\", \"ASM\" , \"Label\"]\n",
        "#datatrain = pd.read_csv('DataTraining.csv', names=col_names)\n",
        "\n",
        "data_train = pd.read_csv('DataTraining.csv') #DataTraining.csv nor DataValidation.csv\n",
        "#data_train = pd.read_csv('DataValidation.csv')\n",
        "pd.set_option('display.max_columns', 100)\n",
        "data_train.head(15) #display first 15 data"
      ],
      "execution_count": 116,
      "outputs": [
        {
          "output_type": "execute_result",
          "data": {
            "text/html": [
              "<div>\n",
              "<style scoped>\n",
              "    .dataframe tbody tr th:only-of-type {\n",
              "        vertical-align: middle;\n",
              "    }\n",
              "\n",
              "    .dataframe tbody tr th {\n",
              "        vertical-align: top;\n",
              "    }\n",
              "\n",
              "    .dataframe thead th {\n",
              "        text-align: right;\n",
              "    }\n",
              "</style>\n",
              "<table border=\"1\" class=\"dataframe\">\n",
              "  <thead>\n",
              "    <tr style=\"text-align: right;\">\n",
              "      <th></th>\n",
              "      <th>Path</th>\n",
              "      <th>Dissimilarity</th>\n",
              "      <th>Contrast</th>\n",
              "      <th>Homogeneity</th>\n",
              "      <th>Energy</th>\n",
              "      <th>Correlation</th>\n",
              "      <th>ASM</th>\n",
              "      <th>Label</th>\n",
              "    </tr>\n",
              "  </thead>\n",
              "  <tbody>\n",
              "    <tr>\n",
              "      <th>0</th>\n",
              "      <td>CNN/DataTrain/Cap/T-Cap  (30).jpg</td>\n",
              "      <td>0.657111</td>\n",
              "      <td>0.960802</td>\n",
              "      <td>0.701605</td>\n",
              "      <td>0.373753</td>\n",
              "      <td>0.384801</td>\n",
              "      <td>0.139691</td>\n",
              "      <td>Cap</td>\n",
              "    </tr>\n",
              "    <tr>\n",
              "      <th>1</th>\n",
              "      <td>CNN/DataTrain/Cap/T-Cap  (114).jpg</td>\n",
              "      <td>1.193366</td>\n",
              "      <td>2.508668</td>\n",
              "      <td>0.530835</td>\n",
              "      <td>0.186223</td>\n",
              "      <td>0.614433</td>\n",
              "      <td>0.034679</td>\n",
              "      <td>Cap</td>\n",
              "    </tr>\n",
              "    <tr>\n",
              "      <th>2</th>\n",
              "      <td>CNN/DataTrain/Cap/T-Cap  (32).jpg</td>\n",
              "      <td>0.550969</td>\n",
              "      <td>0.743234</td>\n",
              "      <td>0.743635</td>\n",
              "      <td>0.380415</td>\n",
              "      <td>0.534508</td>\n",
              "      <td>0.144715</td>\n",
              "      <td>Cap</td>\n",
              "    </tr>\n",
              "    <tr>\n",
              "      <th>3</th>\n",
              "      <td>CNN/DataTrain/Cap/T-Cap  (27).jpg</td>\n",
              "      <td>0.614890</td>\n",
              "      <td>0.864450</td>\n",
              "      <td>0.717309</td>\n",
              "      <td>0.375527</td>\n",
              "      <td>0.434121</td>\n",
              "      <td>0.141021</td>\n",
              "      <td>Cap</td>\n",
              "    </tr>\n",
              "    <tr>\n",
              "      <th>4</th>\n",
              "      <td>CNN/DataTrain/Cap/T-Cap  (5).jpg</td>\n",
              "      <td>0.523202</td>\n",
              "      <td>0.786015</td>\n",
              "      <td>0.764165</td>\n",
              "      <td>0.472486</td>\n",
              "      <td>0.541780</td>\n",
              "      <td>0.223243</td>\n",
              "      <td>Cap</td>\n",
              "    </tr>\n",
              "    <tr>\n",
              "      <th>5</th>\n",
              "      <td>CNN/DataTrain/Cap/T-Cap  (29).jpg</td>\n",
              "      <td>0.598795</td>\n",
              "      <td>0.844671</td>\n",
              "      <td>0.724906</td>\n",
              "      <td>0.374617</td>\n",
              "      <td>0.446828</td>\n",
              "      <td>0.140338</td>\n",
              "      <td>Cap</td>\n",
              "    </tr>\n",
              "    <tr>\n",
              "      <th>6</th>\n",
              "      <td>CNN/DataTrain/Cap/T-Cap  (84).jpg</td>\n",
              "      <td>0.629705</td>\n",
              "      <td>1.068646</td>\n",
              "      <td>0.728483</td>\n",
              "      <td>0.258461</td>\n",
              "      <td>0.790074</td>\n",
              "      <td>0.066802</td>\n",
              "      <td>Cap</td>\n",
              "    </tr>\n",
              "    <tr>\n",
              "      <th>7</th>\n",
              "      <td>CNN/DataTrain/Cap/T-Cap  (12).jpg</td>\n",
              "      <td>0.449111</td>\n",
              "      <td>0.618634</td>\n",
              "      <td>0.792212</td>\n",
              "      <td>0.547039</td>\n",
              "      <td>0.466384</td>\n",
              "      <td>0.299252</td>\n",
              "      <td>Cap</td>\n",
              "    </tr>\n",
              "    <tr>\n",
              "      <th>8</th>\n",
              "      <td>CNN/DataTrain/Cap/T-Cap  (53).jpg</td>\n",
              "      <td>0.999960</td>\n",
              "      <td>2.129484</td>\n",
              "      <td>0.609203</td>\n",
              "      <td>0.222582</td>\n",
              "      <td>0.644569</td>\n",
              "      <td>0.049543</td>\n",
              "      <td>Cap</td>\n",
              "    </tr>\n",
              "    <tr>\n",
              "      <th>9</th>\n",
              "      <td>CNN/DataTrain/Cap/T-Cap  (92).jpg</td>\n",
              "      <td>1.203055</td>\n",
              "      <td>2.573451</td>\n",
              "      <td>0.532090</td>\n",
              "      <td>0.190674</td>\n",
              "      <td>0.600987</td>\n",
              "      <td>0.036356</td>\n",
              "      <td>Cap</td>\n",
              "    </tr>\n",
              "    <tr>\n",
              "      <th>10</th>\n",
              "      <td>CNN/DataTrain/Cap/T-Cap  (98).jpg</td>\n",
              "      <td>1.145059</td>\n",
              "      <td>2.454997</td>\n",
              "      <td>0.555274</td>\n",
              "      <td>0.181415</td>\n",
              "      <td>0.629564</td>\n",
              "      <td>0.032911</td>\n",
              "      <td>Cap</td>\n",
              "    </tr>\n",
              "    <tr>\n",
              "      <th>11</th>\n",
              "      <td>CNN/DataTrain/Cap/T-Cap  (10).jpg</td>\n",
              "      <td>0.595932</td>\n",
              "      <td>0.957880</td>\n",
              "      <td>0.737824</td>\n",
              "      <td>0.472098</td>\n",
              "      <td>0.504020</td>\n",
              "      <td>0.222876</td>\n",
              "      <td>Cap</td>\n",
              "    </tr>\n",
              "    <tr>\n",
              "      <th>12</th>\n",
              "      <td>CNN/DataTrain/Cap/T-Cap  (79).jpg</td>\n",
              "      <td>0.577615</td>\n",
              "      <td>0.950893</td>\n",
              "      <td>0.748125</td>\n",
              "      <td>0.279615</td>\n",
              "      <td>0.803592</td>\n",
              "      <td>0.078184</td>\n",
              "      <td>Cap</td>\n",
              "    </tr>\n",
              "    <tr>\n",
              "      <th>13</th>\n",
              "      <td>CNN/DataTrain/Cap/T-Cap  (1).jpg</td>\n",
              "      <td>0.394559</td>\n",
              "      <td>0.549067</td>\n",
              "      <td>0.817720</td>\n",
              "      <td>0.545794</td>\n",
              "      <td>0.608097</td>\n",
              "      <td>0.297891</td>\n",
              "      <td>Cap</td>\n",
              "    </tr>\n",
              "    <tr>\n",
              "      <th>14</th>\n",
              "      <td>CNN/DataTrain/Cap/T-Cap  (56).jpg</td>\n",
              "      <td>1.182775</td>\n",
              "      <td>2.561699</td>\n",
              "      <td>0.542047</td>\n",
              "      <td>0.194724</td>\n",
              "      <td>0.571899</td>\n",
              "      <td>0.037918</td>\n",
              "      <td>Cap</td>\n",
              "    </tr>\n",
              "  </tbody>\n",
              "</table>\n",
              "</div>"
            ],
            "text/plain": [
              "                                  Path  Dissimilarity  Contrast  Homogeneity  \\\n",
              "0    CNN/DataTrain/Cap/T-Cap  (30).jpg       0.657111  0.960802     0.701605   \n",
              "1   CNN/DataTrain/Cap/T-Cap  (114).jpg       1.193366  2.508668     0.530835   \n",
              "2    CNN/DataTrain/Cap/T-Cap  (32).jpg       0.550969  0.743234     0.743635   \n",
              "3    CNN/DataTrain/Cap/T-Cap  (27).jpg       0.614890  0.864450     0.717309   \n",
              "4     CNN/DataTrain/Cap/T-Cap  (5).jpg       0.523202  0.786015     0.764165   \n",
              "5    CNN/DataTrain/Cap/T-Cap  (29).jpg       0.598795  0.844671     0.724906   \n",
              "6    CNN/DataTrain/Cap/T-Cap  (84).jpg       0.629705  1.068646     0.728483   \n",
              "7    CNN/DataTrain/Cap/T-Cap  (12).jpg       0.449111  0.618634     0.792212   \n",
              "8    CNN/DataTrain/Cap/T-Cap  (53).jpg       0.999960  2.129484     0.609203   \n",
              "9    CNN/DataTrain/Cap/T-Cap  (92).jpg       1.203055  2.573451     0.532090   \n",
              "10   CNN/DataTrain/Cap/T-Cap  (98).jpg       1.145059  2.454997     0.555274   \n",
              "11   CNN/DataTrain/Cap/T-Cap  (10).jpg       0.595932  0.957880     0.737824   \n",
              "12   CNN/DataTrain/Cap/T-Cap  (79).jpg       0.577615  0.950893     0.748125   \n",
              "13    CNN/DataTrain/Cap/T-Cap  (1).jpg       0.394559  0.549067     0.817720   \n",
              "14   CNN/DataTrain/Cap/T-Cap  (56).jpg       1.182775  2.561699     0.542047   \n",
              "\n",
              "      Energy  Correlation       ASM Label  \n",
              "0   0.373753     0.384801  0.139691   Cap  \n",
              "1   0.186223     0.614433  0.034679   Cap  \n",
              "2   0.380415     0.534508  0.144715   Cap  \n",
              "3   0.375527     0.434121  0.141021   Cap  \n",
              "4   0.472486     0.541780  0.223243   Cap  \n",
              "5   0.374617     0.446828  0.140338   Cap  \n",
              "6   0.258461     0.790074  0.066802   Cap  \n",
              "7   0.547039     0.466384  0.299252   Cap  \n",
              "8   0.222582     0.644569  0.049543   Cap  \n",
              "9   0.190674     0.600987  0.036356   Cap  \n",
              "10  0.181415     0.629564  0.032911   Cap  \n",
              "11  0.472098     0.504020  0.222876   Cap  \n",
              "12  0.279615     0.803592  0.078184   Cap  \n",
              "13  0.545794     0.608097  0.297891   Cap  \n",
              "14  0.194724     0.571899  0.037918   Cap  "
            ]
          },
          "metadata": {
            "tags": []
          },
          "execution_count": 116
        }
      ]
    },
    {
      "cell_type": "code",
      "metadata": {
        "id": "zYlNmAsbeZxc",
        "colab_type": "code",
        "colab": {
          "base_uri": "https://localhost:8080/",
          "height": 68
        },
        "outputId": "195ad89a-c645-4415-eac4-a6df6396bfc2"
      },
      "source": [
        "# show columns\n",
        "data_train.columns "
      ],
      "execution_count": 117,
      "outputs": [
        {
          "output_type": "execute_result",
          "data": {
            "text/plain": [
              "Index(['Path', 'Dissimilarity', 'Contrast', 'Homogeneity', 'Energy',\n",
              "       'Correlation', 'ASM', 'Label'],\n",
              "      dtype='object')"
            ]
          },
          "metadata": {
            "tags": []
          },
          "execution_count": 117
        }
      ]
    },
    {
      "cell_type": "code",
      "metadata": {
        "id": "1AAc-0lAMWzQ",
        "colab_type": "code",
        "colab": {
          "base_uri": "https://localhost:8080/",
          "height": 419
        },
        "outputId": "4030ff6a-db60-4718-a02c-388ad84cbd13"
      },
      "source": [
        "data_train"
      ],
      "execution_count": 118,
      "outputs": [
        {
          "output_type": "execute_result",
          "data": {
            "text/html": [
              "<div>\n",
              "<style scoped>\n",
              "    .dataframe tbody tr th:only-of-type {\n",
              "        vertical-align: middle;\n",
              "    }\n",
              "\n",
              "    .dataframe tbody tr th {\n",
              "        vertical-align: top;\n",
              "    }\n",
              "\n",
              "    .dataframe thead th {\n",
              "        text-align: right;\n",
              "    }\n",
              "</style>\n",
              "<table border=\"1\" class=\"dataframe\">\n",
              "  <thead>\n",
              "    <tr style=\"text-align: right;\">\n",
              "      <th></th>\n",
              "      <th>Path</th>\n",
              "      <th>Dissimilarity</th>\n",
              "      <th>Contrast</th>\n",
              "      <th>Homogeneity</th>\n",
              "      <th>Energy</th>\n",
              "      <th>Correlation</th>\n",
              "      <th>ASM</th>\n",
              "      <th>Label</th>\n",
              "    </tr>\n",
              "  </thead>\n",
              "  <tbody>\n",
              "    <tr>\n",
              "      <th>0</th>\n",
              "      <td>CNN/DataTrain/Cap/T-Cap  (30).jpg</td>\n",
              "      <td>0.657111</td>\n",
              "      <td>0.960802</td>\n",
              "      <td>0.701605</td>\n",
              "      <td>0.373753</td>\n",
              "      <td>0.384801</td>\n",
              "      <td>0.139691</td>\n",
              "      <td>Cap</td>\n",
              "    </tr>\n",
              "    <tr>\n",
              "      <th>1</th>\n",
              "      <td>CNN/DataTrain/Cap/T-Cap  (114).jpg</td>\n",
              "      <td>1.193366</td>\n",
              "      <td>2.508668</td>\n",
              "      <td>0.530835</td>\n",
              "      <td>0.186223</td>\n",
              "      <td>0.614433</td>\n",
              "      <td>0.034679</td>\n",
              "      <td>Cap</td>\n",
              "    </tr>\n",
              "    <tr>\n",
              "      <th>2</th>\n",
              "      <td>CNN/DataTrain/Cap/T-Cap  (32).jpg</td>\n",
              "      <td>0.550969</td>\n",
              "      <td>0.743234</td>\n",
              "      <td>0.743635</td>\n",
              "      <td>0.380415</td>\n",
              "      <td>0.534508</td>\n",
              "      <td>0.144715</td>\n",
              "      <td>Cap</td>\n",
              "    </tr>\n",
              "    <tr>\n",
              "      <th>3</th>\n",
              "      <td>CNN/DataTrain/Cap/T-Cap  (27).jpg</td>\n",
              "      <td>0.614890</td>\n",
              "      <td>0.864450</td>\n",
              "      <td>0.717309</td>\n",
              "      <td>0.375527</td>\n",
              "      <td>0.434121</td>\n",
              "      <td>0.141021</td>\n",
              "      <td>Cap</td>\n",
              "    </tr>\n",
              "    <tr>\n",
              "      <th>4</th>\n",
              "      <td>CNN/DataTrain/Cap/T-Cap  (5).jpg</td>\n",
              "      <td>0.523202</td>\n",
              "      <td>0.786015</td>\n",
              "      <td>0.764165</td>\n",
              "      <td>0.472486</td>\n",
              "      <td>0.541780</td>\n",
              "      <td>0.223243</td>\n",
              "      <td>Cap</td>\n",
              "    </tr>\n",
              "    <tr>\n",
              "      <th>...</th>\n",
              "      <td>...</td>\n",
              "      <td>...</td>\n",
              "      <td>...</td>\n",
              "      <td>...</td>\n",
              "      <td>...</td>\n",
              "      <td>...</td>\n",
              "      <td>...</td>\n",
              "      <td>...</td>\n",
              "    </tr>\n",
              "    <tr>\n",
              "      <th>531</th>\n",
              "      <td>CNN/DataTrain/Tulis/T-Tulis  (154).jpg</td>\n",
              "      <td>0.267497</td>\n",
              "      <td>0.288637</td>\n",
              "      <td>0.868366</td>\n",
              "      <td>0.470934</td>\n",
              "      <td>0.788305</td>\n",
              "      <td>0.221779</td>\n",
              "      <td>Tulis</td>\n",
              "    </tr>\n",
              "    <tr>\n",
              "      <th>532</th>\n",
              "      <td>CNN/DataTrain/Tulis/T-Tulis  (124).jpg</td>\n",
              "      <td>0.433196</td>\n",
              "      <td>0.696809</td>\n",
              "      <td>0.809534</td>\n",
              "      <td>0.495744</td>\n",
              "      <td>0.811449</td>\n",
              "      <td>0.245762</td>\n",
              "      <td>Tulis</td>\n",
              "    </tr>\n",
              "    <tr>\n",
              "      <th>533</th>\n",
              "      <td>CNN/DataTrain/Tulis/T-Tulis  (181).jpg</td>\n",
              "      <td>0.512212</td>\n",
              "      <td>0.740951</td>\n",
              "      <td>0.766615</td>\n",
              "      <td>0.371361</td>\n",
              "      <td>0.646387</td>\n",
              "      <td>0.137909</td>\n",
              "      <td>Tulis</td>\n",
              "    </tr>\n",
              "    <tr>\n",
              "      <th>534</th>\n",
              "      <td>CNN/DataTrain/Tulis/T-Tulis  (148).jpg</td>\n",
              "      <td>0.410094</td>\n",
              "      <td>0.507587</td>\n",
              "      <td>0.804691</td>\n",
              "      <td>0.438444</td>\n",
              "      <td>0.641707</td>\n",
              "      <td>0.192233</td>\n",
              "      <td>Tulis</td>\n",
              "    </tr>\n",
              "    <tr>\n",
              "      <th>535</th>\n",
              "      <td>CNN/DataTrain/Tulis/T-Tulis  (167).jpg</td>\n",
              "      <td>0.237348</td>\n",
              "      <td>0.249039</td>\n",
              "      <td>0.882495</td>\n",
              "      <td>0.503582</td>\n",
              "      <td>0.796417</td>\n",
              "      <td>0.253595</td>\n",
              "      <td>Tulis</td>\n",
              "    </tr>\n",
              "  </tbody>\n",
              "</table>\n",
              "<p>536 rows × 8 columns</p>\n",
              "</div>"
            ],
            "text/plain": [
              "                                       Path  Dissimilarity  Contrast  \\\n",
              "0         CNN/DataTrain/Cap/T-Cap  (30).jpg       0.657111  0.960802   \n",
              "1        CNN/DataTrain/Cap/T-Cap  (114).jpg       1.193366  2.508668   \n",
              "2         CNN/DataTrain/Cap/T-Cap  (32).jpg       0.550969  0.743234   \n",
              "3         CNN/DataTrain/Cap/T-Cap  (27).jpg       0.614890  0.864450   \n",
              "4          CNN/DataTrain/Cap/T-Cap  (5).jpg       0.523202  0.786015   \n",
              "..                                      ...            ...       ...   \n",
              "531  CNN/DataTrain/Tulis/T-Tulis  (154).jpg       0.267497  0.288637   \n",
              "532  CNN/DataTrain/Tulis/T-Tulis  (124).jpg       0.433196  0.696809   \n",
              "533  CNN/DataTrain/Tulis/T-Tulis  (181).jpg       0.512212  0.740951   \n",
              "534  CNN/DataTrain/Tulis/T-Tulis  (148).jpg       0.410094  0.507587   \n",
              "535  CNN/DataTrain/Tulis/T-Tulis  (167).jpg       0.237348  0.249039   \n",
              "\n",
              "     Homogeneity    Energy  Correlation       ASM  Label  \n",
              "0       0.701605  0.373753     0.384801  0.139691    Cap  \n",
              "1       0.530835  0.186223     0.614433  0.034679    Cap  \n",
              "2       0.743635  0.380415     0.534508  0.144715    Cap  \n",
              "3       0.717309  0.375527     0.434121  0.141021    Cap  \n",
              "4       0.764165  0.472486     0.541780  0.223243    Cap  \n",
              "..           ...       ...          ...       ...    ...  \n",
              "531     0.868366  0.470934     0.788305  0.221779  Tulis  \n",
              "532     0.809534  0.495744     0.811449  0.245762  Tulis  \n",
              "533     0.766615  0.371361     0.646387  0.137909  Tulis  \n",
              "534     0.804691  0.438444     0.641707  0.192233  Tulis  \n",
              "535     0.882495  0.503582     0.796417  0.253595  Tulis  \n",
              "\n",
              "[536 rows x 8 columns]"
            ]
          },
          "metadata": {
            "tags": []
          },
          "execution_count": 118
        }
      ]
    },
    {
      "cell_type": "markdown",
      "metadata": {
        "id": "Sb72jKV-h6xu",
        "colab_type": "text"
      },
      "source": [
        "# Encoding the Categorial Data"
      ]
    },
    {
      "cell_type": "code",
      "metadata": {
        "id": "ZQ84fkSaexjT",
        "colab_type": "code",
        "colab": {
          "base_uri": "https://localhost:8080/",
          "height": 514
        },
        "outputId": "c473492e-c8a5-4f1b-ce5b-eb5de6447cf3"
      },
      "source": [
        "from sklearn.preprocessing import LabelEncoder\n",
        "le = LabelEncoder()\n",
        "df = data_train.apply(le.fit_transform)\n",
        "df.head(15)"
      ],
      "execution_count": 119,
      "outputs": [
        {
          "output_type": "execute_result",
          "data": {
            "text/html": [
              "<div>\n",
              "<style scoped>\n",
              "    .dataframe tbody tr th:only-of-type {\n",
              "        vertical-align: middle;\n",
              "    }\n",
              "\n",
              "    .dataframe tbody tr th {\n",
              "        vertical-align: top;\n",
              "    }\n",
              "\n",
              "    .dataframe thead th {\n",
              "        text-align: right;\n",
              "    }\n",
              "</style>\n",
              "<table border=\"1\" class=\"dataframe\">\n",
              "  <thead>\n",
              "    <tr style=\"text-align: right;\">\n",
              "      <th></th>\n",
              "      <th>Path</th>\n",
              "      <th>Dissimilarity</th>\n",
              "      <th>Contrast</th>\n",
              "      <th>Homogeneity</th>\n",
              "      <th>Energy</th>\n",
              "      <th>Correlation</th>\n",
              "      <th>ASM</th>\n",
              "      <th>Label</th>\n",
              "    </tr>\n",
              "  </thead>\n",
              "  <tbody>\n",
              "    <tr>\n",
              "      <th>0</th>\n",
              "      <td>202</td>\n",
              "      <td>402</td>\n",
              "      <td>383</td>\n",
              "      <td>117</td>\n",
              "      <td>172</td>\n",
              "      <td>40</td>\n",
              "      <td>172</td>\n",
              "      <td>0</td>\n",
              "    </tr>\n",
              "    <tr>\n",
              "      <th>1</th>\n",
              "      <td>17</td>\n",
              "      <td>529</td>\n",
              "      <td>519</td>\n",
              "      <td>2</td>\n",
              "      <td>11</td>\n",
              "      <td>213</td>\n",
              "      <td>11</td>\n",
              "      <td>0</td>\n",
              "    </tr>\n",
              "    <tr>\n",
              "      <th>2</th>\n",
              "      <td>204</td>\n",
              "      <td>322</td>\n",
              "      <td>273</td>\n",
              "      <td>188</td>\n",
              "      <td>198</td>\n",
              "      <td>118</td>\n",
              "      <td>198</td>\n",
              "      <td>0</td>\n",
              "    </tr>\n",
              "    <tr>\n",
              "      <th>3</th>\n",
              "      <td>189</td>\n",
              "      <td>380</td>\n",
              "      <td>339</td>\n",
              "      <td>136</td>\n",
              "      <td>180</td>\n",
              "      <td>75</td>\n",
              "      <td>180</td>\n",
              "      <td>0</td>\n",
              "    </tr>\n",
              "    <tr>\n",
              "      <th>4</th>\n",
              "      <td>223</td>\n",
              "      <td>296</td>\n",
              "      <td>295</td>\n",
              "      <td>239</td>\n",
              "      <td>337</td>\n",
              "      <td>121</td>\n",
              "      <td>337</td>\n",
              "      <td>0</td>\n",
              "    </tr>\n",
              "    <tr>\n",
              "      <th>5</th>\n",
              "      <td>200</td>\n",
              "      <td>362</td>\n",
              "      <td>328</td>\n",
              "      <td>154</td>\n",
              "      <td>177</td>\n",
              "      <td>82</td>\n",
              "      <td>177</td>\n",
              "      <td>0</td>\n",
              "    </tr>\n",
              "    <tr>\n",
              "      <th>6</th>\n",
              "      <td>261</td>\n",
              "      <td>390</td>\n",
              "      <td>399</td>\n",
              "      <td>159</td>\n",
              "      <td>60</td>\n",
              "      <td>394</td>\n",
              "      <td>60</td>\n",
              "      <td>0</td>\n",
              "    </tr>\n",
              "    <tr>\n",
              "      <th>7</th>\n",
              "      <td>23</td>\n",
              "      <td>215</td>\n",
              "      <td>206</td>\n",
              "      <td>315</td>\n",
              "      <td>449</td>\n",
              "      <td>92</td>\n",
              "      <td>449</td>\n",
              "      <td>0</td>\n",
              "    </tr>\n",
              "    <tr>\n",
              "      <th>8</th>\n",
              "      <td>227</td>\n",
              "      <td>488</td>\n",
              "      <td>489</td>\n",
              "      <td>44</td>\n",
              "      <td>44</td>\n",
              "      <td>241</td>\n",
              "      <td>44</td>\n",
              "      <td>0</td>\n",
              "    </tr>\n",
              "    <tr>\n",
              "      <th>9</th>\n",
              "      <td>270</td>\n",
              "      <td>530</td>\n",
              "      <td>528</td>\n",
              "      <td>4</td>\n",
              "      <td>17</td>\n",
              "      <td>183</td>\n",
              "      <td>17</td>\n",
              "      <td>0</td>\n",
              "    </tr>\n",
              "    <tr>\n",
              "      <th>10</th>\n",
              "      <td>276</td>\n",
              "      <td>511</td>\n",
              "      <td>513</td>\n",
              "      <td>22</td>\n",
              "      <td>3</td>\n",
              "      <td>227</td>\n",
              "      <td>3</td>\n",
              "      <td>0</td>\n",
              "    </tr>\n",
              "    <tr>\n",
              "      <th>11</th>\n",
              "      <td>1</td>\n",
              "      <td>360</td>\n",
              "      <td>381</td>\n",
              "      <td>176</td>\n",
              "      <td>336</td>\n",
              "      <td>102</td>\n",
              "      <td>336</td>\n",
              "      <td>0</td>\n",
              "    </tr>\n",
              "    <tr>\n",
              "      <th>12</th>\n",
              "      <td>255</td>\n",
              "      <td>344</td>\n",
              "      <td>377</td>\n",
              "      <td>199</td>\n",
              "      <td>87</td>\n",
              "      <td>417</td>\n",
              "      <td>87</td>\n",
              "      <td>0</td>\n",
              "    </tr>\n",
              "    <tr>\n",
              "      <th>13</th>\n",
              "      <td>0</td>\n",
              "      <td>157</td>\n",
              "      <td>167</td>\n",
              "      <td>379</td>\n",
              "      <td>446</td>\n",
              "      <td>197</td>\n",
              "      <td>446</td>\n",
              "      <td>0</td>\n",
              "    </tr>\n",
              "    <tr>\n",
              "      <th>14</th>\n",
              "      <td>230</td>\n",
              "      <td>525</td>\n",
              "      <td>526</td>\n",
              "      <td>8</td>\n",
              "      <td>25</td>\n",
              "      <td>140</td>\n",
              "      <td>25</td>\n",
              "      <td>0</td>\n",
              "    </tr>\n",
              "  </tbody>\n",
              "</table>\n",
              "</div>"
            ],
            "text/plain": [
              "    Path  Dissimilarity  Contrast  Homogeneity  Energy  Correlation  ASM  \\\n",
              "0    202            402       383          117     172           40  172   \n",
              "1     17            529       519            2      11          213   11   \n",
              "2    204            322       273          188     198          118  198   \n",
              "3    189            380       339          136     180           75  180   \n",
              "4    223            296       295          239     337          121  337   \n",
              "5    200            362       328          154     177           82  177   \n",
              "6    261            390       399          159      60          394   60   \n",
              "7     23            215       206          315     449           92  449   \n",
              "8    227            488       489           44      44          241   44   \n",
              "9    270            530       528            4      17          183   17   \n",
              "10   276            511       513           22       3          227    3   \n",
              "11     1            360       381          176     336          102  336   \n",
              "12   255            344       377          199      87          417   87   \n",
              "13     0            157       167          379     446          197  446   \n",
              "14   230            525       526            8      25          140   25   \n",
              "\n",
              "    Label  \n",
              "0       0  \n",
              "1       0  \n",
              "2       0  \n",
              "3       0  \n",
              "4       0  \n",
              "5       0  \n",
              "6       0  \n",
              "7       0  \n",
              "8       0  \n",
              "9       0  \n",
              "10      0  \n",
              "11      0  \n",
              "12      0  \n",
              "13      0  \n",
              "14      0  "
            ]
          },
          "metadata": {
            "tags": []
          },
          "execution_count": 119
        }
      ]
    },
    {
      "cell_type": "markdown",
      "metadata": {
        "id": "Ev9fT6tSiA7m",
        "colab_type": "text"
      },
      "source": [
        "# Splitting the Data into Training and Testing Data"
      ]
    },
    {
      "cell_type": "code",
      "metadata": {
        "id": "FmwnI6Bcgn7z",
        "colab_type": "code",
        "colab": {}
      },
      "source": [
        "X = df.iloc[:, 0:7].values # per array (Path, Diss, Contr, Homog, Energ, Correl, ASM), when start with 0, 'path' included, if start from 1, mean 'path' not included \n",
        "Y = df.iloc[:, 7].values # array (Label 'cap' or 'tulis')\n",
        "X_train, X_test, Y_train, Y_test = tt(X,Y, test_size=0.2, random_state=4)"
      ],
      "execution_count": 120,
      "outputs": []
    },
    {
      "cell_type": "code",
      "metadata": {
        "id": "1De8a0JNhTlQ",
        "colab_type": "code",
        "colab": {
          "base_uri": "https://localhost:8080/",
          "height": 34
        },
        "outputId": "e2b6a673-15c6-465c-c0e5-e4473b035061"
      },
      "source": [
        "X_train.shape"
      ],
      "execution_count": 121,
      "outputs": [
        {
          "output_type": "execute_result",
          "data": {
            "text/plain": [
              "(428, 7)"
            ]
          },
          "metadata": {
            "tags": []
          },
          "execution_count": 121
        }
      ]
    },
    {
      "cell_type": "code",
      "metadata": {
        "id": "etHAmYhYhWxD",
        "colab_type": "code",
        "colab": {
          "base_uri": "https://localhost:8080/",
          "height": 34
        },
        "outputId": "8013d8ae-9a94-4927-b34c-3870bda52077"
      },
      "source": [
        "Y.shape"
      ],
      "execution_count": 122,
      "outputs": [
        {
          "output_type": "execute_result",
          "data": {
            "text/plain": [
              "(536,)"
            ]
          },
          "metadata": {
            "tags": []
          },
          "execution_count": 122
        }
      ]
    },
    {
      "cell_type": "code",
      "metadata": {
        "id": "0OgpZRQaM6Qp",
        "colab_type": "code",
        "colab": {
          "base_uri": "https://localhost:8080/",
          "height": 34
        },
        "outputId": "fc5c306d-1262-43b8-97cd-1f09b257f402"
      },
      "source": [
        "X_test.shape"
      ],
      "execution_count": 123,
      "outputs": [
        {
          "output_type": "execute_result",
          "data": {
            "text/plain": [
              "(108, 7)"
            ]
          },
          "metadata": {
            "tags": []
          },
          "execution_count": 123
        }
      ]
    },
    {
      "cell_type": "code",
      "metadata": {
        "id": "zOum364uM9Bd",
        "colab_type": "code",
        "colab": {
          "base_uri": "https://localhost:8080/",
          "height": 34
        },
        "outputId": "da920781-17c8-4de9-8004-5367d53437b4"
      },
      "source": [
        "X.shape"
      ],
      "execution_count": 124,
      "outputs": [
        {
          "output_type": "execute_result",
          "data": {
            "text/plain": [
              "(536, 7)"
            ]
          },
          "metadata": {
            "tags": []
          },
          "execution_count": 124
        }
      ]
    },
    {
      "cell_type": "markdown",
      "metadata": {
        "id": "REuWO-shwfok",
        "colab_type": "text"
      },
      "source": [
        "#Naive Bayes Model Start Here"
      ]
    },
    {
      "cell_type": "code",
      "metadata": {
        "id": "F3Il5seCm7uB",
        "colab_type": "code",
        "colab": {}
      },
      "source": [
        "from sklearn.naive_bayes import GaussianNB\n",
        "nb = GaussianNB()\n",
        "nb.fit(X_train,Y_train)\n",
        "y_pred = nb.predict(X_test)"
      ],
      "execution_count": 125,
      "outputs": []
    },
    {
      "cell_type": "code",
      "metadata": {
        "id": "hMPVuIiXm_-x",
        "colab_type": "code",
        "colab": {}
      },
      "source": [
        "from sklearn.metrics import classification_report , confusion_matrix , accuracy_score\n",
        "cm = confusion_matrix(Y_test,y_pred)"
      ],
      "execution_count": 126,
      "outputs": []
    },
    {
      "cell_type": "code",
      "metadata": {
        "id": "DdiOWuX0nDnb",
        "colab_type": "code",
        "colab": {
          "base_uri": "https://localhost:8080/",
          "height": 68
        },
        "outputId": "e1637fa3-274f-45e8-e549-3eb5f47c2328"
      },
      "source": [
        "print(\"Confusion Matrix: \\n\",cm)"
      ],
      "execution_count": 127,
      "outputs": [
        {
          "output_type": "stream",
          "text": [
            "Confusion Matrix: \n",
            " [[55  0]\n",
            " [ 3 50]]\n"
          ],
          "name": "stdout"
        }
      ]
    },
    {
      "cell_type": "code",
      "metadata": {
        "id": "aqAg7TvCnHln",
        "colab_type": "code",
        "colab": {
          "base_uri": "https://localhost:8080/",
          "height": 187
        },
        "outputId": "99b89f87-b9c4-4d49-bf72-b148b92d9d29"
      },
      "source": [
        "print(\"Classification Report: \\n\", classification_report(Y_test, y_pred))"
      ],
      "execution_count": 128,
      "outputs": [
        {
          "output_type": "stream",
          "text": [
            "Classification Report: \n",
            "               precision    recall  f1-score   support\n",
            "\n",
            "           0       0.95      1.00      0.97        55\n",
            "           1       1.00      0.94      0.97        53\n",
            "\n",
            "    accuracy                           0.97       108\n",
            "   macro avg       0.97      0.97      0.97       108\n",
            "weighted avg       0.97      0.97      0.97       108\n",
            "\n"
          ],
          "name": "stdout"
        }
      ]
    },
    {
      "cell_type": "code",
      "metadata": {
        "id": "4V2vyDNanNUc",
        "colab_type": "code",
        "colab": {
          "base_uri": "https://localhost:8080/",
          "height": 34
        },
        "outputId": "2995e647-b6de-4aa9-e847-67ee444bfd2f"
      },
      "source": [
        "print(\"Accuracy Score: \", accuracy_score(Y_test, y_pred))"
      ],
      "execution_count": 129,
      "outputs": [
        {
          "output_type": "stream",
          "text": [
            "Accuracy Score:  0.9722222222222222\n"
          ],
          "name": "stdout"
        }
      ]
    },
    {
      "cell_type": "markdown",
      "metadata": {
        "id": "7UwAwe36fCUK",
        "colab_type": "text"
      },
      "source": [
        "# Analytic"
      ]
    },
    {
      "cell_type": "markdown",
      "metadata": {
        "id": "yZCakNDpfJlc",
        "colab_type": "text"
      },
      "source": [
        "using dataset unfiltered\n",
        "Accuracy Score Training = 0.74\n",
        "Accuracy Score Validation = 1.0\n",
        "Updating Index\n",
        "Accuracy Score Training = 0.97\n",
        "Accuracy Score Validation = 1.0\n",
        "Something gone wrong with confussion matrix on Validation, it's doesn't show matrix\n",
        "\n",
        "\n",
        "using dataset filtered\n",
        "Accuracy Score Training = 0.77\n",
        "Accuracy Score Validation = 0.55\n",
        "Updating Index\n",
        "Accuracy Score Training = 0.98\n",
        "Accuracy Score Validation = 1.0"
      ]
    }
  ]
}