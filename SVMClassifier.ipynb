{
  "nbformat": 4,
  "nbformat_minor": 0,
  "metadata": {
    "colab": {
      "name": "SVM #1.ipynb",
      "provenance": [],
      "authorship_tag": "ABX9TyPu629rOIbUANLZQGnGZVVJ",
      "include_colab_link": true
    },
    "kernelspec": {
      "name": "python3",
      "display_name": "Python 3"
    }
  },
  "cells": [
    {
      "cell_type": "markdown",
      "metadata": {
        "id": "view-in-github",
        "colab_type": "text"
      },
      "source": [
        "<a href=\"https://colab.research.google.com/github/muhamadrefo/ImageClassificationColab/blob/master/SVMClassifier.ipynb\" target=\"_parent\"><img src=\"https://colab.research.google.com/assets/colab-badge.svg\" alt=\"Open In Colab\"/></a>"
      ]
    },
    {
      "cell_type": "markdown",
      "metadata": {
        "id": "fyLMpu_UAq6i",
        "colab_type": "text"
      },
      "source": [
        "# Prepare Environment"
      ]
    },
    {
      "cell_type": "code",
      "metadata": {
        "id": "CiUuRv1c30mt",
        "colab_type": "code",
        "colab": {
          "base_uri": "https://localhost:8080/",
          "height": 122
        },
        "outputId": "e3a335a9-3884-464f-85b7-80332210cee8"
      },
      "source": [
        "from google.colab import drive\n",
        "drive.mount('/content/drive')"
      ],
      "execution_count": 1,
      "outputs": [
        {
          "output_type": "stream",
          "text": [
            "Go to this URL in a browser: https://accounts.google.com/o/oauth2/auth?client_id=947318989803-6bn6qk8qdgf4n4g3pfee6491hc0brc4i.apps.googleusercontent.com&redirect_uri=urn%3aietf%3awg%3aoauth%3a2.0%3aoob&response_type=code&scope=email%20https%3a%2f%2fwww.googleapis.com%2fauth%2fdocs.test%20https%3a%2f%2fwww.googleapis.com%2fauth%2fdrive%20https%3a%2f%2fwww.googleapis.com%2fauth%2fdrive.photos.readonly%20https%3a%2f%2fwww.googleapis.com%2fauth%2fpeopleapi.readonly\n",
            "\n",
            "Enter your authorization code:\n",
            "··········\n",
            "Mounted at /content/drive\n"
          ],
          "name": "stdout"
        }
      ]
    },
    {
      "cell_type": "code",
      "metadata": {
        "id": "G78OgM5j5DEc",
        "colab_type": "code",
        "colab": {}
      },
      "source": [
        "#Importing Packages\n",
        "\n",
        "import numpy as np\n",
        "import matplotlib.pyplot as plt\n",
        "import csv\n",
        "from sklearn import svm\n",
        "from sklearn.metrics import accuracy_score\n",
        "from sklearn.metrics import confusion_matrix as cm\n",
        "from sklearn import model_selection\n",
        "from sklearn.model_selection import train_test_split as tt\n",
        "from sklearn.metrics import classification_report"
      ],
      "execution_count": 21,
      "outputs": []
    },
    {
      "cell_type": "code",
      "metadata": {
        "id": "6cZmjOAO5DCH",
        "colab_type": "code",
        "colab": {
          "base_uri": "https://localhost:8080/",
          "height": 34
        },
        "outputId": "ebc4cea8-c5bb-4bf0-895c-b6a490d036ba"
      },
      "source": [
        "%cd /content/drive/My Drive/Batik/"
      ],
      "execution_count": 3,
      "outputs": [
        {
          "output_type": "stream",
          "text": [
            "/content/drive/My Drive/Batik\n"
          ],
          "name": "stdout"
        }
      ]
    },
    {
      "cell_type": "markdown",
      "metadata": {
        "id": "d2fu42h8A2fL",
        "colab_type": "text"
      },
      "source": [
        "# Reading the Dataset"
      ]
    },
    {
      "cell_type": "code",
      "metadata": {
        "id": "I4mT2TKQ5C_p",
        "colab_type": "code",
        "colab": {}
      },
      "source": [
        "import pandas as pd\n",
        "#data = pd.read_csv('DataValidation.csv')\n",
        "data = pd.read_csv('DataTraining.csv')"
      ],
      "execution_count": 33,
      "outputs": []
    },
    {
      "cell_type": "markdown",
      "metadata": {
        "id": "OcyxpYgtBH5h",
        "colab_type": "text"
      },
      "source": [
        "#Encoding the Categorical Data"
      ]
    },
    {
      "cell_type": "code",
      "metadata": {
        "id": "aps7B19d5C6O",
        "colab_type": "code",
        "colab": {
          "base_uri": "https://localhost:8080/",
          "height": 514
        },
        "outputId": "6133df73-603b-442d-e4f5-4dd1318d8c58"
      },
      "source": [
        "from sklearn.preprocessing import LabelEncoder\n",
        "le = LabelEncoder()\n",
        "df = data.apply(le.fit_transform)\n",
        "df.head(15)"
      ],
      "execution_count": 35,
      "outputs": [
        {
          "output_type": "execute_result",
          "data": {
            "text/html": [
              "<div>\n",
              "<style scoped>\n",
              "    .dataframe tbody tr th:only-of-type {\n",
              "        vertical-align: middle;\n",
              "    }\n",
              "\n",
              "    .dataframe tbody tr th {\n",
              "        vertical-align: top;\n",
              "    }\n",
              "\n",
              "    .dataframe thead th {\n",
              "        text-align: right;\n",
              "    }\n",
              "</style>\n",
              "<table border=\"1\" class=\"dataframe\">\n",
              "  <thead>\n",
              "    <tr style=\"text-align: right;\">\n",
              "      <th></th>\n",
              "      <th>Path</th>\n",
              "      <th>Dissimilarity</th>\n",
              "      <th>Contrast</th>\n",
              "      <th>Homogeneity</th>\n",
              "      <th>Energy</th>\n",
              "      <th>Correlation</th>\n",
              "      <th>ASM</th>\n",
              "      <th>Label</th>\n",
              "    </tr>\n",
              "  </thead>\n",
              "  <tbody>\n",
              "    <tr>\n",
              "      <th>0</th>\n",
              "      <td>202</td>\n",
              "      <td>402</td>\n",
              "      <td>383</td>\n",
              "      <td>117</td>\n",
              "      <td>172</td>\n",
              "      <td>40</td>\n",
              "      <td>172</td>\n",
              "      <td>0</td>\n",
              "    </tr>\n",
              "    <tr>\n",
              "      <th>1</th>\n",
              "      <td>17</td>\n",
              "      <td>529</td>\n",
              "      <td>519</td>\n",
              "      <td>2</td>\n",
              "      <td>11</td>\n",
              "      <td>213</td>\n",
              "      <td>11</td>\n",
              "      <td>0</td>\n",
              "    </tr>\n",
              "    <tr>\n",
              "      <th>2</th>\n",
              "      <td>204</td>\n",
              "      <td>322</td>\n",
              "      <td>273</td>\n",
              "      <td>188</td>\n",
              "      <td>198</td>\n",
              "      <td>118</td>\n",
              "      <td>198</td>\n",
              "      <td>0</td>\n",
              "    </tr>\n",
              "    <tr>\n",
              "      <th>3</th>\n",
              "      <td>189</td>\n",
              "      <td>380</td>\n",
              "      <td>339</td>\n",
              "      <td>136</td>\n",
              "      <td>180</td>\n",
              "      <td>75</td>\n",
              "      <td>180</td>\n",
              "      <td>0</td>\n",
              "    </tr>\n",
              "    <tr>\n",
              "      <th>4</th>\n",
              "      <td>223</td>\n",
              "      <td>296</td>\n",
              "      <td>295</td>\n",
              "      <td>239</td>\n",
              "      <td>337</td>\n",
              "      <td>121</td>\n",
              "      <td>337</td>\n",
              "      <td>0</td>\n",
              "    </tr>\n",
              "    <tr>\n",
              "      <th>5</th>\n",
              "      <td>200</td>\n",
              "      <td>362</td>\n",
              "      <td>328</td>\n",
              "      <td>154</td>\n",
              "      <td>177</td>\n",
              "      <td>82</td>\n",
              "      <td>177</td>\n",
              "      <td>0</td>\n",
              "    </tr>\n",
              "    <tr>\n",
              "      <th>6</th>\n",
              "      <td>261</td>\n",
              "      <td>390</td>\n",
              "      <td>399</td>\n",
              "      <td>159</td>\n",
              "      <td>60</td>\n",
              "      <td>394</td>\n",
              "      <td>60</td>\n",
              "      <td>0</td>\n",
              "    </tr>\n",
              "    <tr>\n",
              "      <th>7</th>\n",
              "      <td>23</td>\n",
              "      <td>215</td>\n",
              "      <td>206</td>\n",
              "      <td>315</td>\n",
              "      <td>449</td>\n",
              "      <td>92</td>\n",
              "      <td>449</td>\n",
              "      <td>0</td>\n",
              "    </tr>\n",
              "    <tr>\n",
              "      <th>8</th>\n",
              "      <td>227</td>\n",
              "      <td>488</td>\n",
              "      <td>489</td>\n",
              "      <td>44</td>\n",
              "      <td>44</td>\n",
              "      <td>241</td>\n",
              "      <td>44</td>\n",
              "      <td>0</td>\n",
              "    </tr>\n",
              "    <tr>\n",
              "      <th>9</th>\n",
              "      <td>270</td>\n",
              "      <td>530</td>\n",
              "      <td>528</td>\n",
              "      <td>4</td>\n",
              "      <td>17</td>\n",
              "      <td>183</td>\n",
              "      <td>17</td>\n",
              "      <td>0</td>\n",
              "    </tr>\n",
              "    <tr>\n",
              "      <th>10</th>\n",
              "      <td>276</td>\n",
              "      <td>511</td>\n",
              "      <td>513</td>\n",
              "      <td>22</td>\n",
              "      <td>3</td>\n",
              "      <td>227</td>\n",
              "      <td>3</td>\n",
              "      <td>0</td>\n",
              "    </tr>\n",
              "    <tr>\n",
              "      <th>11</th>\n",
              "      <td>1</td>\n",
              "      <td>360</td>\n",
              "      <td>381</td>\n",
              "      <td>176</td>\n",
              "      <td>336</td>\n",
              "      <td>102</td>\n",
              "      <td>336</td>\n",
              "      <td>0</td>\n",
              "    </tr>\n",
              "    <tr>\n",
              "      <th>12</th>\n",
              "      <td>255</td>\n",
              "      <td>344</td>\n",
              "      <td>377</td>\n",
              "      <td>199</td>\n",
              "      <td>87</td>\n",
              "      <td>417</td>\n",
              "      <td>87</td>\n",
              "      <td>0</td>\n",
              "    </tr>\n",
              "    <tr>\n",
              "      <th>13</th>\n",
              "      <td>0</td>\n",
              "      <td>157</td>\n",
              "      <td>167</td>\n",
              "      <td>379</td>\n",
              "      <td>446</td>\n",
              "      <td>197</td>\n",
              "      <td>446</td>\n",
              "      <td>0</td>\n",
              "    </tr>\n",
              "    <tr>\n",
              "      <th>14</th>\n",
              "      <td>230</td>\n",
              "      <td>525</td>\n",
              "      <td>526</td>\n",
              "      <td>8</td>\n",
              "      <td>25</td>\n",
              "      <td>140</td>\n",
              "      <td>25</td>\n",
              "      <td>0</td>\n",
              "    </tr>\n",
              "  </tbody>\n",
              "</table>\n",
              "</div>"
            ],
            "text/plain": [
              "    Path  Dissimilarity  Contrast  Homogeneity  Energy  Correlation  ASM  Label\n",
              "0    202            402       383          117     172           40  172      0\n",
              "1     17            529       519            2      11          213   11      0\n",
              "2    204            322       273          188     198          118  198      0\n",
              "3    189            380       339          136     180           75  180      0\n",
              "4    223            296       295          239     337          121  337      0\n",
              "5    200            362       328          154     177           82  177      0\n",
              "6    261            390       399          159      60          394   60      0\n",
              "7     23            215       206          315     449           92  449      0\n",
              "8    227            488       489           44      44          241   44      0\n",
              "9    270            530       528            4      17          183   17      0\n",
              "10   276            511       513           22       3          227    3      0\n",
              "11     1            360       381          176     336          102  336      0\n",
              "12   255            344       377          199      87          417   87      0\n",
              "13     0            157       167          379     446          197  446      0\n",
              "14   230            525       526            8      25          140   25      0"
            ]
          },
          "metadata": {
            "tags": []
          },
          "execution_count": 35
        }
      ]
    },
    {
      "cell_type": "markdown",
      "metadata": {
        "id": "Wv2vCsIJBMtE",
        "colab_type": "text"
      },
      "source": [
        "#Splitting the Data into Training and Testing Data"
      ]
    },
    {
      "cell_type": "code",
      "metadata": {
        "id": "6ouKCaD55C2k",
        "colab_type": "code",
        "colab": {}
      },
      "source": [
        "X = df.iloc[:, 1:6].values\n",
        "Y = df.iloc[:, 7].values\n",
        "X_train, X_test, Y_train, Y_test = tt(X,Y, test_size=0.2, random_state=4)"
      ],
      "execution_count": 36,
      "outputs": []
    },
    {
      "cell_type": "code",
      "metadata": {
        "id": "kUbZXSyE7LwF",
        "colab_type": "code",
        "colab": {
          "base_uri": "https://localhost:8080/",
          "height": 136
        },
        "outputId": "37668a3b-010a-4398-ceb8-039e95b68f11"
      },
      "source": [
        "X_train"
      ],
      "execution_count": 37,
      "outputs": [
        {
          "output_type": "execute_result",
          "data": {
            "text/plain": [
              "array([[145, 190, 400, 330, 512],\n",
              "       [130, 138, 407, 473, 127],\n",
              "       [ 98, 113, 436, 496, 194],\n",
              "       ...,\n",
              "       [213, 175, 307, 289, 215],\n",
              "       [445, 460,  95, 246,  33],\n",
              "       [520, 507,   6,  23, 193]])"
            ]
          },
          "metadata": {
            "tags": []
          },
          "execution_count": 37
        }
      ]
    },
    {
      "cell_type": "code",
      "metadata": {
        "id": "eP8c5q0n7LkL",
        "colab_type": "code",
        "colab": {
          "base_uri": "https://localhost:8080/",
          "height": 34
        },
        "outputId": "aea325fc-96e7-4a09-c32e-9625c5959d40"
      },
      "source": [
        "X_train.shape"
      ],
      "execution_count": 38,
      "outputs": [
        {
          "output_type": "execute_result",
          "data": {
            "text/plain": [
              "(428, 5)"
            ]
          },
          "metadata": {
            "tags": []
          },
          "execution_count": 38
        }
      ]
    },
    {
      "cell_type": "markdown",
      "metadata": {
        "id": "TUczMCqoBSUN",
        "colab_type": "text"
      },
      "source": [
        "#Model SVM Start Here"
      ]
    },
    {
      "cell_type": "markdown",
      "metadata": {
        "id": "8W0WBT_qHavL",
        "colab_type": "text"
      },
      "source": [
        "**Polynomial**"
      ]
    },
    {
      "cell_type": "code",
      "metadata": {
        "id": "LngIfpvk5Cxn",
        "colab_type": "code",
        "colab": {}
      },
      "source": [
        "# Kernel Polynomial\n",
        "modelSVM = svm.SVC(C=1.0, kernel='poly', gamma='scale', probability=True)\n",
        "modelSVM.fit(X_train, Y_train)\n",
        "y_pred = modelSVM.predict(X_test)"
      ],
      "execution_count": 39,
      "outputs": []
    },
    {
      "cell_type": "code",
      "metadata": {
        "id": "JRGU0UBs7sM7",
        "colab_type": "code",
        "colab": {
          "base_uri": "https://localhost:8080/",
          "height": 136
        },
        "outputId": "3f198880-5886-4f65-e7ce-9b4ef5bcaf51"
      },
      "source": [
        "print(\"histogram y_pred\\n\",np.histogram(y_pred))\n",
        "print(\"histogram Y_test\\n\",np.histogram(Y_test))\n",
        "print(\"Confusion Matriks\\n\", cm(Y_test, modelSVM.predict(X_test)))"
      ],
      "execution_count": 40,
      "outputs": [
        {
          "output_type": "stream",
          "text": [
            "histogram y_pred\n",
            " (array([48,  0,  0,  0,  0,  0,  0,  0,  0, 60]), array([0. , 0.1, 0.2, 0.3, 0.4, 0.5, 0.6, 0.7, 0.8, 0.9, 1. ]))\n",
            "histofram Y_test\n",
            " (array([55,  0,  0,  0,  0,  0,  0,  0,  0, 53]), array([0. , 0.1, 0.2, 0.3, 0.4, 0.5, 0.6, 0.7, 0.8, 0.9, 1. ]))\n",
            "Confusion Matriks\n",
            " [[46  9]\n",
            " [ 2 51]]\n"
          ],
          "name": "stdout"
        }
      ]
    },
    {
      "cell_type": "code",
      "metadata": {
        "id": "KeZCao7g7ruz",
        "colab_type": "code",
        "colab": {
          "base_uri": "https://localhost:8080/",
          "height": 187
        },
        "outputId": "6bdb090a-702c-43b2-aeca-71a0e1f01385"
      },
      "source": [
        "print(\"Classification Report:\\n\", classification_report(Y_test,y_pred))"
      ],
      "execution_count": 41,
      "outputs": [
        {
          "output_type": "stream",
          "text": [
            "Classification Report:\n",
            "               precision    recall  f1-score   support\n",
            "\n",
            "           0       0.96      0.84      0.89        55\n",
            "           1       0.85      0.96      0.90        53\n",
            "\n",
            "    accuracy                           0.90       108\n",
            "   macro avg       0.90      0.90      0.90       108\n",
            "weighted avg       0.91      0.90      0.90       108\n",
            "\n"
          ],
          "name": "stdout"
        }
      ]
    },
    {
      "cell_type": "code",
      "metadata": {
        "id": "T-hgOXGP-OJ5",
        "colab_type": "code",
        "colab": {
          "base_uri": "https://localhost:8080/",
          "height": 34
        },
        "outputId": "0c6b38fc-452a-4f5d-8607-9af4b9af007d"
      },
      "source": [
        "print(\"Accuracy Score: \", accuracy_score(np.delete(Y_test, np.where(np.isnan(X_test).any(axis=1))), y_pred))"
      ],
      "execution_count": 42,
      "outputs": [
        {
          "output_type": "stream",
          "text": [
            "Accuracy Score:  0.8981481481481481\n"
          ],
          "name": "stdout"
        }
      ]
    },
    {
      "cell_type": "markdown",
      "metadata": {
        "id": "K6xnQ1Z1Hf1F",
        "colab_type": "text"
      },
      "source": [
        "**RBF**"
      ]
    },
    {
      "cell_type": "code",
      "metadata": {
        "id": "gHQL4d59BlYz",
        "colab_type": "code",
        "colab": {
          "base_uri": "https://localhost:8080/",
          "height": 136
        },
        "outputId": "f00dd387-b439-46d7-c681-9bfad52f803d"
      },
      "source": [
        "modelSVM = svm.SVC(C=1.0, kernel='rbf', gamma='scale', probability=True)\n",
        "modelSVM.fit(X_train, Y_train)\n",
        "y_pred = modelSVM.predict(X_test)\n",
        "\n",
        "print(\"histogram y_pred\\n\",np.histogram(y_pred))\n",
        "print(\"histogram Y_test\\n\",np.histogram(Y_test))\n",
        "print(\"Confusion Matriks\\n\", cm(Y_test, modelSVM.predict(X_test)))"
      ],
      "execution_count": 43,
      "outputs": [
        {
          "output_type": "stream",
          "text": [
            "histogram y_pred\n",
            " (array([44,  0,  0,  0,  0,  0,  0,  0,  0, 64]), array([0. , 0.1, 0.2, 0.3, 0.4, 0.5, 0.6, 0.7, 0.8, 0.9, 1. ]))\n",
            "histofram Y_test\n",
            " (array([55,  0,  0,  0,  0,  0,  0,  0,  0, 53]), array([0. , 0.1, 0.2, 0.3, 0.4, 0.5, 0.6, 0.7, 0.8, 0.9, 1. ]))\n",
            "Confusion Matriks\n",
            " [[42 13]\n",
            " [ 2 51]]\n"
          ],
          "name": "stdout"
        }
      ]
    },
    {
      "cell_type": "code",
      "metadata": {
        "id": "QVlyg80iBk9j",
        "colab_type": "code",
        "colab": {
          "base_uri": "https://localhost:8080/",
          "height": 204
        },
        "outputId": "a6c0ec76-2219-4095-97a0-67e1fa456bb2"
      },
      "source": [
        "print(\"Classification Report:\\n\", classification_report(Y_test,y_pred))\n",
        "print(\"Accuracy Score: \", accuracy_score(np.delete(Y_test, np.where(np.isnan(X_test).any(axis=1))), y_pred))"
      ],
      "execution_count": 44,
      "outputs": [
        {
          "output_type": "stream",
          "text": [
            "Classification Report:\n",
            "               precision    recall  f1-score   support\n",
            "\n",
            "           0       0.95      0.76      0.85        55\n",
            "           1       0.80      0.96      0.87        53\n",
            "\n",
            "    accuracy                           0.86       108\n",
            "   macro avg       0.88      0.86      0.86       108\n",
            "weighted avg       0.88      0.86      0.86       108\n",
            "\n",
            "Accuracy Score:  0.8611111111111112\n"
          ],
          "name": "stdout"
        }
      ]
    },
    {
      "cell_type": "markdown",
      "metadata": {
        "id": "ftXsQ3B4HkcQ",
        "colab_type": "text"
      },
      "source": [
        "**SIGMOID**"
      ]
    },
    {
      "cell_type": "code",
      "metadata": {
        "id": "_OSt9-HSB-jd",
        "colab_type": "code",
        "colab": {
          "base_uri": "https://localhost:8080/",
          "height": 136
        },
        "outputId": "bfa18e6a-9680-4930-8882-5b6da0150841"
      },
      "source": [
        "modelSVM = svm.SVC(C=1.0, kernel='sigmoid', gamma='scale', probability=True)\n",
        "modelSVM.fit(X_train, Y_train)\n",
        "y_pred = modelSVM.predict(X_test)\n",
        "\n",
        "print(\"histogram y_pred\\n\",np.histogram(y_pred))\n",
        "print(\"histogram Y_test\\n\",np.histogram(Y_test))\n",
        "print(\"Confusion Matriks\\n\", cm(Y_test, modelSVM.predict(X_test)))"
      ],
      "execution_count": 45,
      "outputs": [
        {
          "output_type": "stream",
          "text": [
            "histogram y_pred\n",
            " (array([64,  0,  0,  0,  0,  0,  0,  0,  0, 44]), array([0. , 0.1, 0.2, 0.3, 0.4, 0.5, 0.6, 0.7, 0.8, 0.9, 1. ]))\n",
            "histogram Y_test\n",
            " (array([55,  0,  0,  0,  0,  0,  0,  0,  0, 53]), array([0. , 0.1, 0.2, 0.3, 0.4, 0.5, 0.6, 0.7, 0.8, 0.9, 1. ]))\n",
            "Confusion Matriks\n",
            " [[22 33]\n",
            " [42 11]]\n"
          ],
          "name": "stdout"
        }
      ]
    },
    {
      "cell_type": "code",
      "metadata": {
        "id": "WAw7co_TB-Qc",
        "colab_type": "code",
        "colab": {
          "base_uri": "https://localhost:8080/",
          "height": 204
        },
        "outputId": "91cba6a0-92a2-4265-cc3e-2805168f0471"
      },
      "source": [
        "print(\"Classification Report:\\n\", classification_report(Y_test,y_pred))\n",
        "print(\"Accuracy Score: \", accuracy_score(np.delete(Y_test, np.where(np.isnan(X_test).any(axis=1))), y_pred))"
      ],
      "execution_count": 46,
      "outputs": [
        {
          "output_type": "stream",
          "text": [
            "Classification Report:\n",
            "               precision    recall  f1-score   support\n",
            "\n",
            "           0       0.34      0.40      0.37        55\n",
            "           1       0.25      0.21      0.23        53\n",
            "\n",
            "    accuracy                           0.31       108\n",
            "   macro avg       0.30      0.30      0.30       108\n",
            "weighted avg       0.30      0.31      0.30       108\n",
            "\n",
            "Accuracy Score:  0.3055555555555556\n"
          ],
          "name": "stdout"
        }
      ]
    },
    {
      "cell_type": "markdown",
      "metadata": {
        "id": "CkJ45Td9HnRS",
        "colab_type": "text"
      },
      "source": [
        "**LINEAR**"
      ]
    },
    {
      "cell_type": "code",
      "metadata": {
        "id": "6Or7X1oJCSI9",
        "colab_type": "code",
        "colab": {
          "base_uri": "https://localhost:8080/",
          "height": 136
        },
        "outputId": "dd10d080-6504-406f-fb8e-4da9dcb18bbc"
      },
      "source": [
        "modelSVM = svm.SVC(C=1.0, kernel='linear', gamma='scale', probability=True)\n",
        "modelSVM.fit(X_train, Y_train)\n",
        "y_pred = modelSVM.predict(X_test)\n",
        "\n",
        "print(\"histogram y_pred\\n\",np.histogram(y_pred))\n",
        "print(\"histogram Y_test\\n\",np.histogram(Y_test))\n",
        "print(\"Confusion Matriks\\n\", cm(Y_test, modelSVM.predict(X_test)))"
      ],
      "execution_count": 47,
      "outputs": [
        {
          "output_type": "stream",
          "text": [
            "histogram y_pred\n",
            " (array([55,  0,  0,  0,  0,  0,  0,  0,  0, 53]), array([0. , 0.1, 0.2, 0.3, 0.4, 0.5, 0.6, 0.7, 0.8, 0.9, 1. ]))\n",
            "histogram Y_test\n",
            " (array([55,  0,  0,  0,  0,  0,  0,  0,  0, 53]), array([0. , 0.1, 0.2, 0.3, 0.4, 0.5, 0.6, 0.7, 0.8, 0.9, 1. ]))\n",
            "Confusion Matriks\n",
            " [[35 20]\n",
            " [20 33]]\n"
          ],
          "name": "stdout"
        }
      ]
    },
    {
      "cell_type": "code",
      "metadata": {
        "id": "WclIbfeYCVY3",
        "colab_type": "code",
        "colab": {
          "base_uri": "https://localhost:8080/",
          "height": 204
        },
        "outputId": "4041237b-185d-4296-e9bb-5be44744aee0"
      },
      "source": [
        "print(\"Classification Report:\\n\", classification_report(Y_test,y_pred))\n",
        "print(\"Accuracy Score: \", accuracy_score(np.delete(Y_test, np.where(np.isnan(X_test).any(axis=1))), y_pred))"
      ],
      "execution_count": 48,
      "outputs": [
        {
          "output_type": "stream",
          "text": [
            "Classification Report:\n",
            "               precision    recall  f1-score   support\n",
            "\n",
            "           0       0.64      0.64      0.64        55\n",
            "           1       0.62      0.62      0.62        53\n",
            "\n",
            "    accuracy                           0.63       108\n",
            "   macro avg       0.63      0.63      0.63       108\n",
            "weighted avg       0.63      0.63      0.63       108\n",
            "\n",
            "Accuracy Score:  0.6296296296296297\n"
          ],
          "name": "stdout"
        }
      ]
    }
  ]
}