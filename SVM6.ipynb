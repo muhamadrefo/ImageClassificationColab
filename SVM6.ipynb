{
  "nbformat": 4,
  "nbformat_minor": 0,
  "metadata": {
    "colab": {
      "name": "SVM6.ipynb",
      "provenance": [],
      "authorship_tag": "ABX9TyOrzOx+aC5iWeCvslshYYLa",
      "include_colab_link": true
    },
    "kernelspec": {
      "name": "python3",
      "display_name": "Python 3"
    }
  },
  "cells": [
    {
      "cell_type": "markdown",
      "metadata": {
        "id": "view-in-github",
        "colab_type": "text"
      },
      "source": [
        "<a href=\"https://colab.research.google.com/github/muhamadrefo/ImageClassificationColab/blob/master/SVM6.ipynb\" target=\"_parent\"><img src=\"https://colab.research.google.com/assets/colab-badge.svg\" alt=\"Open In Colab\"/></a>"
      ]
    },
    {
      "cell_type": "code",
      "metadata": {
        "id": "RiPoIdJLMe2m",
        "colab_type": "code",
        "colab": {
          "base_uri": "https://localhost:8080/",
          "height": 122
        },
        "outputId": "a61ecbb2-3f1a-4c7c-ca26-3305adf0151c"
      },
      "source": [
        "from google.colab import drive\n",
        "drive.mount('/content/drive')"
      ],
      "execution_count": 1,
      "outputs": [
        {
          "output_type": "stream",
          "text": [
            "Go to this URL in a browser: https://accounts.google.com/o/oauth2/auth?client_id=947318989803-6bn6qk8qdgf4n4g3pfee6491hc0brc4i.apps.googleusercontent.com&redirect_uri=urn%3aietf%3awg%3aoauth%3a2.0%3aoob&response_type=code&scope=email%20https%3a%2f%2fwww.googleapis.com%2fauth%2fdocs.test%20https%3a%2f%2fwww.googleapis.com%2fauth%2fdrive%20https%3a%2f%2fwww.googleapis.com%2fauth%2fdrive.photos.readonly%20https%3a%2f%2fwww.googleapis.com%2fauth%2fpeopleapi.readonly\n",
            "\n",
            "Enter your authorization code:\n",
            "··········\n",
            "Mounted at /content/drive\n"
          ],
          "name": "stdout"
        }
      ]
    },
    {
      "cell_type": "code",
      "metadata": {
        "id": "86xHQXXoRqMV",
        "colab_type": "code",
        "colab": {}
      },
      "source": [
        "#Importing Packages\n",
        "import pandas as pd\n",
        "import numpy as np\n",
        "import matplotlib.pyplot as plt\n",
        "import csv\n",
        "from sklearn.svm import SVC\n",
        "from sklearn.metrics import accuracy_score, precision_score, recall_score\n",
        "from sklearn.metrics import confusion_matrix as cm\n",
        "from sklearn import model_selection\n",
        "from sklearn.model_selection import train_test_split as tt, GridSearchCV\n",
        "from sklearn.metrics import classification_report\n",
        "%matplotlib inline"
      ],
      "execution_count": 2,
      "outputs": []
    },
    {
      "cell_type": "code",
      "metadata": {
        "id": "V6Zca092Ruzq",
        "colab_type": "code",
        "colab": {
          "base_uri": "https://localhost:8080/",
          "height": 34
        },
        "outputId": "2f82a776-6887-41d6-f45a-aff31fa37bd3"
      },
      "source": [
        "%cd /content/drive/My Drive/TestingPlace/PlaceofDatabase/CNN/"
      ],
      "execution_count": 3,
      "outputs": [
        {
          "output_type": "stream",
          "text": [
            "/content/drive/My Drive/TestingPlace/PlaceofDatabase/CNN\n"
          ],
          "name": "stdout"
        }
      ]
    },
    {
      "cell_type": "code",
      "metadata": {
        "id": "Pn2wnS_pRxPH",
        "colab_type": "code",
        "colab": {}
      },
      "source": [
        "#Read Dataset\n",
        "dataTrain = pd.read_csv('DataTraining.csv')\n",
        "dataValid = pd.read_csv('DataValidation.csv')"
      ],
      "execution_count": 4,
      "outputs": []
    },
    {
      "cell_type": "code",
      "metadata": {
        "id": "-vjZPDkJTo_c",
        "colab_type": "code",
        "colab": {}
      },
      "source": [
        "X = dataTrain.iloc[:, 1:6].values\n",
        "Y = dataTrain.iloc[:, 7].values\n",
        "X_train, X_test, y_train, y_test = tt(X,y, test_size= 0.2, random_state=3)\n",
        "\n",
        "#SVM Linear\n",
        "def Linear():\n",
        "  model = SVC(kernel='linear', C=100.0 , gamma=10)\n",
        "  return model\n",
        "\n",
        "#SVM Gaussian \n",
        "def RBF():\n",
        "  model = SVC(kernel='rbf', C=100.0 , gamma=10)\n",
        "  return model\n",
        "\n",
        "#SVM Polynomial\n",
        "def Poly():\n",
        "  model = SVC(kernel='poly', degree=8, C=100.0 , gamma=10)\n",
        "  return model\n",
        "\n",
        "#SVM Sigmoid\n",
        "def Sigmoid():\n",
        "  model = SVC(kernel='sigmoid', C=100.0 , gamma=10)\n",
        "  return model\n",
        "\n",
        "def runLin():\n",
        "  model = Linear()\n",
        "  model.fit(X_train, y_train)\n",
        "  y_pred = model.predict(X_test)\n",
        "  print('Accuracy Score: ', accuracy_score(y_test, y_pred)*100)\n",
        "  print('Confussion matrix: \\n', cm(y_test, y_pred))\n",
        "  print('Classification report: \\n', classification_report(y_test, y_pred))\n",
        "\n",
        "def runSig():\n",
        "  model = Sigmoid()\n",
        "  model.fit(X_train, y_train)\n",
        "  y_pred = model.predict(X_test)\n",
        "  print('Accuracy Score: ', accuracy_score(y_test, y_pred)*100)\n",
        "  print('Confussion matrix: \\n', cm(y_test, y_pred))\n",
        "  print('Classification report: \\n', classification_report(y_test, y_pred))\n",
        "\n",
        "def runGauss():\n",
        "  model = RBF()\n",
        "  model.fit(X_train, y_train)\n",
        "  y_pred = model.predict(X_test)\n",
        "  print('Accuracy Score: ', accuracy_score(y_test, y_pred)*100)\n",
        "  print('Confussion matrix: \\n', cm(y_test, y_pred))\n",
        "  print('Classification report: \\n', classification_report(y_test, y_pred))\n",
        "\n",
        "def runPoly():\n",
        "  model = Poly()\n",
        "  model.fit(X_train, y_train)\n",
        "  y_pred = model.predict(X_test)\n",
        "  print('Accuracy Score: ', accuracy_score(y_test, y_pred)*100)\n",
        "  print('Confussion matrix: \\n', cm(y_test, y_pred))\n",
        "  print('Classification report: \\n', classification_report(y_test, y_pred))"
      ],
      "execution_count": 12,
      "outputs": []
    },
    {
      "cell_type": "code",
      "metadata": {
        "id": "nt4kyXktT9yu",
        "colab_type": "code",
        "colab": {
          "base_uri": "https://localhost:8080/",
          "height": 255
        },
        "outputId": "72ab1862-c583-486f-cec0-bb3e8af91e17"
      },
      "source": [
        "runLin()"
      ],
      "execution_count": 13,
      "outputs": [
        {
          "output_type": "stream",
          "text": [
            "Accuracy Score:  75.29411764705883\n",
            "Confussion matrix: \n",
            " [[27 16]\n",
            " [ 5 37]]\n",
            "Classification report: \n",
            "               precision    recall  f1-score   support\n",
            "\n",
            "         cap       0.84      0.63      0.72        43\n",
            "       tulis       0.70      0.88      0.78        42\n",
            "\n",
            "    accuracy                           0.75        85\n",
            "   macro avg       0.77      0.75      0.75        85\n",
            "weighted avg       0.77      0.75      0.75        85\n",
            "\n"
          ],
          "name": "stdout"
        }
      ]
    },
    {
      "cell_type": "code",
      "metadata": {
        "id": "o9MDgxz7UrrF",
        "colab_type": "code",
        "colab": {
          "base_uri": "https://localhost:8080/",
          "height": 309
        },
        "outputId": "c6c93d91-962e-43a7-cc7b-084d7eb87761"
      },
      "source": [
        "runSig()"
      ],
      "execution_count": 14,
      "outputs": [
        {
          "output_type": "stream",
          "text": [
            "Accuracy Score:  50.588235294117645\n",
            "Confussion matrix: \n",
            " [[43  0]\n",
            " [42  0]]\n",
            "Classification report: \n",
            "               precision    recall  f1-score   support\n",
            "\n",
            "         cap       0.51      1.00      0.67        43\n",
            "       tulis       0.00      0.00      0.00        42\n",
            "\n",
            "    accuracy                           0.51        85\n",
            "   macro avg       0.25      0.50      0.34        85\n",
            "weighted avg       0.26      0.51      0.34        85\n",
            "\n"
          ],
          "name": "stdout"
        },
        {
          "output_type": "stream",
          "text": [
            "/usr/local/lib/python3.6/dist-packages/sklearn/metrics/_classification.py:1272: UndefinedMetricWarning: Precision and F-score are ill-defined and being set to 0.0 in labels with no predicted samples. Use `zero_division` parameter to control this behavior.\n",
            "  _warn_prf(average, modifier, msg_start, len(result))\n"
          ],
          "name": "stderr"
        }
      ]
    },
    {
      "cell_type": "code",
      "metadata": {
        "id": "YgSl9qyuUvBO",
        "colab_type": "code",
        "colab": {
          "base_uri": "https://localhost:8080/",
          "height": 255
        },
        "outputId": "fdfe5d7b-9254-4a38-d052-431651108fcd"
      },
      "source": [
        "runPoly()"
      ],
      "execution_count": 15,
      "outputs": [
        {
          "output_type": "stream",
          "text": [
            "Accuracy Score:  89.41176470588236\n",
            "Confussion matrix: \n",
            " [[36  7]\n",
            " [ 2 40]]\n",
            "Classification report: \n",
            "               precision    recall  f1-score   support\n",
            "\n",
            "         cap       0.95      0.84      0.89        43\n",
            "       tulis       0.85      0.95      0.90        42\n",
            "\n",
            "    accuracy                           0.89        85\n",
            "   macro avg       0.90      0.89      0.89        85\n",
            "weighted avg       0.90      0.89      0.89        85\n",
            "\n"
          ],
          "name": "stdout"
        }
      ]
    },
    {
      "cell_type": "code",
      "metadata": {
        "id": "_gls6ExiUyDt",
        "colab_type": "code",
        "colab": {
          "base_uri": "https://localhost:8080/",
          "height": 255
        },
        "outputId": "e14225a2-85e1-43b0-9ddb-9ec3d10cc42f"
      },
      "source": [
        "runGauss()"
      ],
      "execution_count": 16,
      "outputs": [
        {
          "output_type": "stream",
          "text": [
            "Accuracy Score:  90.58823529411765\n",
            "Confussion matrix: \n",
            " [[36  7]\n",
            " [ 1 41]]\n",
            "Classification report: \n",
            "               precision    recall  f1-score   support\n",
            "\n",
            "         cap       0.97      0.84      0.90        43\n",
            "       tulis       0.85      0.98      0.91        42\n",
            "\n",
            "    accuracy                           0.91        85\n",
            "   macro avg       0.91      0.91      0.91        85\n",
            "weighted avg       0.91      0.91      0.91        85\n",
            "\n"
          ],
          "name": "stdout"
        }
      ]
    }
  ]
}