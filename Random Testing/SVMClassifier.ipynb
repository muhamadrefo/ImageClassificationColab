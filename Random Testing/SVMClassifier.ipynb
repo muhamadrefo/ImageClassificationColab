{
  "nbformat": 4,
  "nbformat_minor": 0,
  "metadata": {
    "colab": {
      "name": "SVM #1.ipynb",
      "provenance": [],
      "authorship_tag": "ABX9TyOMZwJHYCBcqTMwL8DDox27",
      "include_colab_link": true
    },
    "kernelspec": {
      "name": "python3",
      "display_name": "Python 3"
    }
  },
  "cells": [
    {
      "cell_type": "markdown",
      "metadata": {
        "id": "view-in-github",
        "colab_type": "text"
      },
      "source": [
        "<a href=\"https://colab.research.google.com/github/muhamadrefo/ImageClassificationColab/blob/master/SVMClassifier.ipynb\" target=\"_parent\"><img src=\"https://colab.research.google.com/assets/colab-badge.svg\" alt=\"Open In Colab\"/></a>"
      ]
    },
    {
      "cell_type": "markdown",
      "metadata": {
        "id": "fyLMpu_UAq6i",
        "colab_type": "text"
      },
      "source": [
        "# Prepare Environment"
      ]
    },
    {
      "cell_type": "code",
      "metadata": {
        "id": "CiUuRv1c30mt",
        "colab_type": "code",
        "colab": {
          "base_uri": "https://localhost:8080/",
          "height": 122
        },
        "outputId": "88f35f8f-ee84-43ef-ee75-2ad171806108"
      },
      "source": [
        "from google.colab import drive\n",
        "drive.mount('/content/drive')"
      ],
      "execution_count": 1,
      "outputs": [
        {
          "output_type": "stream",
          "text": [
            "Go to this URL in a browser: https://accounts.google.com/o/oauth2/auth?client_id=947318989803-6bn6qk8qdgf4n4g3pfee6491hc0brc4i.apps.googleusercontent.com&redirect_uri=urn%3aietf%3awg%3aoauth%3a2.0%3aoob&response_type=code&scope=email%20https%3a%2f%2fwww.googleapis.com%2fauth%2fdocs.test%20https%3a%2f%2fwww.googleapis.com%2fauth%2fdrive%20https%3a%2f%2fwww.googleapis.com%2fauth%2fdrive.photos.readonly%20https%3a%2f%2fwww.googleapis.com%2fauth%2fpeopleapi.readonly\n",
            "\n",
            "Enter your authorization code:\n",
            "··········\n",
            "Mounted at /content/drive\n"
          ],
          "name": "stdout"
        }
      ]
    },
    {
      "cell_type": "code",
      "metadata": {
        "id": "G78OgM5j5DEc",
        "colab_type": "code",
        "colab": {}
      },
      "source": [
        "#Importing Packages\n",
        "\n",
        "import numpy as np\n",
        "import matplotlib.pyplot as plt\n",
        "import csv\n",
        "from sklearn import svm\n",
        "from sklearn.metrics import accuracy_score\n",
        "from sklearn.metrics import confusion_matrix as cm\n",
        "from sklearn import model_selection\n",
        "from sklearn.model_selection import train_test_split as tt\n",
        "from sklearn.metrics import classification_report"
      ],
      "execution_count": 3,
      "outputs": []
    },
    {
      "cell_type": "code",
      "metadata": {
        "id": "6cZmjOAO5DCH",
        "colab_type": "code",
        "colab": {
          "base_uri": "https://localhost:8080/",
          "height": 34
        },
        "outputId": "956a1550-c3ce-4942-e1c2-d7d38620b034"
      },
      "source": [
        "#filtered dataset\n",
        "%cd /content/drive/My Drive/TestingPlace/PlaceofDatabase/CNN/\n",
        "\n",
        "#Unfilter dataset\n",
        "#%cd /content/drive/My Drive/Batik/"
      ],
      "execution_count": 2,
      "outputs": [
        {
          "output_type": "stream",
          "text": [
            "/content/drive/My Drive/TestingPlace/PlaceofDatabase/CNN\n"
          ],
          "name": "stdout"
        }
      ]
    },
    {
      "cell_type": "markdown",
      "metadata": {
        "id": "d2fu42h8A2fL",
        "colab_type": "text"
      },
      "source": [
        "# Reading the Dataset"
      ]
    },
    {
      "cell_type": "code",
      "metadata": {
        "id": "I4mT2TKQ5C_p",
        "colab_type": "code",
        "colab": {}
      },
      "source": [
        "import pandas as pd\n",
        "#data = pd.read_csv('DataValidation.csv')\n",
        "data = pd.read_csv('DataTraining.csv')"
      ],
      "execution_count": 4,
      "outputs": []
    },
    {
      "cell_type": "markdown",
      "metadata": {
        "id": "OcyxpYgtBH5h",
        "colab_type": "text"
      },
      "source": [
        "#Encoding the Categorical Data"
      ]
    },
    {
      "cell_type": "code",
      "metadata": {
        "id": "aps7B19d5C6O",
        "colab_type": "code",
        "colab": {
          "base_uri": "https://localhost:8080/",
          "height": 514
        },
        "outputId": "2164b6d6-9553-4cc1-e547-e0616a94a683"
      },
      "source": [
        "from sklearn.preprocessing import LabelEncoder\n",
        "le = LabelEncoder()\n",
        "df = data.apply(le.fit_transform)\n",
        "df.head(15)"
      ],
      "execution_count": 5,
      "outputs": [
        {
          "output_type": "execute_result",
          "data": {
            "text/html": [
              "<div>\n",
              "<style scoped>\n",
              "    .dataframe tbody tr th:only-of-type {\n",
              "        vertical-align: middle;\n",
              "    }\n",
              "\n",
              "    .dataframe tbody tr th {\n",
              "        vertical-align: top;\n",
              "    }\n",
              "\n",
              "    .dataframe thead th {\n",
              "        text-align: right;\n",
              "    }\n",
              "</style>\n",
              "<table border=\"1\" class=\"dataframe\">\n",
              "  <thead>\n",
              "    <tr style=\"text-align: right;\">\n",
              "      <th></th>\n",
              "      <th>Path</th>\n",
              "      <th>Dissimilarity</th>\n",
              "      <th>Contrast</th>\n",
              "      <th>Homogeneity</th>\n",
              "      <th>Energy</th>\n",
              "      <th>Correlation</th>\n",
              "      <th>ASM</th>\n",
              "      <th>Label</th>\n",
              "    </tr>\n",
              "  </thead>\n",
              "  <tbody>\n",
              "    <tr>\n",
              "      <th>0</th>\n",
              "      <td>20</td>\n",
              "      <td>299</td>\n",
              "      <td>273</td>\n",
              "      <td>104</td>\n",
              "      <td>118</td>\n",
              "      <td>65</td>\n",
              "      <td>118</td>\n",
              "      <td>0</td>\n",
              "    </tr>\n",
              "    <tr>\n",
              "      <th>1</th>\n",
              "      <td>17</td>\n",
              "      <td>243</td>\n",
              "      <td>195</td>\n",
              "      <td>154</td>\n",
              "      <td>153</td>\n",
              "      <td>97</td>\n",
              "      <td>153</td>\n",
              "      <td>0</td>\n",
              "    </tr>\n",
              "    <tr>\n",
              "      <th>2</th>\n",
              "      <td>18</td>\n",
              "      <td>277</td>\n",
              "      <td>247</td>\n",
              "      <td>123</td>\n",
              "      <td>149</td>\n",
              "      <td>60</td>\n",
              "      <td>149</td>\n",
              "      <td>0</td>\n",
              "    </tr>\n",
              "    <tr>\n",
              "      <th>3</th>\n",
              "      <td>19</td>\n",
              "      <td>288</td>\n",
              "      <td>244</td>\n",
              "      <td>107</td>\n",
              "      <td>159</td>\n",
              "      <td>50</td>\n",
              "      <td>159</td>\n",
              "      <td>0</td>\n",
              "    </tr>\n",
              "    <tr>\n",
              "      <th>4</th>\n",
              "      <td>16</td>\n",
              "      <td>285</td>\n",
              "      <td>250</td>\n",
              "      <td>114</td>\n",
              "      <td>120</td>\n",
              "      <td>98</td>\n",
              "      <td>120</td>\n",
              "      <td>0</td>\n",
              "    </tr>\n",
              "    <tr>\n",
              "      <th>5</th>\n",
              "      <td>14</td>\n",
              "      <td>309</td>\n",
              "      <td>294</td>\n",
              "      <td>97</td>\n",
              "      <td>119</td>\n",
              "      <td>59</td>\n",
              "      <td>119</td>\n",
              "      <td>0</td>\n",
              "    </tr>\n",
              "    <tr>\n",
              "      <th>6</th>\n",
              "      <td>15</td>\n",
              "      <td>256</td>\n",
              "      <td>217</td>\n",
              "      <td>137</td>\n",
              "      <td>175</td>\n",
              "      <td>67</td>\n",
              "      <td>175</td>\n",
              "      <td>0</td>\n",
              "    </tr>\n",
              "    <tr>\n",
              "      <th>7</th>\n",
              "      <td>9</td>\n",
              "      <td>310</td>\n",
              "      <td>293</td>\n",
              "      <td>91</td>\n",
              "      <td>134</td>\n",
              "      <td>35</td>\n",
              "      <td>134</td>\n",
              "      <td>0</td>\n",
              "    </tr>\n",
              "    <tr>\n",
              "      <th>8</th>\n",
              "      <td>10</td>\n",
              "      <td>279</td>\n",
              "      <td>245</td>\n",
              "      <td>118</td>\n",
              "      <td>127</td>\n",
              "      <td>73</td>\n",
              "      <td>127</td>\n",
              "      <td>0</td>\n",
              "    </tr>\n",
              "    <tr>\n",
              "      <th>9</th>\n",
              "      <td>12</td>\n",
              "      <td>249</td>\n",
              "      <td>201</td>\n",
              "      <td>144</td>\n",
              "      <td>163</td>\n",
              "      <td>94</td>\n",
              "      <td>163</td>\n",
              "      <td>0</td>\n",
              "    </tr>\n",
              "    <tr>\n",
              "      <th>10</th>\n",
              "      <td>11</td>\n",
              "      <td>252</td>\n",
              "      <td>216</td>\n",
              "      <td>145</td>\n",
              "      <td>151</td>\n",
              "      <td>93</td>\n",
              "      <td>151</td>\n",
              "      <td>0</td>\n",
              "    </tr>\n",
              "    <tr>\n",
              "      <th>11</th>\n",
              "      <td>13</td>\n",
              "      <td>211</td>\n",
              "      <td>189</td>\n",
              "      <td>194</td>\n",
              "      <td>285</td>\n",
              "      <td>201</td>\n",
              "      <td>285</td>\n",
              "      <td>0</td>\n",
              "    </tr>\n",
              "    <tr>\n",
              "      <th>12</th>\n",
              "      <td>8</td>\n",
              "      <td>280</td>\n",
              "      <td>252</td>\n",
              "      <td>120</td>\n",
              "      <td>138</td>\n",
              "      <td>64</td>\n",
              "      <td>138</td>\n",
              "      <td>0</td>\n",
              "    </tr>\n",
              "    <tr>\n",
              "      <th>13</th>\n",
              "      <td>7</td>\n",
              "      <td>293</td>\n",
              "      <td>259</td>\n",
              "      <td>106</td>\n",
              "      <td>141</td>\n",
              "      <td>57</td>\n",
              "      <td>141</td>\n",
              "      <td>0</td>\n",
              "    </tr>\n",
              "    <tr>\n",
              "      <th>14</th>\n",
              "      <td>6</td>\n",
              "      <td>220</td>\n",
              "      <td>199</td>\n",
              "      <td>182</td>\n",
              "      <td>317</td>\n",
              "      <td>38</td>\n",
              "      <td>317</td>\n",
              "      <td>0</td>\n",
              "    </tr>\n",
              "  </tbody>\n",
              "</table>\n",
              "</div>"
            ],
            "text/plain": [
              "    Path  Dissimilarity  Contrast  Homogeneity  Energy  Correlation  ASM  Label\n",
              "0     20            299       273          104     118           65  118      0\n",
              "1     17            243       195          154     153           97  153      0\n",
              "2     18            277       247          123     149           60  149      0\n",
              "3     19            288       244          107     159           50  159      0\n",
              "4     16            285       250          114     120           98  120      0\n",
              "5     14            309       294           97     119           59  119      0\n",
              "6     15            256       217          137     175           67  175      0\n",
              "7      9            310       293           91     134           35  134      0\n",
              "8     10            279       245          118     127           73  127      0\n",
              "9     12            249       201          144     163           94  163      0\n",
              "10    11            252       216          145     151           93  151      0\n",
              "11    13            211       189          194     285          201  285      0\n",
              "12     8            280       252          120     138           64  138      0\n",
              "13     7            293       259          106     141           57  141      0\n",
              "14     6            220       199          182     317           38  317      0"
            ]
          },
          "metadata": {
            "tags": []
          },
          "execution_count": 5
        }
      ]
    },
    {
      "cell_type": "markdown",
      "metadata": {
        "id": "Wv2vCsIJBMtE",
        "colab_type": "text"
      },
      "source": [
        "#Splitting the Data into Training and Testing Data"
      ]
    },
    {
      "cell_type": "code",
      "metadata": {
        "id": "6ouKCaD55C2k",
        "colab_type": "code",
        "colab": {}
      },
      "source": [
        "X = df.iloc[:, 1:6].values\n",
        "Y = df.iloc[:, 7].values\n",
        "X_train, X_test, Y_train, Y_test = tt(X,Y, test_size=0.2, random_state=4)"
      ],
      "execution_count": 6,
      "outputs": []
    },
    {
      "cell_type": "code",
      "metadata": {
        "id": "kUbZXSyE7LwF",
        "colab_type": "code",
        "colab": {
          "base_uri": "https://localhost:8080/",
          "height": 136
        },
        "outputId": "1c358b94-ecbc-4b7f-c913-4ec600c5dbba"
      },
      "source": [
        "X_train"
      ],
      "execution_count": 7,
      "outputs": [
        {
          "output_type": "execute_result",
          "data": {
            "text/plain": [
              "array([[357, 359,  58,  47, 259],\n",
              "       [106,  85, 302, 231, 246],\n",
              "       [232, 242, 188,  72, 399],\n",
              "       ...,\n",
              "       [359, 356,  56, 167,   8],\n",
              "       [241, 246, 176, 188, 179],\n",
              "       [265, 258, 143, 125, 128]])"
            ]
          },
          "metadata": {
            "tags": []
          },
          "execution_count": 7
        }
      ]
    },
    {
      "cell_type": "code",
      "metadata": {
        "id": "eP8c5q0n7LkL",
        "colab_type": "code",
        "colab": {
          "base_uri": "https://localhost:8080/",
          "height": 34
        },
        "outputId": "62ddc1eb-22fc-46b8-c450-ff04c54d141f"
      },
      "source": [
        "X_train.shape"
      ],
      "execution_count": 8,
      "outputs": [
        {
          "output_type": "execute_result",
          "data": {
            "text/plain": [
              "(340, 5)"
            ]
          },
          "metadata": {
            "tags": []
          },
          "execution_count": 8
        }
      ]
    },
    {
      "cell_type": "markdown",
      "metadata": {
        "id": "TUczMCqoBSUN",
        "colab_type": "text"
      },
      "source": [
        "#Model SVM Start Here"
      ]
    },
    {
      "cell_type": "markdown",
      "metadata": {
        "id": "8W0WBT_qHavL",
        "colab_type": "text"
      },
      "source": [
        "**Polynomial**"
      ]
    },
    {
      "cell_type": "code",
      "metadata": {
        "id": "LngIfpvk5Cxn",
        "colab_type": "code",
        "colab": {}
      },
      "source": [
        "# Kernel Polynomial\n",
        "modelSVM = svm.SVC(C=1.0, kernel='poly', gamma='scale', probability=True)\n",
        "modelSVM.fit(X_train, Y_train)\n",
        "y_pred = modelSVM.predict(X_test)"
      ],
      "execution_count": 9,
      "outputs": []
    },
    {
      "cell_type": "code",
      "metadata": {
        "id": "JRGU0UBs7sM7",
        "colab_type": "code",
        "colab": {
          "base_uri": "https://localhost:8080/",
          "height": 136
        },
        "outputId": "02f4f4a4-8904-4fd0-d23c-671e23853027"
      },
      "source": [
        "print(\"histogram y_pred\\n\",np.histogram(y_pred))\n",
        "print(\"histogram Y_test\\n\",np.histogram(Y_test))\n",
        "print(\"Confusion Matriks\\n\", cm(Y_test, modelSVM.predict(X_test)))"
      ],
      "execution_count": 10,
      "outputs": [
        {
          "output_type": "stream",
          "text": [
            "histogram y_pred\n",
            " (array([45,  0,  0,  0,  0,  0,  0,  0,  0, 40]), array([0. , 0.1, 0.2, 0.3, 0.4, 0.5, 0.6, 0.7, 0.8, 0.9, 1. ]))\n",
            "histogram Y_test\n",
            " (array([49,  0,  0,  0,  0,  0,  0,  0,  0, 36]), array([0. , 0.1, 0.2, 0.3, 0.4, 0.5, 0.6, 0.7, 0.8, 0.9, 1. ]))\n",
            "Confusion Matriks\n",
            " [[43  6]\n",
            " [ 2 34]]\n"
          ],
          "name": "stdout"
        }
      ]
    },
    {
      "cell_type": "code",
      "metadata": {
        "id": "KeZCao7g7ruz",
        "colab_type": "code",
        "colab": {
          "base_uri": "https://localhost:8080/",
          "height": 187
        },
        "outputId": "1d7f7a23-f002-4510-d1d0-0516d566bf67"
      },
      "source": [
        "print(\"Classification Report:\\n\", classification_report(Y_test,y_pred))"
      ],
      "execution_count": 11,
      "outputs": [
        {
          "output_type": "stream",
          "text": [
            "Classification Report:\n",
            "               precision    recall  f1-score   support\n",
            "\n",
            "           0       0.96      0.88      0.91        49\n",
            "           1       0.85      0.94      0.89        36\n",
            "\n",
            "    accuracy                           0.91        85\n",
            "   macro avg       0.90      0.91      0.90        85\n",
            "weighted avg       0.91      0.91      0.91        85\n",
            "\n"
          ],
          "name": "stdout"
        }
      ]
    },
    {
      "cell_type": "code",
      "metadata": {
        "id": "T-hgOXGP-OJ5",
        "colab_type": "code",
        "colab": {
          "base_uri": "https://localhost:8080/",
          "height": 34
        },
        "outputId": "fd9f2262-cc1b-4b0d-e631-899441c2694d"
      },
      "source": [
        "print(\"Accuracy Score: \", accuracy_score(np.delete(Y_test, np.where(np.isnan(X_test).any(axis=1))), y_pred))"
      ],
      "execution_count": 12,
      "outputs": [
        {
          "output_type": "stream",
          "text": [
            "Accuracy Score:  0.9058823529411765\n"
          ],
          "name": "stdout"
        }
      ]
    },
    {
      "cell_type": "markdown",
      "metadata": {
        "id": "K6xnQ1Z1Hf1F",
        "colab_type": "text"
      },
      "source": [
        "**RBF**"
      ]
    },
    {
      "cell_type": "code",
      "metadata": {
        "id": "gHQL4d59BlYz",
        "colab_type": "code",
        "colab": {
          "base_uri": "https://localhost:8080/",
          "height": 136
        },
        "outputId": "bb36c8f7-7683-492f-e103-a7d5397addb1"
      },
      "source": [
        "modelSVM = svm.SVC(C=1.0, kernel='rbf', gamma='scale', probability=True)\n",
        "modelSVM.fit(X_train, Y_train)\n",
        "y_pred = modelSVM.predict(X_test)\n",
        "\n",
        "print(\"histogram y_pred\\n\",np.histogram(y_pred))\n",
        "print(\"histogram Y_test\\n\",np.histogram(Y_test))\n",
        "print(\"Confusion Matriks\\n\", cm(Y_test, modelSVM.predict(X_test)))"
      ],
      "execution_count": 13,
      "outputs": [
        {
          "output_type": "stream",
          "text": [
            "histogram y_pred\n",
            " (array([42,  0,  0,  0,  0,  0,  0,  0,  0, 43]), array([0. , 0.1, 0.2, 0.3, 0.4, 0.5, 0.6, 0.7, 0.8, 0.9, 1. ]))\n",
            "histogram Y_test\n",
            " (array([49,  0,  0,  0,  0,  0,  0,  0,  0, 36]), array([0. , 0.1, 0.2, 0.3, 0.4, 0.5, 0.6, 0.7, 0.8, 0.9, 1. ]))\n",
            "Confusion Matriks\n",
            " [[40  9]\n",
            " [ 2 34]]\n"
          ],
          "name": "stdout"
        }
      ]
    },
    {
      "cell_type": "code",
      "metadata": {
        "id": "QVlyg80iBk9j",
        "colab_type": "code",
        "colab": {
          "base_uri": "https://localhost:8080/",
          "height": 204
        },
        "outputId": "b54f8aec-174d-40f1-f774-9c444f7640da"
      },
      "source": [
        "print(\"Classification Report:\\n\", classification_report(Y_test,y_pred))\n",
        "print(\"Accuracy Score: \", accuracy_score(np.delete(Y_test, np.where(np.isnan(X_test).any(axis=1))), y_pred))"
      ],
      "execution_count": 14,
      "outputs": [
        {
          "output_type": "stream",
          "text": [
            "Classification Report:\n",
            "               precision    recall  f1-score   support\n",
            "\n",
            "           0       0.95      0.82      0.88        49\n",
            "           1       0.79      0.94      0.86        36\n",
            "\n",
            "    accuracy                           0.87        85\n",
            "   macro avg       0.87      0.88      0.87        85\n",
            "weighted avg       0.88      0.87      0.87        85\n",
            "\n",
            "Accuracy Score:  0.8705882352941177\n"
          ],
          "name": "stdout"
        }
      ]
    },
    {
      "cell_type": "markdown",
      "metadata": {
        "id": "ftXsQ3B4HkcQ",
        "colab_type": "text"
      },
      "source": [
        "**SIGMOID**"
      ]
    },
    {
      "cell_type": "code",
      "metadata": {
        "id": "_OSt9-HSB-jd",
        "colab_type": "code",
        "colab": {
          "base_uri": "https://localhost:8080/",
          "height": 136
        },
        "outputId": "1292d027-7748-4f14-a280-57d7804454b9"
      },
      "source": [
        "modelSVM = svm.SVC(C=1.0, kernel='sigmoid', gamma='scale', probability=True)\n",
        "modelSVM.fit(X_train, Y_train)\n",
        "y_pred = modelSVM.predict(X_test)\n",
        "\n",
        "print(\"histogram y_pred\\n\",np.histogram(y_pred))\n",
        "print(\"histogram Y_test\\n\",np.histogram(Y_test))\n",
        "print(\"Confusion Matriks\\n\", cm(Y_test, modelSVM.predict(X_test)))"
      ],
      "execution_count": 15,
      "outputs": [
        {
          "output_type": "stream",
          "text": [
            "histogram y_pred\n",
            " (array([37,  0,  0,  0,  0,  0,  0,  0,  0, 48]), array([0. , 0.1, 0.2, 0.3, 0.4, 0.5, 0.6, 0.7, 0.8, 0.9, 1. ]))\n",
            "histogram Y_test\n",
            " (array([49,  0,  0,  0,  0,  0,  0,  0,  0, 36]), array([0. , 0.1, 0.2, 0.3, 0.4, 0.5, 0.6, 0.7, 0.8, 0.9, 1. ]))\n",
            "Confusion Matriks\n",
            " [[14 35]\n",
            " [23 13]]\n"
          ],
          "name": "stdout"
        }
      ]
    },
    {
      "cell_type": "code",
      "metadata": {
        "id": "WAw7co_TB-Qc",
        "colab_type": "code",
        "colab": {
          "base_uri": "https://localhost:8080/",
          "height": 204
        },
        "outputId": "e10176f2-fdb8-4874-b614-dd5272a83884"
      },
      "source": [
        "print(\"Classification Report:\\n\", classification_report(Y_test,y_pred))\n",
        "print(\"Accuracy Score: \", accuracy_score(np.delete(Y_test, np.where(np.isnan(X_test).any(axis=1))), y_pred))"
      ],
      "execution_count": 16,
      "outputs": [
        {
          "output_type": "stream",
          "text": [
            "Classification Report:\n",
            "               precision    recall  f1-score   support\n",
            "\n",
            "           0       0.38      0.29      0.33        49\n",
            "           1       0.27      0.36      0.31        36\n",
            "\n",
            "    accuracy                           0.32        85\n",
            "   macro avg       0.32      0.32      0.32        85\n",
            "weighted avg       0.33      0.32      0.32        85\n",
            "\n",
            "Accuracy Score:  0.3176470588235294\n"
          ],
          "name": "stdout"
        }
      ]
    },
    {
      "cell_type": "markdown",
      "metadata": {
        "id": "CkJ45Td9HnRS",
        "colab_type": "text"
      },
      "source": [
        "**LINEAR**"
      ]
    },
    {
      "cell_type": "code",
      "metadata": {
        "id": "6Or7X1oJCSI9",
        "colab_type": "code",
        "colab": {
          "base_uri": "https://localhost:8080/",
          "height": 136
        },
        "outputId": "986068c8-6868-42d7-e073-f49ddd3ff861"
      },
      "source": [
        "modelSVM = svm.SVC(C=1.0, kernel='linear', gamma='scale', probability=True)\n",
        "modelSVM.fit(X_train, Y_train)\n",
        "y_pred = modelSVM.predict(X_test)\n",
        "\n",
        "print(\"histogram y_pred\\n\",np.histogram(y_pred))\n",
        "print(\"histogram Y_test\\n\",np.histogram(Y_test))\n",
        "print(\"Confusion Matriks\\n\", cm(Y_test, modelSVM.predict(X_test)))"
      ],
      "execution_count": 17,
      "outputs": [
        {
          "output_type": "stream",
          "text": [
            "histogram y_pred\n",
            " (array([53,  0,  0,  0,  0,  0,  0,  0,  0, 32]), array([0. , 0.1, 0.2, 0.3, 0.4, 0.5, 0.6, 0.7, 0.8, 0.9, 1. ]))\n",
            "histogram Y_test\n",
            " (array([49,  0,  0,  0,  0,  0,  0,  0,  0, 36]), array([0. , 0.1, 0.2, 0.3, 0.4, 0.5, 0.6, 0.7, 0.8, 0.9, 1. ]))\n",
            "Confusion Matriks\n",
            " [[36 13]\n",
            " [17 19]]\n"
          ],
          "name": "stdout"
        }
      ]
    },
    {
      "cell_type": "code",
      "metadata": {
        "id": "WclIbfeYCVY3",
        "colab_type": "code",
        "colab": {
          "base_uri": "https://localhost:8080/",
          "height": 204
        },
        "outputId": "a0161933-2c2b-48d4-97c4-214482538bcf"
      },
      "source": [
        "print(\"Classification Report:\\n\", classification_report(Y_test,y_pred))\n",
        "print(\"Accuracy Score: \", accuracy_score(np.delete(Y_test, np.where(np.isnan(X_test).any(axis=1))), y_pred))"
      ],
      "execution_count": 18,
      "outputs": [
        {
          "output_type": "stream",
          "text": [
            "Classification Report:\n",
            "               precision    recall  f1-score   support\n",
            "\n",
            "           0       0.68      0.73      0.71        49\n",
            "           1       0.59      0.53      0.56        36\n",
            "\n",
            "    accuracy                           0.65        85\n",
            "   macro avg       0.64      0.63      0.63        85\n",
            "weighted avg       0.64      0.65      0.64        85\n",
            "\n",
            "Accuracy Score:  0.6470588235294118\n"
          ],
          "name": "stdout"
        }
      ]
    },
    {
      "cell_type": "markdown",
      "metadata": {
        "id": "UGzbqpthhA1T",
        "colab_type": "text"
      },
      "source": [
        "#Analytic"
      ]
    },
    {
      "cell_type": "markdown",
      "metadata": {
        "id": "DXnJA3whhCww",
        "colab_type": "text"
      },
      "source": [
        "Using filtered Dataset\n",
        "Accuracy Score Linear: 0.64\n",
        "Accuracy Score Sigmoid:0.31\n",
        "Accuracy Score RBF: 0.87\n",
        "Accuracy Score Polynomial: 0.90\n",
        "\n",
        "Using Unfiltered Dataset\n",
        "Accuracy Score Linear: 0.62\n",
        "Accuracy Score Sigmoid:0.30\n",
        "Accuracy Score RBF: 0.86\n",
        "Accuracy Score Polynomial: 0.89"
      ]
    }
  ]
}