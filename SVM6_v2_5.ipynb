{
  "nbformat": 4,
  "nbformat_minor": 0,
  "metadata": {
    "colab": {
      "name": "SVM6 v2.5.ipynb",
      "provenance": [],
      "collapsed_sections": [],
      "authorship_tag": "ABX9TyOXTga3BpaEu2j1WE4ADHOw",
      "include_colab_link": true
    },
    "kernelspec": {
      "name": "python3",
      "display_name": "Python 3"
    }
  },
  "cells": [
    {
      "cell_type": "markdown",
      "metadata": {
        "id": "view-in-github",
        "colab_type": "text"
      },
      "source": [
        "<a href=\"https://colab.research.google.com/github/muhamadrefo/ImageClassificationColab/blob/master/SVM6_v2_5.ipynb\" target=\"_parent\"><img src=\"https://colab.research.google.com/assets/colab-badge.svg\" alt=\"Open In Colab\"/></a>"
      ]
    },
    {
      "cell_type": "code",
      "metadata": {
        "id": "thaVyHsai5oA",
        "colab_type": "code",
        "colab": {
          "base_uri": "https://localhost:8080/",
          "height": 122
        },
        "outputId": "5d7671a9-b5f2-47a0-c7e8-74d06ce54ae8"
      },
      "source": [
        "from google.colab import drive\n",
        "drive.mount('/content/drive')"
      ],
      "execution_count": 1,
      "outputs": [
        {
          "output_type": "stream",
          "text": [
            "Go to this URL in a browser: https://accounts.google.com/o/oauth2/auth?client_id=947318989803-6bn6qk8qdgf4n4g3pfee6491hc0brc4i.apps.googleusercontent.com&redirect_uri=urn%3aietf%3awg%3aoauth%3a2.0%3aoob&response_type=code&scope=email%20https%3a%2f%2fwww.googleapis.com%2fauth%2fdocs.test%20https%3a%2f%2fwww.googleapis.com%2fauth%2fdrive%20https%3a%2f%2fwww.googleapis.com%2fauth%2fdrive.photos.readonly%20https%3a%2f%2fwww.googleapis.com%2fauth%2fpeopleapi.readonly\n",
            "\n",
            "Enter your authorization code:\n",
            "··········\n",
            "Mounted at /content/drive\n"
          ],
          "name": "stdout"
        }
      ]
    },
    {
      "cell_type": "code",
      "metadata": {
        "id": "OxC2njHfj_I4",
        "colab_type": "code",
        "colab": {
          "base_uri": "https://localhost:8080/",
          "height": 102
        },
        "outputId": "81a1ab53-8d8d-43d6-f2a4-b005378d8c24"
      },
      "source": [
        "#Importing Packages\n",
        "import pandas as pd\n",
        "import numpy as np\n",
        "import matplotlib.pyplot as plt\n",
        "import csv\n",
        "from datetime import datetime\n",
        "from sklearn.svm import SVC\n",
        "from sklearn.metrics import accuracy_score, precision_score, recall_score, precision_recall_fscore_support\n",
        "from sklearn.metrics import confusion_matrix as cm\n",
        "from sklearn import model_selection\n",
        "from sklearn.model_selection import train_test_split as tt, GridSearchCV\n",
        "from sklearn.metrics import classification_report\n",
        "%matplotlib inline\n",
        "\n",
        "%cd /content/drive/My Drive/Batik/SVM/\n",
        "%ls"
      ],
      "execution_count": 2,
      "outputs": [
        {
          "output_type": "stream",
          "text": [
            "/content/drive/My Drive/Batik/SVM\n",
            "\u001b[0m\u001b[01;34mBatikYogya\u001b[0m/         nama_file.csv          RsGauss.csv    RsPolynomial.csv\n",
            "DataGaussian.csv    newDataTraining.csv    RsLinear2.csv  RsSigmoid.csv\n",
            "DataTraining.csv    newDataValidation.csv  RsLinear3.csv  RsTryLinear2.csv\n",
            "DataValidation.csv  PrecisionTryLin.csv    RsLinear.csv\n"
          ],
          "name": "stdout"
        }
      ]
    },
    {
      "cell_type": "code",
      "metadata": {
        "id": "eRXEzc4jkE-L",
        "colab_type": "code",
        "colab": {
          "base_uri": "https://localhost:8080/",
          "height": 261
        },
        "outputId": "925fbf1c-fddd-4ace-a4ba-215775589d92"
      },
      "source": [
        "dTrain = pd.read_csv('newDataTraining.csv')\n",
        "dValid = pd.read_csv('newDataTraining.csv')\n",
        "x = dTrain.iloc[:, 1:6].values\n",
        "y = dTrain.iloc[:, 7].values\n",
        "valDat = dValid.iloc[:, 1:6].values\n",
        "valTarget = dValid.iloc[:, 7].values\n",
        "\n",
        "def pandas_classification_report(y_true, y_pred):\n",
        "        metrics_summary = precision_recall_fscore_support(\n",
        "                y_true=y_true, \n",
        "                y_pred=y_pred)\n",
        "\n",
        "        avg = list(precision_recall_fscore_support(\n",
        "                y_true=y_true, \n",
        "                y_pred=y_pred,\n",
        "                average='weighted'))\n",
        "\n",
        "        metrics_sum_index = ['precision', 'recall', 'f1-score', 'support']\n",
        "\n",
        "        class_report_df = pd.DataFrame(list(metrics_summary),index=metrics_sum_index)\n",
        "        support = class_report_df.loc['support']\n",
        "        total = support.sum() \n",
        "        avg[-1] = total\n",
        "        \n",
        "        # class_report_df = pd.DataFrame(index=metrics_sum_index)\n",
        "        class_report_df['avg / total'] = avg\n",
        "\n",
        "        return class_report_df.T\n",
        "\n",
        "def linear():\n",
        "  model = SVC(kernel='linear')\n",
        "  x_train, x_test, y_train, y_test = tt(x,y, test_size=0.2, random_state=44)\n",
        "  model.fit(x_train, y_train)\n",
        "  y_pred = model.predict(x_test)\n",
        "  valPred = model.predict(valDat)\n",
        "  accT = (np.sum(y_pred == y_test)/ y_test.size)*100\n",
        "  accV = (np.sum(valPred == valTarget)/ valTarget.size)*100\n",
        "  class_report = pandas_classification_report(valTarget, valPred)\n",
        "  print('Accuracy Training    : ', str(accT))\n",
        "  print('Accuracy Validation  : ', str(accV))\n",
        "  print('Class Report         : \\n', str(class_report)) #0 as Cap, 1 as Tulis\n",
        "  class_report.to_csv('LinearReport.csv', header=True)\n",
        "\n",
        "def poly():\n",
        "  model = SVC(kernel='poly')\n",
        "  x_train, x_test, y_train, y_test = tt(x,y, test_size=0.2, random_state=44)\n",
        "  model.fit(x_train, y_train)\n",
        "  y_pred = model.predict(x_test)\n",
        "  valPred = model.predict(valDat)\n",
        "  accT = (np.sum(y_pred == y_test)/ y_test.size)*100\n",
        "  accV = (np.sum(valPred == valTarget)/ valTarget.size)*100\n",
        "  class_report = pandas_classification_report(valTarget, valPred)\n",
        "  print('Accuracy Training    : ', str(accT))\n",
        "  print('Accuracy Validation  : ', str(accV))\n",
        "  print('Class Report         : \\n', str(class_report)) #0 as Cap, 1 as Tulis\n",
        "  class_report.to_csv('PolyReport.csv', header=True)\n",
        "\n",
        "def gaussian():\n",
        "  model = SVC(kernel='rbf')\n",
        "  x_train, x_test, y_train, y_test = tt(x,y, test_size=0.2, random_state=44)\n",
        "  model.fit(x_train, y_train)\n",
        "  y_pred = model.predict(x_test)\n",
        "  valPred = model.predict(valDat)\n",
        "  accT = (np.sum(y_pred == y_test)/ y_test.size)*100\n",
        "  accV = (np.sum(valPred == valTarget)/ valTarget.size)*100\n",
        "  class_report = pandas_classification_report(valTarget, valPred)\n",
        "  print('Accuracy Training    : ', str(accT))\n",
        "  print('Accuracy Validation  : ', str(accV))\n",
        "  print('Class Report         : \\n', str(class_report)) #0 as Cap, 1 as Tulis\n",
        "  class_report.to_csv('GaussianReport.csv', header=True)\n",
        "\n",
        "def sigmoid():\n",
        "  model = SVC(kernel='sigmoid')\n",
        "  x_train, x_test, y_train, y_test = tt(x,y, test_size=0.2, random_state=44)\n",
        "  model.fit(x_train, y_train)\n",
        "  y_pred = model.predict(x_test)\n",
        "  valPred = model.predict(valDat)\n",
        "  accT = (np.sum(y_pred == y_test)/ y_test.size)*100\n",
        "  accV = (np.sum(valPred == valTarget)/ valTarget.size)*100\n",
        "  class_report = pandas_classification_report(valTarget, valPred)\n",
        "  print('Accuracy Training    : ', str(accT))\n",
        "  print('Accuracy Validation  : ', str(accV))\n",
        "  print('Class Report         : \\n', str(class_report)) #0 as Cap, 1 as Tulis\n",
        "  class_report.to_csv('SigmoidReport.csv', header=True)  "
      ],
      "execution_count": 21,
      "outputs": [
        {
          "output_type": "stream",
          "text": [
            "Accuracy Training    :  59.25925925925925\n",
            "Accuracy Validation  :  61.56716417910447\n",
            "Class Report         : \n",
            "              precision    recall  f1-score  support\n",
            "0             0.706897  0.442446  0.544248    278.0\n",
            "1             0.571823  0.802326  0.667742    258.0\n",
            "avg / total   0.641880  0.615672  0.603691    536.0\n"
          ],
          "name": "stdout"
        },
        {
          "output_type": "execute_result",
          "data": {
            "text/html": [
              "<div>\n",
              "<style scoped>\n",
              "    .dataframe tbody tr th:only-of-type {\n",
              "        vertical-align: middle;\n",
              "    }\n",
              "\n",
              "    .dataframe tbody tr th {\n",
              "        vertical-align: top;\n",
              "    }\n",
              "\n",
              "    .dataframe thead th {\n",
              "        text-align: right;\n",
              "    }\n",
              "</style>\n",
              "<table border=\"1\" class=\"dataframe\">\n",
              "  <thead>\n",
              "    <tr style=\"text-align: right;\">\n",
              "      <th></th>\n",
              "      <th>Unnamed: 0</th>\n",
              "      <th>precision</th>\n",
              "      <th>recall</th>\n",
              "      <th>f1-score</th>\n",
              "      <th>support</th>\n",
              "    </tr>\n",
              "  </thead>\n",
              "  <tbody>\n",
              "    <tr>\n",
              "      <th>0</th>\n",
              "      <td>0</td>\n",
              "      <td>0.706897</td>\n",
              "      <td>0.442446</td>\n",
              "      <td>0.544248</td>\n",
              "      <td>278.0</td>\n",
              "    </tr>\n",
              "    <tr>\n",
              "      <th>1</th>\n",
              "      <td>1</td>\n",
              "      <td>0.571823</td>\n",
              "      <td>0.802326</td>\n",
              "      <td>0.667742</td>\n",
              "      <td>258.0</td>\n",
              "    </tr>\n",
              "    <tr>\n",
              "      <th>2</th>\n",
              "      <td>avg / total</td>\n",
              "      <td>0.641880</td>\n",
              "      <td>0.615672</td>\n",
              "      <td>0.603691</td>\n",
              "      <td>536.0</td>\n",
              "    </tr>\n",
              "  </tbody>\n",
              "</table>\n",
              "</div>"
            ],
            "text/plain": [
              "    Unnamed: 0  precision    recall  f1-score  support\n",
              "0            0   0.706897  0.442446  0.544248    278.0\n",
              "1            1   0.571823  0.802326  0.667742    258.0\n",
              "2  avg / total   0.641880  0.615672  0.603691    536.0"
            ]
          },
          "metadata": {
            "tags": []
          },
          "execution_count": 21
        }
      ]
    }
  ]
}